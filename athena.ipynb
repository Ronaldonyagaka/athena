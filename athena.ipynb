{
 "cells": [
  {
   "cell_type": "markdown",
   "metadata": {},
   "source": [
    "# `ATHENA TAKEAWAY ASSIGNMENT`\n",
    "\n",
    "### BY Florence Nguuni"
   ]
  },
  {
   "cell_type": "markdown",
   "metadata": {},
   "source": [
    "\n",
    "\n",
    "1. **Funded Amount vs. Loan Amount Ratio:**\n",
    "   - **Metric**: Calculate the ratio of funded amount to loan amount for each loan. This can be expressed as a percentage.\n",
    "   - **Explanation**: This metric provides insight into the extent to which loans are being fully funded. A high ratio indicates that most loans are fully funded, while a low ratio suggests that loans are typically underfunded.\n",
    "   - **Pros**:\n",
    "     - Helps identify the effectiveness of fundraising efforts.\n",
    "     - Can highlight potential issues with loan funding that may require adjustments.\n",
    "   - **Cons**:\n",
    "     - It doesn't take into account the impact of loan terms or interest rates on funding levels.\n",
    "  \n",
    "2. **Demographic Analysis:**\n",
    "   - **Metric**: Explore borrower demographics, such as gender, region, age, etc., to assess their impact on loan performance or funding rates.\n",
    "   - **Explanation**: Demographic analysis involves examining the influence of borrower characteristics on loan outcomes. It helps in understanding how different demographics affect the success of loans and informs decision-making for targeted lending strategies.\n",
    "   - **Pros**:\n",
    "     - **Risk Assessment**: Demographic analysis aids in evaluating the risk associated with various borrower segments, enhancing risk management.\n",
    "     - **Tailored Loan Products**: Insights from demographic analysis inform the design of customized loan products, leading to improved loan uptake and repayment rates.\n",
    "     - **Targeted Marketing**: Understanding borrower demographics enables precise marketing and outreach, reaching the right audience effectively.\n",
    "     - **Social Impact**: By identifying the groups benefiting the most from loans, demographic analysis showcases the social impact of lending, potentially enhancing social responsibility.\n",
    "   - **Cons**:\n",
    "     - **Data Privacy and Ethical Concerns**: The responsible handling of sensitive demographic data is essential to address data privacy and ethical considerations.\n",
    "     - **Data Quality and Availability**: Variability in data quality and availability can limit the analysis, as demographic data may be incomplete or inaccurate.\n",
    "     - **Overgeneralization**: Demographic analysis can lead to overgeneralization, assuming uniform behavior within a group, whereas individuals within a demographic group may exhibit diverse characteristics.\n",
    "     - **Complexity**: Analyzing demographic data can be complex, often requiring statistical expertise and resources due to large datasets.\n",
    "     - **Causation vs. Correlation**: While correlations can be identified, establishing causation can be challenging, as borrower behavior may be influenced by factors beyond demographics.\n",
    "\n",
    "\n"
   ]
  },
  {
   "cell_type": "code",
   "execution_count": 453,
   "metadata": {},
   "outputs": [],
   "source": [
    "# loading libraries\n",
    "\n",
    "import pandas as pd\n",
    "import numpy as np\n",
    "import seaborn as sns\n",
    "import folium\n",
    "from geopandas.tools import geocode\n",
    "from geopy.geocoders import Nominatim\n",
    "import plotly.express as px\n"
   ]
  },
  {
   "cell_type": "code",
   "execution_count": 454,
   "metadata": {},
   "outputs": [],
   "source": [
    "# Loading the data sets\n",
    "\n",
    "loan_df = pd.read_csv('kiva_loan.csv')\n",
    "mpi_region_loc = pd.read_csv('kiva_mpi_region_locations.csv')\n",
    "loan_theme_id = pd.read_csv('loan_theme_id.csv')\n",
    "loan_theme_by_region = pd.read_csv('loan_themes_by_reg.csv')\n",
    "\n"
   ]
  },
  {
   "cell_type": "code",
   "execution_count": 455,
   "metadata": {},
   "outputs": [],
   "source": [
    "def shape_checker(dataset, dataset_name):\n",
    "    # Calculate the shape (number of rows and columns) of the input DataFrame.\n",
    "    shape = dataset.shape\n",
    "\n",
    "    # Print the dataset name.\n",
    "    print(f\"Dataset name: {dataset_name}\")\n",
    "\n",
    "    # Print the shape of the DataFrame.\n",
    "    print(f\"DataFrame shape: {shape}\")\n",
    "\n",
    "    # Add a separator for clarity.\n",
    "    print('******************')"
   ]
  },
  {
   "cell_type": "code",
   "execution_count": 456,
   "metadata": {},
   "outputs": [
    {
     "name": "stdout",
     "output_type": "stream",
     "text": [
      "Checking loan_df:\n",
      "Dataset name: loan_df\n",
      "DataFrame shape: (671205, 20)\n",
      "******************\n",
      "\n",
      "\n",
      "Checking mpi_region_loc:\n",
      "Dataset name: mpi_region_loc\n",
      "DataFrame shape: (2772, 9)\n",
      "******************\n",
      "\n",
      "\n",
      "Checking loan_theme_id:\n",
      "Dataset name: loan_theme_id\n",
      "DataFrame shape: (779092, 4)\n",
      "******************\n",
      "\n",
      "\n",
      "Checking loan_theme_by_region:\n",
      "Dataset name: loan_theme_by_region\n",
      "DataFrame shape: (15736, 21)\n",
      "******************\n",
      "\n",
      "\n"
     ]
    }
   ],
   "source": [
    "\n",
    "# Define a dictionary to hold dataset names as keys and their corresponding DataFrames as values.\n",
    "\n",
    "datasets = {\n",
    "    'loan_df': loan_df,\n",
    "    'mpi_region_loc': mpi_region_loc,\n",
    "    'loan_theme_id': loan_theme_id,\n",
    "    'loan_theme_by_region': loan_theme_by_region\n",
    "}\n",
    "\n",
    "# Iterate through the datasets dictionary to check the shape and head of each dataset.\n",
    "\n",
    "for dataset_name, dataset in datasets.items():\n",
    "    # Print a message indicating which dataset is being checked.\n",
    "    print(f\"Checking {dataset_name}:\")\n",
    "\n",
    "    # Call the shape_checker function to display the shape of the dataset.\n",
    "    shape_checker(dataset, dataset_name)\n",
    "\n",
    "    # Add a newline for separation between dataset checks.\n",
    "    print('\\n')\n"
   ]
  },
  {
   "cell_type": "code",
   "execution_count": 457,
   "metadata": {},
   "outputs": [
    {
     "data": {
      "text/html": [
       "<div>\n",
       "<style scoped>\n",
       "    .dataframe tbody tr th:only-of-type {\n",
       "        vertical-align: middle;\n",
       "    }\n",
       "\n",
       "    .dataframe tbody tr th {\n",
       "        vertical-align: top;\n",
       "    }\n",
       "\n",
       "    .dataframe thead th {\n",
       "        text-align: right;\n",
       "    }\n",
       "</style>\n",
       "<table border=\"1\" class=\"dataframe\">\n",
       "  <thead>\n",
       "    <tr style=\"text-align: right;\">\n",
       "      <th></th>\n",
       "      <th>id</th>\n",
       "      <th>funded_amount</th>\n",
       "      <th>loan_amount</th>\n",
       "      <th>activity</th>\n",
       "      <th>sector</th>\n",
       "      <th>use</th>\n",
       "      <th>country_code</th>\n",
       "      <th>country</th>\n",
       "      <th>region</th>\n",
       "      <th>currency</th>\n",
       "      <th>partner_id</th>\n",
       "      <th>posted_time</th>\n",
       "      <th>disbursed_time</th>\n",
       "      <th>funded_time</th>\n",
       "      <th>term_in_months</th>\n",
       "      <th>lender_count</th>\n",
       "      <th>tags</th>\n",
       "      <th>borrower_genders</th>\n",
       "      <th>repayment_interval</th>\n",
       "      <th>date</th>\n",
       "    </tr>\n",
       "  </thead>\n",
       "  <tbody>\n",
       "    <tr>\n",
       "      <th>0</th>\n",
       "      <td>653051</td>\n",
       "      <td>300.0</td>\n",
       "      <td>300.0</td>\n",
       "      <td>Fruits &amp; Vegetables</td>\n",
       "      <td>Food</td>\n",
       "      <td>To buy seasonal, fresh fruits to sell.</td>\n",
       "      <td>PK</td>\n",
       "      <td>Pakistan</td>\n",
       "      <td>Lahore</td>\n",
       "      <td>PKR</td>\n",
       "      <td>247.0</td>\n",
       "      <td>2014-01-01 06:12:39+00:00</td>\n",
       "      <td>2013-12-17 08:00:00+00:00</td>\n",
       "      <td>2014-01-02 10:06:32+00:00</td>\n",
       "      <td>12.0</td>\n",
       "      <td>12</td>\n",
       "      <td>NaN</td>\n",
       "      <td>female</td>\n",
       "      <td>irregular</td>\n",
       "      <td>2014-01-01</td>\n",
       "    </tr>\n",
       "    <tr>\n",
       "      <th>1</th>\n",
       "      <td>653053</td>\n",
       "      <td>575.0</td>\n",
       "      <td>575.0</td>\n",
       "      <td>Rickshaw</td>\n",
       "      <td>Transportation</td>\n",
       "      <td>to repair and maintain the auto rickshaw used ...</td>\n",
       "      <td>PK</td>\n",
       "      <td>Pakistan</td>\n",
       "      <td>Lahore</td>\n",
       "      <td>PKR</td>\n",
       "      <td>247.0</td>\n",
       "      <td>2014-01-01 06:51:08+00:00</td>\n",
       "      <td>2013-12-17 08:00:00+00:00</td>\n",
       "      <td>2014-01-02 09:17:23+00:00</td>\n",
       "      <td>11.0</td>\n",
       "      <td>14</td>\n",
       "      <td>NaN</td>\n",
       "      <td>female, female</td>\n",
       "      <td>irregular</td>\n",
       "      <td>2014-01-01</td>\n",
       "    </tr>\n",
       "    <tr>\n",
       "      <th>2</th>\n",
       "      <td>653068</td>\n",
       "      <td>150.0</td>\n",
       "      <td>150.0</td>\n",
       "      <td>Transportation</td>\n",
       "      <td>Transportation</td>\n",
       "      <td>To repair their old cycle-van and buy another ...</td>\n",
       "      <td>IN</td>\n",
       "      <td>India</td>\n",
       "      <td>Maynaguri</td>\n",
       "      <td>INR</td>\n",
       "      <td>334.0</td>\n",
       "      <td>2014-01-01 09:58:07+00:00</td>\n",
       "      <td>2013-12-17 08:00:00+00:00</td>\n",
       "      <td>2014-01-01 16:01:36+00:00</td>\n",
       "      <td>43.0</td>\n",
       "      <td>6</td>\n",
       "      <td>user_favorite, user_favorite</td>\n",
       "      <td>female</td>\n",
       "      <td>bullet</td>\n",
       "      <td>2014-01-01</td>\n",
       "    </tr>\n",
       "    <tr>\n",
       "      <th>3</th>\n",
       "      <td>653063</td>\n",
       "      <td>200.0</td>\n",
       "      <td>200.0</td>\n",
       "      <td>Embroidery</td>\n",
       "      <td>Arts</td>\n",
       "      <td>to purchase an embroidery machine and a variet...</td>\n",
       "      <td>PK</td>\n",
       "      <td>Pakistan</td>\n",
       "      <td>Lahore</td>\n",
       "      <td>PKR</td>\n",
       "      <td>247.0</td>\n",
       "      <td>2014-01-01 08:03:11+00:00</td>\n",
       "      <td>2013-12-24 08:00:00+00:00</td>\n",
       "      <td>2014-01-01 13:00:00+00:00</td>\n",
       "      <td>11.0</td>\n",
       "      <td>8</td>\n",
       "      <td>NaN</td>\n",
       "      <td>female</td>\n",
       "      <td>irregular</td>\n",
       "      <td>2014-01-01</td>\n",
       "    </tr>\n",
       "    <tr>\n",
       "      <th>4</th>\n",
       "      <td>653084</td>\n",
       "      <td>400.0</td>\n",
       "      <td>400.0</td>\n",
       "      <td>Milk Sales</td>\n",
       "      <td>Food</td>\n",
       "      <td>to purchase one buffalo.</td>\n",
       "      <td>PK</td>\n",
       "      <td>Pakistan</td>\n",
       "      <td>Abdul Hakeem</td>\n",
       "      <td>PKR</td>\n",
       "      <td>245.0</td>\n",
       "      <td>2014-01-01 11:53:19+00:00</td>\n",
       "      <td>2013-12-17 08:00:00+00:00</td>\n",
       "      <td>2014-01-01 19:18:51+00:00</td>\n",
       "      <td>14.0</td>\n",
       "      <td>16</td>\n",
       "      <td>NaN</td>\n",
       "      <td>female</td>\n",
       "      <td>monthly</td>\n",
       "      <td>2014-01-01</td>\n",
       "    </tr>\n",
       "  </tbody>\n",
       "</table>\n",
       "</div>"
      ],
      "text/plain": [
       "       id  funded_amount  loan_amount             activity          sector  \\\n",
       "0  653051          300.0        300.0  Fruits & Vegetables            Food   \n",
       "1  653053          575.0        575.0             Rickshaw  Transportation   \n",
       "2  653068          150.0        150.0       Transportation  Transportation   \n",
       "3  653063          200.0        200.0           Embroidery            Arts   \n",
       "4  653084          400.0        400.0           Milk Sales            Food   \n",
       "\n",
       "                                                 use country_code   country  \\\n",
       "0            To buy seasonal, fresh fruits to sell.            PK  Pakistan   \n",
       "1  to repair and maintain the auto rickshaw used ...           PK  Pakistan   \n",
       "2  To repair their old cycle-van and buy another ...           IN     India   \n",
       "3  to purchase an embroidery machine and a variet...           PK  Pakistan   \n",
       "4                           to purchase one buffalo.           PK  Pakistan   \n",
       "\n",
       "         region currency  partner_id                posted_time  \\\n",
       "0        Lahore      PKR       247.0  2014-01-01 06:12:39+00:00   \n",
       "1        Lahore      PKR       247.0  2014-01-01 06:51:08+00:00   \n",
       "2     Maynaguri      INR       334.0  2014-01-01 09:58:07+00:00   \n",
       "3        Lahore      PKR       247.0  2014-01-01 08:03:11+00:00   \n",
       "4  Abdul Hakeem      PKR       245.0  2014-01-01 11:53:19+00:00   \n",
       "\n",
       "              disbursed_time                funded_time  term_in_months  \\\n",
       "0  2013-12-17 08:00:00+00:00  2014-01-02 10:06:32+00:00            12.0   \n",
       "1  2013-12-17 08:00:00+00:00  2014-01-02 09:17:23+00:00            11.0   \n",
       "2  2013-12-17 08:00:00+00:00  2014-01-01 16:01:36+00:00            43.0   \n",
       "3  2013-12-24 08:00:00+00:00  2014-01-01 13:00:00+00:00            11.0   \n",
       "4  2013-12-17 08:00:00+00:00  2014-01-01 19:18:51+00:00            14.0   \n",
       "\n",
       "   lender_count                          tags borrower_genders  \\\n",
       "0            12                           NaN           female   \n",
       "1            14                           NaN   female, female   \n",
       "2             6  user_favorite, user_favorite           female   \n",
       "3             8                           NaN           female   \n",
       "4            16                           NaN           female   \n",
       "\n",
       "  repayment_interval        date  \n",
       "0          irregular  2014-01-01  \n",
       "1          irregular  2014-01-01  \n",
       "2             bullet  2014-01-01  \n",
       "3          irregular  2014-01-01  \n",
       "4            monthly  2014-01-01  "
      ]
     },
     "execution_count": 457,
     "metadata": {},
     "output_type": "execute_result"
    }
   ],
   "source": [
    "# checking the first five rows\n",
    "\n",
    "loan_df.head()"
   ]
  },
  {
   "cell_type": "code",
   "execution_count": 458,
   "metadata": {},
   "outputs": [
    {
     "data": {
      "text/html": [
       "<div>\n",
       "<style scoped>\n",
       "    .dataframe tbody tr th:only-of-type {\n",
       "        vertical-align: middle;\n",
       "    }\n",
       "\n",
       "    .dataframe tbody tr th {\n",
       "        vertical-align: top;\n",
       "    }\n",
       "\n",
       "    .dataframe thead th {\n",
       "        text-align: right;\n",
       "    }\n",
       "</style>\n",
       "<table border=\"1\" class=\"dataframe\">\n",
       "  <thead>\n",
       "    <tr style=\"text-align: right;\">\n",
       "      <th></th>\n",
       "      <th>LocationName</th>\n",
       "      <th>ISO</th>\n",
       "      <th>country</th>\n",
       "      <th>region</th>\n",
       "      <th>world_region</th>\n",
       "      <th>MPI</th>\n",
       "      <th>geo</th>\n",
       "      <th>lat</th>\n",
       "      <th>lon</th>\n",
       "    </tr>\n",
       "  </thead>\n",
       "  <tbody>\n",
       "    <tr>\n",
       "      <th>0</th>\n",
       "      <td>Badakhshan, Afghanistan</td>\n",
       "      <td>AFG</td>\n",
       "      <td>Afghanistan</td>\n",
       "      <td>Badakhshan</td>\n",
       "      <td>South Asia</td>\n",
       "      <td>0.387</td>\n",
       "      <td>(36.7347725, 70.81199529999999)</td>\n",
       "      <td>36.734772</td>\n",
       "      <td>70.811995</td>\n",
       "    </tr>\n",
       "    <tr>\n",
       "      <th>1</th>\n",
       "      <td>Badghis, Afghanistan</td>\n",
       "      <td>AFG</td>\n",
       "      <td>Afghanistan</td>\n",
       "      <td>Badghis</td>\n",
       "      <td>South Asia</td>\n",
       "      <td>0.466</td>\n",
       "      <td>(35.1671339, 63.7695384)</td>\n",
       "      <td>35.167134</td>\n",
       "      <td>63.769538</td>\n",
       "    </tr>\n",
       "    <tr>\n",
       "      <th>2</th>\n",
       "      <td>Baghlan, Afghanistan</td>\n",
       "      <td>AFG</td>\n",
       "      <td>Afghanistan</td>\n",
       "      <td>Baghlan</td>\n",
       "      <td>South Asia</td>\n",
       "      <td>0.300</td>\n",
       "      <td>(35.8042947, 69.2877535)</td>\n",
       "      <td>35.804295</td>\n",
       "      <td>69.287754</td>\n",
       "    </tr>\n",
       "    <tr>\n",
       "      <th>3</th>\n",
       "      <td>Balkh, Afghanistan</td>\n",
       "      <td>AFG</td>\n",
       "      <td>Afghanistan</td>\n",
       "      <td>Balkh</td>\n",
       "      <td>South Asia</td>\n",
       "      <td>0.301</td>\n",
       "      <td>(36.7550603, 66.8975372)</td>\n",
       "      <td>36.755060</td>\n",
       "      <td>66.897537</td>\n",
       "    </tr>\n",
       "    <tr>\n",
       "      <th>4</th>\n",
       "      <td>Bamyan, Afghanistan</td>\n",
       "      <td>AFG</td>\n",
       "      <td>Afghanistan</td>\n",
       "      <td>Bamyan</td>\n",
       "      <td>South Asia</td>\n",
       "      <td>0.325</td>\n",
       "      <td>(34.8100067, 67.8212104)</td>\n",
       "      <td>34.810007</td>\n",
       "      <td>67.821210</td>\n",
       "    </tr>\n",
       "  </tbody>\n",
       "</table>\n",
       "</div>"
      ],
      "text/plain": [
       "              LocationName  ISO      country      region world_region    MPI  \\\n",
       "0  Badakhshan, Afghanistan  AFG  Afghanistan  Badakhshan   South Asia  0.387   \n",
       "1     Badghis, Afghanistan  AFG  Afghanistan     Badghis   South Asia  0.466   \n",
       "2     Baghlan, Afghanistan  AFG  Afghanistan     Baghlan   South Asia  0.300   \n",
       "3       Balkh, Afghanistan  AFG  Afghanistan       Balkh   South Asia  0.301   \n",
       "4      Bamyan, Afghanistan  AFG  Afghanistan      Bamyan   South Asia  0.325   \n",
       "\n",
       "                               geo        lat        lon  \n",
       "0  (36.7347725, 70.81199529999999)  36.734772  70.811995  \n",
       "1         (35.1671339, 63.7695384)  35.167134  63.769538  \n",
       "2         (35.8042947, 69.2877535)  35.804295  69.287754  \n",
       "3         (36.7550603, 66.8975372)  36.755060  66.897537  \n",
       "4         (34.8100067, 67.8212104)  34.810007  67.821210  "
      ]
     },
     "execution_count": 458,
     "metadata": {},
     "output_type": "execute_result"
    }
   ],
   "source": [
    "# checking the first five rows\n",
    "\n",
    "mpi_region_loc.head()"
   ]
  },
  {
   "cell_type": "code",
   "execution_count": 459,
   "metadata": {},
   "outputs": [
    {
     "data": {
      "text/html": [
       "<div>\n",
       "<style scoped>\n",
       "    .dataframe tbody tr th:only-of-type {\n",
       "        vertical-align: middle;\n",
       "    }\n",
       "\n",
       "    .dataframe tbody tr th {\n",
       "        vertical-align: top;\n",
       "    }\n",
       "\n",
       "    .dataframe thead th {\n",
       "        text-align: right;\n",
       "    }\n",
       "</style>\n",
       "<table border=\"1\" class=\"dataframe\">\n",
       "  <thead>\n",
       "    <tr style=\"text-align: right;\">\n",
       "      <th></th>\n",
       "      <th>id</th>\n",
       "      <th>Loan Theme ID</th>\n",
       "      <th>Loan Theme Type</th>\n",
       "      <th>Partner ID</th>\n",
       "    </tr>\n",
       "  </thead>\n",
       "  <tbody>\n",
       "    <tr>\n",
       "      <th>0</th>\n",
       "      <td>638631</td>\n",
       "      <td>a1050000000skGl</td>\n",
       "      <td>General</td>\n",
       "      <td>151.0</td>\n",
       "    </tr>\n",
       "    <tr>\n",
       "      <th>1</th>\n",
       "      <td>640322</td>\n",
       "      <td>a1050000000skGl</td>\n",
       "      <td>General</td>\n",
       "      <td>151.0</td>\n",
       "    </tr>\n",
       "    <tr>\n",
       "      <th>2</th>\n",
       "      <td>641006</td>\n",
       "      <td>a1050000002X1ij</td>\n",
       "      <td>Higher Education</td>\n",
       "      <td>160.0</td>\n",
       "    </tr>\n",
       "    <tr>\n",
       "      <th>3</th>\n",
       "      <td>641019</td>\n",
       "      <td>a1050000002X1ij</td>\n",
       "      <td>Higher Education</td>\n",
       "      <td>160.0</td>\n",
       "    </tr>\n",
       "    <tr>\n",
       "      <th>4</th>\n",
       "      <td>641594</td>\n",
       "      <td>a1050000002VbsW</td>\n",
       "      <td>Subsistence Agriculture</td>\n",
       "      <td>336.0</td>\n",
       "    </tr>\n",
       "  </tbody>\n",
       "</table>\n",
       "</div>"
      ],
      "text/plain": [
       "       id    Loan Theme ID          Loan Theme Type  Partner ID\n",
       "0  638631  a1050000000skGl                  General       151.0\n",
       "1  640322  a1050000000skGl                  General       151.0\n",
       "2  641006  a1050000002X1ij         Higher Education       160.0\n",
       "3  641019  a1050000002X1ij         Higher Education       160.0\n",
       "4  641594  a1050000002VbsW  Subsistence Agriculture       336.0"
      ]
     },
     "execution_count": 459,
     "metadata": {},
     "output_type": "execute_result"
    }
   ],
   "source": [
    "# checking the first five rows\n",
    "\n",
    "loan_theme_id.head()"
   ]
  },
  {
   "cell_type": "code",
   "execution_count": 460,
   "metadata": {},
   "outputs": [
    {
     "data": {
      "text/html": [
       "<div>\n",
       "<style scoped>\n",
       "    .dataframe tbody tr th:only-of-type {\n",
       "        vertical-align: middle;\n",
       "    }\n",
       "\n",
       "    .dataframe tbody tr th {\n",
       "        vertical-align: top;\n",
       "    }\n",
       "\n",
       "    .dataframe thead th {\n",
       "        text-align: right;\n",
       "    }\n",
       "</style>\n",
       "<table border=\"1\" class=\"dataframe\">\n",
       "  <thead>\n",
       "    <tr style=\"text-align: right;\">\n",
       "      <th></th>\n",
       "      <th>Partner ID</th>\n",
       "      <th>Field Partner Name</th>\n",
       "      <th>sector</th>\n",
       "      <th>Loan Theme ID</th>\n",
       "      <th>Loan Theme Type</th>\n",
       "      <th>country</th>\n",
       "      <th>forkiva</th>\n",
       "      <th>region</th>\n",
       "      <th>geocode_old</th>\n",
       "      <th>ISO</th>\n",
       "      <th>...</th>\n",
       "      <th>amount</th>\n",
       "      <th>LocationName</th>\n",
       "      <th>geocode</th>\n",
       "      <th>names</th>\n",
       "      <th>geo</th>\n",
       "      <th>lat</th>\n",
       "      <th>lon</th>\n",
       "      <th>mpi_region</th>\n",
       "      <th>mpi_geo</th>\n",
       "      <th>rural_pct</th>\n",
       "    </tr>\n",
       "  </thead>\n",
       "  <tbody>\n",
       "    <tr>\n",
       "      <th>0</th>\n",
       "      <td>9</td>\n",
       "      <td>KREDIT Microfinance Institution</td>\n",
       "      <td>General Financial Inclusion</td>\n",
       "      <td>a1050000000slfi</td>\n",
       "      <td>Higher Education</td>\n",
       "      <td>Cambodia</td>\n",
       "      <td>No</td>\n",
       "      <td>Banteay Meanchey</td>\n",
       "      <td>(13.75, 103.0)</td>\n",
       "      <td>KHM</td>\n",
       "      <td>...</td>\n",
       "      <td>450</td>\n",
       "      <td>Banteay Meanchey, Cambodia</td>\n",
       "      <td>[(13.6672596, 102.8975098)]</td>\n",
       "      <td>Banteay Meanchey Province; Cambodia</td>\n",
       "      <td>(13.6672596, 102.8975098)</td>\n",
       "      <td>13.667260</td>\n",
       "      <td>102.897510</td>\n",
       "      <td>Banteay Mean Chey, Cambodia</td>\n",
       "      <td>(13.6672596, 102.8975098)</td>\n",
       "      <td>90.0</td>\n",
       "    </tr>\n",
       "    <tr>\n",
       "      <th>1</th>\n",
       "      <td>9</td>\n",
       "      <td>KREDIT Microfinance Institution</td>\n",
       "      <td>General Financial Inclusion</td>\n",
       "      <td>a10500000068jPe</td>\n",
       "      <td>Vulnerable Populations</td>\n",
       "      <td>Cambodia</td>\n",
       "      <td>No</td>\n",
       "      <td>Battambang Province</td>\n",
       "      <td>NaN</td>\n",
       "      <td>KHM</td>\n",
       "      <td>...</td>\n",
       "      <td>20275</td>\n",
       "      <td>Battambang Province, Cambodia</td>\n",
       "      <td>[(13.0286971, 102.989615)]</td>\n",
       "      <td>Battambang Province; Cambodia</td>\n",
       "      <td>(13.0286971, 102.989615)</td>\n",
       "      <td>13.028697</td>\n",
       "      <td>102.989615</td>\n",
       "      <td>Banteay Mean Chey, Cambodia</td>\n",
       "      <td>(13.6672596, 102.8975098)</td>\n",
       "      <td>90.0</td>\n",
       "    </tr>\n",
       "    <tr>\n",
       "      <th>2</th>\n",
       "      <td>9</td>\n",
       "      <td>KREDIT Microfinance Institution</td>\n",
       "      <td>General Financial Inclusion</td>\n",
       "      <td>a1050000000slfi</td>\n",
       "      <td>Higher Education</td>\n",
       "      <td>Cambodia</td>\n",
       "      <td>No</td>\n",
       "      <td>Battambang Province</td>\n",
       "      <td>NaN</td>\n",
       "      <td>KHM</td>\n",
       "      <td>...</td>\n",
       "      <td>9150</td>\n",
       "      <td>Battambang Province, Cambodia</td>\n",
       "      <td>[(13.0286971, 102.989615)]</td>\n",
       "      <td>Battambang Province; Cambodia</td>\n",
       "      <td>(13.0286971, 102.989615)</td>\n",
       "      <td>13.028697</td>\n",
       "      <td>102.989615</td>\n",
       "      <td>Banteay Mean Chey, Cambodia</td>\n",
       "      <td>(13.6672596, 102.8975098)</td>\n",
       "      <td>90.0</td>\n",
       "    </tr>\n",
       "    <tr>\n",
       "      <th>3</th>\n",
       "      <td>9</td>\n",
       "      <td>KREDIT Microfinance Institution</td>\n",
       "      <td>General Financial Inclusion</td>\n",
       "      <td>a10500000068jPe</td>\n",
       "      <td>Vulnerable Populations</td>\n",
       "      <td>Cambodia</td>\n",
       "      <td>No</td>\n",
       "      <td>Kampong Cham Province</td>\n",
       "      <td>(12.0, 105.5)</td>\n",
       "      <td>KHM</td>\n",
       "      <td>...</td>\n",
       "      <td>604950</td>\n",
       "      <td>Kampong Cham Province, Cambodia</td>\n",
       "      <td>[(12.0982918, 105.3131185)]</td>\n",
       "      <td>Kampong Cham Province; Cambodia</td>\n",
       "      <td>(12.0982918, 105.3131185)</td>\n",
       "      <td>12.098292</td>\n",
       "      <td>105.313119</td>\n",
       "      <td>Kampong Cham, Cambodia</td>\n",
       "      <td>(11.9924294, 105.4645408)</td>\n",
       "      <td>90.0</td>\n",
       "    </tr>\n",
       "    <tr>\n",
       "      <th>4</th>\n",
       "      <td>9</td>\n",
       "      <td>KREDIT Microfinance Institution</td>\n",
       "      <td>General Financial Inclusion</td>\n",
       "      <td>a1050000002X1Uu</td>\n",
       "      <td>Sanitation</td>\n",
       "      <td>Cambodia</td>\n",
       "      <td>No</td>\n",
       "      <td>Kampong Cham Province</td>\n",
       "      <td>(12.0, 105.5)</td>\n",
       "      <td>KHM</td>\n",
       "      <td>...</td>\n",
       "      <td>275</td>\n",
       "      <td>Kampong Cham Province, Cambodia</td>\n",
       "      <td>[(12.0982918, 105.3131185)]</td>\n",
       "      <td>Kampong Cham Province; Cambodia</td>\n",
       "      <td>(12.0982918, 105.3131185)</td>\n",
       "      <td>12.098292</td>\n",
       "      <td>105.313119</td>\n",
       "      <td>Kampong Cham, Cambodia</td>\n",
       "      <td>(11.9924294, 105.4645408)</td>\n",
       "      <td>90.0</td>\n",
       "    </tr>\n",
       "  </tbody>\n",
       "</table>\n",
       "<p>5 rows × 21 columns</p>\n",
       "</div>"
      ],
      "text/plain": [
       "   Partner ID               Field Partner Name                       sector  \\\n",
       "0           9  KREDIT Microfinance Institution  General Financial Inclusion   \n",
       "1           9  KREDIT Microfinance Institution  General Financial Inclusion   \n",
       "2           9  KREDIT Microfinance Institution  General Financial Inclusion   \n",
       "3           9  KREDIT Microfinance Institution  General Financial Inclusion   \n",
       "4           9  KREDIT Microfinance Institution  General Financial Inclusion   \n",
       "\n",
       "     Loan Theme ID         Loan Theme Type   country forkiva  \\\n",
       "0  a1050000000slfi        Higher Education  Cambodia      No   \n",
       "1  a10500000068jPe  Vulnerable Populations  Cambodia      No   \n",
       "2  a1050000000slfi        Higher Education  Cambodia      No   \n",
       "3  a10500000068jPe  Vulnerable Populations  Cambodia      No   \n",
       "4  a1050000002X1Uu              Sanitation  Cambodia      No   \n",
       "\n",
       "                  region     geocode_old  ISO  ...  amount  \\\n",
       "0       Banteay Meanchey  (13.75, 103.0)  KHM  ...     450   \n",
       "1    Battambang Province             NaN  KHM  ...   20275   \n",
       "2    Battambang Province             NaN  KHM  ...    9150   \n",
       "3  Kampong Cham Province   (12.0, 105.5)  KHM  ...  604950   \n",
       "4  Kampong Cham Province   (12.0, 105.5)  KHM  ...     275   \n",
       "\n",
       "                      LocationName                      geocode  \\\n",
       "0       Banteay Meanchey, Cambodia  [(13.6672596, 102.8975098)]   \n",
       "1    Battambang Province, Cambodia   [(13.0286971, 102.989615)]   \n",
       "2    Battambang Province, Cambodia   [(13.0286971, 102.989615)]   \n",
       "3  Kampong Cham Province, Cambodia  [(12.0982918, 105.3131185)]   \n",
       "4  Kampong Cham Province, Cambodia  [(12.0982918, 105.3131185)]   \n",
       "\n",
       "                                 names                        geo        lat  \\\n",
       "0  Banteay Meanchey Province; Cambodia  (13.6672596, 102.8975098)  13.667260   \n",
       "1        Battambang Province; Cambodia   (13.0286971, 102.989615)  13.028697   \n",
       "2        Battambang Province; Cambodia   (13.0286971, 102.989615)  13.028697   \n",
       "3      Kampong Cham Province; Cambodia  (12.0982918, 105.3131185)  12.098292   \n",
       "4      Kampong Cham Province; Cambodia  (12.0982918, 105.3131185)  12.098292   \n",
       "\n",
       "          lon                   mpi_region                    mpi_geo  \\\n",
       "0  102.897510  Banteay Mean Chey, Cambodia  (13.6672596, 102.8975098)   \n",
       "1  102.989615  Banteay Mean Chey, Cambodia  (13.6672596, 102.8975098)   \n",
       "2  102.989615  Banteay Mean Chey, Cambodia  (13.6672596, 102.8975098)   \n",
       "3  105.313119       Kampong Cham, Cambodia  (11.9924294, 105.4645408)   \n",
       "4  105.313119       Kampong Cham, Cambodia  (11.9924294, 105.4645408)   \n",
       "\n",
       "  rural_pct  \n",
       "0      90.0  \n",
       "1      90.0  \n",
       "2      90.0  \n",
       "3      90.0  \n",
       "4      90.0  \n",
       "\n",
       "[5 rows x 21 columns]"
      ]
     },
     "execution_count": 460,
     "metadata": {},
     "output_type": "execute_result"
    }
   ],
   "source": [
    "# checking the first five rows\n",
    "\n",
    "loan_theme_by_region.head()"
   ]
  },
  {
   "cell_type": "code",
   "execution_count": 461,
   "metadata": {},
   "outputs": [
    {
     "data": {
      "text/html": [
       "<div>\n",
       "<style scoped>\n",
       "    .dataframe tbody tr th:only-of-type {\n",
       "        vertical-align: middle;\n",
       "    }\n",
       "\n",
       "    .dataframe tbody tr th {\n",
       "        vertical-align: top;\n",
       "    }\n",
       "\n",
       "    .dataframe thead th {\n",
       "        text-align: right;\n",
       "    }\n",
       "</style>\n",
       "<table border=\"1\" class=\"dataframe\">\n",
       "  <thead>\n",
       "    <tr style=\"text-align: right;\">\n",
       "      <th></th>\n",
       "      <th>id</th>\n",
       "      <th>funded_amount</th>\n",
       "      <th>loan_amount</th>\n",
       "      <th>activity</th>\n",
       "      <th>sector</th>\n",
       "      <th>use</th>\n",
       "      <th>country_code</th>\n",
       "      <th>country</th>\n",
       "      <th>region</th>\n",
       "      <th>currency</th>\n",
       "      <th>...</th>\n",
       "      <th>funded_time</th>\n",
       "      <th>term_in_months</th>\n",
       "      <th>lender_count</th>\n",
       "      <th>tags</th>\n",
       "      <th>borrower_genders</th>\n",
       "      <th>repayment_interval</th>\n",
       "      <th>date</th>\n",
       "      <th>Loan Theme ID</th>\n",
       "      <th>Loan Theme Type</th>\n",
       "      <th>Partner ID</th>\n",
       "    </tr>\n",
       "  </thead>\n",
       "  <tbody>\n",
       "    <tr>\n",
       "      <th>0</th>\n",
       "      <td>653051</td>\n",
       "      <td>300.0</td>\n",
       "      <td>300.0</td>\n",
       "      <td>Fruits &amp; Vegetables</td>\n",
       "      <td>Food</td>\n",
       "      <td>To buy seasonal, fresh fruits to sell.</td>\n",
       "      <td>PK</td>\n",
       "      <td>Pakistan</td>\n",
       "      <td>Lahore</td>\n",
       "      <td>PKR</td>\n",
       "      <td>...</td>\n",
       "      <td>2014-01-02 10:06:32+00:00</td>\n",
       "      <td>12.0</td>\n",
       "      <td>12</td>\n",
       "      <td>NaN</td>\n",
       "      <td>female</td>\n",
       "      <td>irregular</td>\n",
       "      <td>2014-01-01</td>\n",
       "      <td>NaN</td>\n",
       "      <td>NaN</td>\n",
       "      <td>NaN</td>\n",
       "    </tr>\n",
       "    <tr>\n",
       "      <th>1</th>\n",
       "      <td>653053</td>\n",
       "      <td>575.0</td>\n",
       "      <td>575.0</td>\n",
       "      <td>Rickshaw</td>\n",
       "      <td>Transportation</td>\n",
       "      <td>to repair and maintain the auto rickshaw used ...</td>\n",
       "      <td>PK</td>\n",
       "      <td>Pakistan</td>\n",
       "      <td>Lahore</td>\n",
       "      <td>PKR</td>\n",
       "      <td>...</td>\n",
       "      <td>2014-01-02 09:17:23+00:00</td>\n",
       "      <td>11.0</td>\n",
       "      <td>14</td>\n",
       "      <td>NaN</td>\n",
       "      <td>female, female</td>\n",
       "      <td>irregular</td>\n",
       "      <td>2014-01-01</td>\n",
       "      <td>a1050000000sjEC</td>\n",
       "      <td>Underserved</td>\n",
       "      <td>247.0</td>\n",
       "    </tr>\n",
       "    <tr>\n",
       "      <th>2</th>\n",
       "      <td>653068</td>\n",
       "      <td>150.0</td>\n",
       "      <td>150.0</td>\n",
       "      <td>Transportation</td>\n",
       "      <td>Transportation</td>\n",
       "      <td>To repair their old cycle-van and buy another ...</td>\n",
       "      <td>IN</td>\n",
       "      <td>India</td>\n",
       "      <td>Maynaguri</td>\n",
       "      <td>INR</td>\n",
       "      <td>...</td>\n",
       "      <td>2014-01-01 16:01:36+00:00</td>\n",
       "      <td>43.0</td>\n",
       "      <td>6</td>\n",
       "      <td>user_favorite, user_favorite</td>\n",
       "      <td>female</td>\n",
       "      <td>bullet</td>\n",
       "      <td>2014-01-01</td>\n",
       "      <td>a1050000002VkWz</td>\n",
       "      <td>Underserved</td>\n",
       "      <td>334.0</td>\n",
       "    </tr>\n",
       "    <tr>\n",
       "      <th>3</th>\n",
       "      <td>653063</td>\n",
       "      <td>200.0</td>\n",
       "      <td>200.0</td>\n",
       "      <td>Embroidery</td>\n",
       "      <td>Arts</td>\n",
       "      <td>to purchase an embroidery machine and a variet...</td>\n",
       "      <td>PK</td>\n",
       "      <td>Pakistan</td>\n",
       "      <td>Lahore</td>\n",
       "      <td>PKR</td>\n",
       "      <td>...</td>\n",
       "      <td>2014-01-01 13:00:00+00:00</td>\n",
       "      <td>11.0</td>\n",
       "      <td>8</td>\n",
       "      <td>NaN</td>\n",
       "      <td>female</td>\n",
       "      <td>irregular</td>\n",
       "      <td>2014-01-01</td>\n",
       "      <td>a1050000000sjEC</td>\n",
       "      <td>Underserved</td>\n",
       "      <td>247.0</td>\n",
       "    </tr>\n",
       "    <tr>\n",
       "      <th>4</th>\n",
       "      <td>653084</td>\n",
       "      <td>400.0</td>\n",
       "      <td>400.0</td>\n",
       "      <td>Milk Sales</td>\n",
       "      <td>Food</td>\n",
       "      <td>to purchase one buffalo.</td>\n",
       "      <td>PK</td>\n",
       "      <td>Pakistan</td>\n",
       "      <td>Abdul Hakeem</td>\n",
       "      <td>PKR</td>\n",
       "      <td>...</td>\n",
       "      <td>2014-01-01 19:18:51+00:00</td>\n",
       "      <td>14.0</td>\n",
       "      <td>16</td>\n",
       "      <td>NaN</td>\n",
       "      <td>female</td>\n",
       "      <td>monthly</td>\n",
       "      <td>2014-01-01</td>\n",
       "      <td>a1050000000wf22</td>\n",
       "      <td>General</td>\n",
       "      <td>245.0</td>\n",
       "    </tr>\n",
       "  </tbody>\n",
       "</table>\n",
       "<p>5 rows × 23 columns</p>\n",
       "</div>"
      ],
      "text/plain": [
       "       id  funded_amount  loan_amount             activity          sector  \\\n",
       "0  653051          300.0        300.0  Fruits & Vegetables            Food   \n",
       "1  653053          575.0        575.0             Rickshaw  Transportation   \n",
       "2  653068          150.0        150.0       Transportation  Transportation   \n",
       "3  653063          200.0        200.0           Embroidery            Arts   \n",
       "4  653084          400.0        400.0           Milk Sales            Food   \n",
       "\n",
       "                                                 use country_code   country  \\\n",
       "0            To buy seasonal, fresh fruits to sell.            PK  Pakistan   \n",
       "1  to repair and maintain the auto rickshaw used ...           PK  Pakistan   \n",
       "2  To repair their old cycle-van and buy another ...           IN     India   \n",
       "3  to purchase an embroidery machine and a variet...           PK  Pakistan   \n",
       "4                           to purchase one buffalo.           PK  Pakistan   \n",
       "\n",
       "         region currency  ...                funded_time term_in_months  \\\n",
       "0        Lahore      PKR  ...  2014-01-02 10:06:32+00:00           12.0   \n",
       "1        Lahore      PKR  ...  2014-01-02 09:17:23+00:00           11.0   \n",
       "2     Maynaguri      INR  ...  2014-01-01 16:01:36+00:00           43.0   \n",
       "3        Lahore      PKR  ...  2014-01-01 13:00:00+00:00           11.0   \n",
       "4  Abdul Hakeem      PKR  ...  2014-01-01 19:18:51+00:00           14.0   \n",
       "\n",
       "  lender_count                          tags  borrower_genders  \\\n",
       "0           12                           NaN            female   \n",
       "1           14                           NaN    female, female   \n",
       "2            6  user_favorite, user_favorite            female   \n",
       "3            8                           NaN            female   \n",
       "4           16                           NaN            female   \n",
       "\n",
       "   repayment_interval        date    Loan Theme ID Loan Theme Type Partner ID  \n",
       "0           irregular  2014-01-01              NaN             NaN        NaN  \n",
       "1           irregular  2014-01-01  a1050000000sjEC     Underserved      247.0  \n",
       "2              bullet  2014-01-01  a1050000002VkWz     Underserved      334.0  \n",
       "3           irregular  2014-01-01  a1050000000sjEC     Underserved      247.0  \n",
       "4             monthly  2014-01-01  a1050000000wf22         General      245.0  \n",
       "\n",
       "[5 rows x 23 columns]"
      ]
     },
     "execution_count": 461,
     "metadata": {},
     "output_type": "execute_result"
    }
   ],
   "source": [
    "# Merging loan data with loan theme dataset\n",
    "\n",
    "final_df = loan_df.merge(loan_theme_id, on='id', how='left')\n",
    "\n",
    "# checking the first five rows\n",
    "\n",
    "final_df.head()\n"
   ]
  },
  {
   "cell_type": "code",
   "execution_count": 462,
   "metadata": {},
   "outputs": [
    {
     "name": "stdout",
     "output_type": "stream",
     "text": [
      "Dataset name: final_df\n",
      "DataFrame shape: (671205, 23)\n",
      "******************\n"
     ]
    }
   ],
   "source": [
    "# checking the shape\n",
    "\n",
    "shape_checker(final_df,'final_df')"
   ]
  },
  {
   "cell_type": "code",
   "execution_count": 463,
   "metadata": {},
   "outputs": [
    {
     "name": "stdout",
     "output_type": "stream",
     "text": [
      "<class 'pandas.core.frame.DataFrame'>\n",
      "RangeIndex: 671205 entries, 0 to 671204\n",
      "Data columns (total 23 columns):\n",
      " #   Column              Non-Null Count   Dtype  \n",
      "---  ------              --------------   -----  \n",
      " 0   id                  671205 non-null  int64  \n",
      " 1   funded_amount       671205 non-null  float64\n",
      " 2   loan_amount         671205 non-null  float64\n",
      " 3   activity            671205 non-null  object \n",
      " 4   sector              671205 non-null  object \n",
      " 5   use                 666973 non-null  object \n",
      " 6   country_code        671197 non-null  object \n",
      " 7   country             671205 non-null  object \n",
      " 8   region              614405 non-null  object \n",
      " 9   currency            671205 non-null  object \n",
      " 10  partner_id          657698 non-null  float64\n",
      " 11  posted_time         671205 non-null  object \n",
      " 12  disbursed_time      668809 non-null  object \n",
      " 13  funded_time         622874 non-null  object \n",
      " 14  term_in_months      671205 non-null  float64\n",
      " 15  lender_count        671205 non-null  int64  \n",
      " 16  tags                499789 non-null  object \n",
      " 17  borrower_genders    666984 non-null  object \n",
      " 18  repayment_interval  671205 non-null  object \n",
      " 19  date                671205 non-null  object \n",
      " 20  Loan Theme ID       657692 non-null  object \n",
      " 21  Loan Theme Type     657692 non-null  object \n",
      " 22  Partner ID          657692 non-null  float64\n",
      "dtypes: float64(5), int64(2), object(16)\n",
      "memory usage: 117.8+ MB\n"
     ]
    }
   ],
   "source": [
    "# checking dataframe info\n",
    "\n",
    "final_df.info()"
   ]
  },
  {
   "cell_type": "markdown",
   "metadata": {},
   "source": [
    "  `Observations`\n",
    "* posted_time, date and disbursed_time column will need to be changed to date time format from object dtypes"
   ]
  },
  {
   "cell_type": "code",
   "execution_count": 464,
   "metadata": {},
   "outputs": [
    {
     "data": {
      "text/html": [
       "<div>\n",
       "<style scoped>\n",
       "    .dataframe tbody tr th:only-of-type {\n",
       "        vertical-align: middle;\n",
       "    }\n",
       "\n",
       "    .dataframe tbody tr th {\n",
       "        vertical-align: top;\n",
       "    }\n",
       "\n",
       "    .dataframe thead th {\n",
       "        text-align: right;\n",
       "    }\n",
       "</style>\n",
       "<table border=\"1\" class=\"dataframe\">\n",
       "  <thead>\n",
       "    <tr style=\"text-align: right;\">\n",
       "      <th></th>\n",
       "      <th>count</th>\n",
       "      <th>mean</th>\n",
       "      <th>std</th>\n",
       "      <th>min</th>\n",
       "      <th>25%</th>\n",
       "      <th>50%</th>\n",
       "      <th>75%</th>\n",
       "      <th>max</th>\n",
       "    </tr>\n",
       "  </thead>\n",
       "  <tbody>\n",
       "    <tr>\n",
       "      <th>id</th>\n",
       "      <td>671205.0</td>\n",
       "      <td>993248.593734</td>\n",
       "      <td>196611.275423</td>\n",
       "      <td>653047.0</td>\n",
       "      <td>823072.0</td>\n",
       "      <td>992780.0</td>\n",
       "      <td>1163653.0</td>\n",
       "      <td>1340339.0</td>\n",
       "    </tr>\n",
       "    <tr>\n",
       "      <th>funded_amount</th>\n",
       "      <td>671205.0</td>\n",
       "      <td>785.995061</td>\n",
       "      <td>1130.398941</td>\n",
       "      <td>0.0</td>\n",
       "      <td>250.0</td>\n",
       "      <td>450.0</td>\n",
       "      <td>900.0</td>\n",
       "      <td>100000.0</td>\n",
       "    </tr>\n",
       "    <tr>\n",
       "      <th>loan_amount</th>\n",
       "      <td>671205.0</td>\n",
       "      <td>842.397107</td>\n",
       "      <td>1198.660073</td>\n",
       "      <td>25.0</td>\n",
       "      <td>275.0</td>\n",
       "      <td>500.0</td>\n",
       "      <td>1000.0</td>\n",
       "      <td>100000.0</td>\n",
       "    </tr>\n",
       "    <tr>\n",
       "      <th>partner_id</th>\n",
       "      <td>657698.0</td>\n",
       "      <td>178.199616</td>\n",
       "      <td>94.247581</td>\n",
       "      <td>9.0</td>\n",
       "      <td>126.0</td>\n",
       "      <td>145.0</td>\n",
       "      <td>204.0</td>\n",
       "      <td>536.0</td>\n",
       "    </tr>\n",
       "    <tr>\n",
       "      <th>term_in_months</th>\n",
       "      <td>671205.0</td>\n",
       "      <td>13.739022</td>\n",
       "      <td>8.598919</td>\n",
       "      <td>1.0</td>\n",
       "      <td>8.0</td>\n",
       "      <td>13.0</td>\n",
       "      <td>14.0</td>\n",
       "      <td>158.0</td>\n",
       "    </tr>\n",
       "    <tr>\n",
       "      <th>lender_count</th>\n",
       "      <td>671205.0</td>\n",
       "      <td>20.590922</td>\n",
       "      <td>28.459551</td>\n",
       "      <td>0.0</td>\n",
       "      <td>7.0</td>\n",
       "      <td>13.0</td>\n",
       "      <td>24.0</td>\n",
       "      <td>2986.0</td>\n",
       "    </tr>\n",
       "    <tr>\n",
       "      <th>Partner ID</th>\n",
       "      <td>657692.0</td>\n",
       "      <td>178.204267</td>\n",
       "      <td>94.250826</td>\n",
       "      <td>9.0</td>\n",
       "      <td>126.0</td>\n",
       "      <td>145.0</td>\n",
       "      <td>204.0</td>\n",
       "      <td>536.0</td>\n",
       "    </tr>\n",
       "  </tbody>\n",
       "</table>\n",
       "</div>"
      ],
      "text/plain": [
       "                   count           mean            std       min       25%  \\\n",
       "id              671205.0  993248.593734  196611.275423  653047.0  823072.0   \n",
       "funded_amount   671205.0     785.995061    1130.398941       0.0     250.0   \n",
       "loan_amount     671205.0     842.397107    1198.660073      25.0     275.0   \n",
       "partner_id      657698.0     178.199616      94.247581       9.0     126.0   \n",
       "term_in_months  671205.0      13.739022       8.598919       1.0       8.0   \n",
       "lender_count    671205.0      20.590922      28.459551       0.0       7.0   \n",
       "Partner ID      657692.0     178.204267      94.250826       9.0     126.0   \n",
       "\n",
       "                     50%        75%        max  \n",
       "id              992780.0  1163653.0  1340339.0  \n",
       "funded_amount      450.0      900.0   100000.0  \n",
       "loan_amount        500.0     1000.0   100000.0  \n",
       "partner_id         145.0      204.0      536.0  \n",
       "term_in_months      13.0       14.0      158.0  \n",
       "lender_count        13.0       24.0     2986.0  \n",
       "Partner ID         145.0      204.0      536.0  "
      ]
     },
     "execution_count": 464,
     "metadata": {},
     "output_type": "execute_result"
    }
   ],
   "source": [
    "# checking basic stats\n",
    "\n",
    "final_df.describe().T"
   ]
  },
  {
   "cell_type": "markdown",
   "metadata": {},
   "source": [
    "  `Observations`\n",
    "* From the count we can note that there are some missing values\n",
    "* The maximum funded amount and loan amounts are 100000\n",
    "* Lender count maximum are 24"
   ]
  },
  {
   "cell_type": "markdown",
   "metadata": {},
   "source": [
    "### <span style=\"color:cyan\"> Data Cleaning</span>\n"
   ]
  },
  {
   "cell_type": "code",
   "execution_count": 465,
   "metadata": {},
   "outputs": [],
   "source": [
    "def cleaner_checker(dataframe):\n",
    "    # Print the number of duplicated values in the dataframe\n",
    "    print('Duplicated values:', dataframe.duplicated().sum())\n",
    "    print('*******')\n",
    "    # Print the percentage of null values for each column in the dataframe\n",
    "    print('Null values:\\n', dataframe.isna().sum() / len(dataframe) * 100)\n",
    "\n",
    "    \n",
    "    "
   ]
  },
  {
   "cell_type": "code",
   "execution_count": 466,
   "metadata": {},
   "outputs": [
    {
     "name": "stdout",
     "output_type": "stream",
     "text": [
      "Duplicated values: 0\n",
      "*******\n",
      "Null values:\n",
      " id                     0.000000\n",
      "funded_amount          0.000000\n",
      "loan_amount            0.000000\n",
      "activity               0.000000\n",
      "sector                 0.000000\n",
      "use                    0.630508\n",
      "country_code           0.001192\n",
      "country                0.000000\n",
      "region                 8.462392\n",
      "currency               0.000000\n",
      "partner_id             2.012351\n",
      "posted_time            0.000000\n",
      "disbursed_time         0.356970\n",
      "funded_time            7.200632\n",
      "term_in_months         0.000000\n",
      "lender_count           0.000000\n",
      "tags                  25.538546\n",
      "borrower_genders       0.628869\n",
      "repayment_interval     0.000000\n",
      "date                   0.000000\n",
      "Loan Theme ID          2.013245\n",
      "Loan Theme Type        2.013245\n",
      "Partner ID             2.013245\n",
      "dtype: float64\n"
     ]
    }
   ],
   "source": [
    "# checking for null and duplicated values\n",
    "\n",
    "cleaner_checker(final_df)"
   ]
  },
  {
   "cell_type": "code",
   "execution_count": 467,
   "metadata": {},
   "outputs": [
    {
     "data": {
      "text/plain": [
       "tags\n",
       "user_favorite                                                                     27088\n",
       "#Parent, #Woman Owned Biz                                                         16597\n",
       "#Woman Owned Biz                                                                  12557\n",
       "#Parent                                                                           11671\n",
       "#Elderly                                                                           6482\n",
       "                                                                                  ...  \n",
       "volunteer_like, #Woman Owned Biz, #Widowed, #Single Parent, #Repeat Borrower          1\n",
       "#Animals, #Biz Durable Asset, #Elderly, #First Loan, #Schooling, user_favorite        1\n",
       "#Parent, #Repeat Borrower, #Low-profit FP, #Woman Owned Biz, #Animals                 1\n",
       "#Parent, #Vegan, #Woman Owned Biz, #Schooling, #Biz Durable Asset                     1\n",
       "user_favorite, #Parent, #Biz Durable Asset, #Vegan, user_favorite                     1\n",
       "Name: count, Length: 86719, dtype: int64"
      ]
     },
     "execution_count": 467,
     "metadata": {},
     "output_type": "execute_result"
    }
   ],
   "source": [
    "# reviewing the tags column that has  25% missing values on the entire dataset\n",
    "\n",
    "final_df['tags'].value_counts()"
   ]
  },
  {
   "cell_type": "markdown",
   "metadata": {},
   "source": [
    "`Observation / Columns to drop`\n",
    "* Tags column has 25%  percent missing data, this will be dropped since it does not factor in, in our demographic analysis\n",
    "* Loan Theme ID, Loan Theme Type, Partner ID  after careful consideration will dropped since they will not factor in our demographic analysis, they are well represented by other more complete columns,like sector == Loan Theme Type == Loan Theme ID"
   ]
  },
  {
   "cell_type": "code",
   "execution_count": 468,
   "metadata": {},
   "outputs": [],
   "source": [
    "columns_to_drop  =  ['tags','Loan Theme ID', 'Loan Theme Type', 'Partner ID' ]\n",
    "\n",
    "final_df.drop(columns=columns_to_drop, axis= 1, inplace= True)"
   ]
  },
  {
   "cell_type": "code",
   "execution_count": 469,
   "metadata": {},
   "outputs": [
    {
     "name": "stdout",
     "output_type": "stream",
     "text": [
      "Duplicated values: 0\n",
      "*******\n",
      "Null values:\n",
      " id                    0.0\n",
      "funded_amount         0.0\n",
      "loan_amount           0.0\n",
      "activity              0.0\n",
      "sector                0.0\n",
      "use                   0.0\n",
      "country_code          0.0\n",
      "country               0.0\n",
      "region                0.0\n",
      "currency              0.0\n",
      "partner_id            0.0\n",
      "posted_time           0.0\n",
      "disbursed_time        0.0\n",
      "funded_time           0.0\n",
      "term_in_months        0.0\n",
      "lender_count          0.0\n",
      "borrower_genders      0.0\n",
      "repayment_interval    0.0\n",
      "date                  0.0\n",
      "dtype: float64\n"
     ]
    }
   ],
   "source": [
    "# dropping rows of other null values\n",
    "\n",
    "final_df.dropna(inplace=True)\n",
    "\n",
    "cleaner_checker(final_df)"
   ]
  },
  {
   "cell_type": "markdown",
   "metadata": {},
   "source": [
    "`Changing the data types of my date time columns`"
   ]
  },
  {
   "cell_type": "code",
   "execution_count": 470,
   "metadata": {},
   "outputs": [
    {
     "name": "stdout",
     "output_type": "stream",
     "text": [
      "<class 'pandas.core.frame.DataFrame'>\n",
      "Index: 574115 entries, 0 to 671186\n",
      "Data columns (total 5 columns):\n",
      " #   Column          Non-Null Count   Dtype  \n",
      "---  ------          --------------   -----  \n",
      " 0   posted_time     574115 non-null  object \n",
      " 1   disbursed_time  574115 non-null  object \n",
      " 2   funded_time     574115 non-null  object \n",
      " 3   term_in_months  574115 non-null  float64\n",
      " 4   date            574115 non-null  object \n",
      "dtypes: float64(1), object(4)\n",
      "memory usage: 26.3+ MB\n"
     ]
    }
   ],
   "source": [
    "final_df[['posted_time', 'disbursed_time', 'funded_time','term_in_months', 'date' ]].info()"
   ]
  },
  {
   "cell_type": "code",
   "execution_count": 471,
   "metadata": {},
   "outputs": [],
   "source": [
    "# List of columns to convert to datetime format\n",
    "to_date = ['posted_time', 'disbursed_time', 'funded_time', 'date']\n",
    "\n",
    "# Loop through the specified columns and convert them to datetime\n",
    "for item in to_date:\n",
    "    # Convert the column to datetime using pd.to_datetime()\n",
    "    final_df[item] = pd.to_datetime(final_df[item])"
   ]
  },
  {
   "cell_type": "code",
   "execution_count": 472,
   "metadata": {},
   "outputs": [],
   "source": [
    "# List of columns to convert to the 'yyyy-mm-dd' format\n",
    "to_date = ['posted_time', 'disbursed_time', 'funded_time', 'date']\n",
    "\n",
    "# Loop through the specified columns and format them as 'yyyy-mm-dd'\n",
    "for item in to_date:\n",
    "    # Use the dt.strftime() function to format the date column\n",
    "    final_df[item] = final_df[item].dt.strftime('%Y-%m')\n"
   ]
  },
  {
   "cell_type": "code",
   "execution_count": 473,
   "metadata": {},
   "outputs": [
    {
     "data": {
      "text/html": [
       "<div>\n",
       "<style scoped>\n",
       "    .dataframe tbody tr th:only-of-type {\n",
       "        vertical-align: middle;\n",
       "    }\n",
       "\n",
       "    .dataframe tbody tr th {\n",
       "        vertical-align: top;\n",
       "    }\n",
       "\n",
       "    .dataframe thead th {\n",
       "        text-align: right;\n",
       "    }\n",
       "</style>\n",
       "<table border=\"1\" class=\"dataframe\">\n",
       "  <thead>\n",
       "    <tr style=\"text-align: right;\">\n",
       "      <th></th>\n",
       "      <th>posted_time</th>\n",
       "      <th>disbursed_time</th>\n",
       "      <th>funded_time</th>\n",
       "      <th>term_in_months</th>\n",
       "      <th>date</th>\n",
       "    </tr>\n",
       "  </thead>\n",
       "  <tbody>\n",
       "    <tr>\n",
       "      <th>0</th>\n",
       "      <td>2014-01</td>\n",
       "      <td>2013-12</td>\n",
       "      <td>2014-01</td>\n",
       "      <td>12.0</td>\n",
       "      <td>2014-01</td>\n",
       "    </tr>\n",
       "    <tr>\n",
       "      <th>1</th>\n",
       "      <td>2014-01</td>\n",
       "      <td>2013-12</td>\n",
       "      <td>2014-01</td>\n",
       "      <td>11.0</td>\n",
       "      <td>2014-01</td>\n",
       "    </tr>\n",
       "    <tr>\n",
       "      <th>2</th>\n",
       "      <td>2014-01</td>\n",
       "      <td>2013-12</td>\n",
       "      <td>2014-01</td>\n",
       "      <td>43.0</td>\n",
       "      <td>2014-01</td>\n",
       "    </tr>\n",
       "    <tr>\n",
       "      <th>3</th>\n",
       "      <td>2014-01</td>\n",
       "      <td>2013-12</td>\n",
       "      <td>2014-01</td>\n",
       "      <td>11.0</td>\n",
       "      <td>2014-01</td>\n",
       "    </tr>\n",
       "    <tr>\n",
       "      <th>4</th>\n",
       "      <td>2014-01</td>\n",
       "      <td>2013-12</td>\n",
       "      <td>2014-01</td>\n",
       "      <td>14.0</td>\n",
       "      <td>2014-01</td>\n",
       "    </tr>\n",
       "  </tbody>\n",
       "</table>\n",
       "</div>"
      ],
      "text/plain": [
       "  posted_time disbursed_time funded_time  term_in_months     date\n",
       "0     2014-01        2013-12     2014-01            12.0  2014-01\n",
       "1     2014-01        2013-12     2014-01            11.0  2014-01\n",
       "2     2014-01        2013-12     2014-01            43.0  2014-01\n",
       "3     2014-01        2013-12     2014-01            11.0  2014-01\n",
       "4     2014-01        2013-12     2014-01            14.0  2014-01"
      ]
     },
     "execution_count": 473,
     "metadata": {},
     "output_type": "execute_result"
    }
   ],
   "source": [
    "final_df[['posted_time', 'disbursed_time', 'funded_time','term_in_months', 'date' ]].head()"
   ]
  },
  {
   "cell_type": "code",
   "execution_count": 254,
   "metadata": {},
   "outputs": [
    {
     "data": {
      "text/plain": [
       "sector\n",
       "Agriculture       157003\n",
       "Food              117186\n",
       "Retail            105501\n",
       "Services           36244\n",
       "Personal Use       34245\n",
       "Education          28417\n",
       "Clothing           26167\n",
       "Housing            25331\n",
       "Transportation     13350\n",
       "Arts               10559\n",
       "Health              7725\n",
       "Manufacturing       5755\n",
       "Construction        5433\n",
       "Entertainment        614\n",
       "Wholesale            585\n",
       "Name: count, dtype: int64"
      ]
     },
     "execution_count": 254,
     "metadata": {},
     "output_type": "execute_result"
    }
   ],
   "source": [
    "# checking for consistency in some of my object columns\n",
    "\n",
    "columns_to_check = ['sector', 'activity', 'borrower_genders']\n",
    "\n",
    "final_df['sector'].value_counts()\n"
   ]
  },
  {
   "cell_type": "code",
   "execution_count": 255,
   "metadata": {},
   "outputs": [
    {
     "data": {
      "text/plain": [
       "activity\n",
       "Farming                      64370\n",
       "General Store                57127\n",
       "Pigs                         25608\n",
       "Personal Housing Expenses    24229\n",
       "Food Production/Sales        22462\n",
       "                             ...  \n",
       "Technology                       6\n",
       "Event Planning                   5\n",
       "Celebrations                     5\n",
       "Energy                           3\n",
       "Adult Care                       2\n",
       "Name: count, Length: 163, dtype: int64"
      ]
     },
     "execution_count": 255,
     "metadata": {},
     "output_type": "execute_result"
    }
   ],
   "source": [
    "# checking activity column value counts\n",
    "\n",
    "final_df['activity'].value_counts()"
   ]
  },
  {
   "cell_type": "code",
   "execution_count": 256,
   "metadata": {},
   "outputs": [
    {
     "data": {
      "text/plain": [
       "borrower_genders\n",
       "female                                                                                                                                                                                                                                                                                                          377744\n",
       "male                                                                                                                                                                                                                                                                                                            103365\n",
       "female, female                                                                                                                                                                                                                                                                                                   11410\n",
       "female, female, female                                                                                                                                                                                                                                                                                           10390\n",
       "female, female, female, female                                                                                                                                                                                                                                                                                    8384\n",
       "                                                                                                                                                                                                                                                                                                                 ...  \n",
       "female, female, female, female, female, female, female, female, female, female, female, female, female, female, female, female, female, female, female, female, male, female, female, female, female, female, female, female, female, female, female, female, female, female, female, female, female, female         1\n",
       "male, female, male, female, female, female, female, male, male                                                                                                                                                                                                                                                       1\n",
       "female, female, female, female, female, female, male, female, female, female, female, female, female, female, female, female, female, male, female, female, female, female, female, female, female, female, female, female, female, male, female, female, female, female, female, female                             1\n",
       "female, female, female, female, female, female, female, female, female, female, female, female, female, female, male, female, female, female, female, female, female, female, female, female, female, male, female, female                                                                                           1\n",
       "female, female, female, female, male, male, female, female, female, female, female, female                                                                                                                                                                                                                           1\n",
       "Name: count, Length: 8841, dtype: int64"
      ]
     },
     "execution_count": 256,
     "metadata": {},
     "output_type": "execute_result"
    }
   ],
   "source": [
    "# checking borrower_genders column value counts\n",
    "\n",
    "final_df['borrower_genders'].value_counts()"
   ]
  },
  {
   "cell_type": "markdown",
   "metadata": {},
   "source": [
    "`Observation`\n",
    "* the borrower gender column already has an issue where we see the strings repeated, this needs to be corrected"
   ]
  },
  {
   "cell_type": "code",
   "execution_count": 485,
   "metadata": {},
   "outputs": [
    {
     "data": {
      "text/plain": [
       "borrower_genders\n",
       "female    454928\n",
       "male      119187\n",
       "Name: count, dtype: int64"
      ]
     },
     "execution_count": 485,
     "metadata": {},
     "output_type": "execute_result"
    }
   ],
   "source": [
    "\n",
    "# Replacing multiple occurrences of 'female' or 'male' with a single occurrence using regular expressions \n",
    "\n",
    "final_df['borrower_genders']= final_df['borrower_genders'].str.replace(r',.*', '', regex=True)\n",
    "\n",
    "final_df['borrower_genders'].value_counts()"
   ]
  },
  {
   "cell_type": "markdown",
   "metadata": {},
   "source": [
    "### <span style=\"color:cyan\"> EDA</span>\n"
   ]
  },
  {
   "cell_type": "markdown",
   "metadata": {},
   "source": [
    "#### `Funded amount(USD) data by Country`"
   ]
  },
  {
   "cell_type": "code",
   "execution_count": 263,
   "metadata": {},
   "outputs": [],
   "source": [
    "# Getting funded amount and loan amount data in relation to country\n",
    "\n",
    "# Grouping the data set   \n",
    "\n",
    "geo_loc = final_df.groupby('country').agg({'funded_amount': 'sum', 'loan_amount': 'sum'}).reset_index()\n",
    " "
   ]
  },
  {
   "cell_type": "code",
   "execution_count": 266,
   "metadata": {},
   "outputs": [
    {
     "data": {
      "text/html": [
       "<div>\n",
       "<style scoped>\n",
       "    .dataframe tbody tr th:only-of-type {\n",
       "        vertical-align: middle;\n",
       "    }\n",
       "\n",
       "    .dataframe tbody tr th {\n",
       "        vertical-align: top;\n",
       "    }\n",
       "\n",
       "    .dataframe thead th {\n",
       "        text-align: right;\n",
       "    }\n",
       "</style>\n",
       "<table border=\"1\" class=\"dataframe\">\n",
       "  <thead>\n",
       "    <tr style=\"text-align: right;\">\n",
       "      <th></th>\n",
       "      <th>country</th>\n",
       "      <th>funded_amount</th>\n",
       "      <th>loan_amount</th>\n",
       "      <th>Geo</th>\n",
       "    </tr>\n",
       "  </thead>\n",
       "  <tbody>\n",
       "    <tr>\n",
       "      <th>0</th>\n",
       "      <td>Afghanistan</td>\n",
       "      <td>14000.0</td>\n",
       "      <td>14000.0</td>\n",
       "      <td>(افغانستان, (33.7680065, 66.2385139))</td>\n",
       "    </tr>\n",
       "    <tr>\n",
       "      <th>1</th>\n",
       "      <td>Albania</td>\n",
       "      <td>1884900.0</td>\n",
       "      <td>1884900.0</td>\n",
       "      <td>(Albania, La Guajira, RAP Caribe, Colombia, (1...</td>\n",
       "    </tr>\n",
       "    <tr>\n",
       "      <th>2</th>\n",
       "      <td>Armenia</td>\n",
       "      <td>9731750.0</td>\n",
       "      <td>9731750.0</td>\n",
       "      <td>(Armenia, Capital, Quindío, RAP Eje Cafetero, ...</td>\n",
       "    </tr>\n",
       "    <tr>\n",
       "      <th>3</th>\n",
       "      <td>Azerbaijan</td>\n",
       "      <td>2220675.0</td>\n",
       "      <td>2220675.0</td>\n",
       "      <td>(Azərbaycan, (40.3936294, 47.7872508))</td>\n",
       "    </tr>\n",
       "    <tr>\n",
       "      <th>4</th>\n",
       "      <td>Belize</td>\n",
       "      <td>111975.0</td>\n",
       "      <td>111975.0</td>\n",
       "      <td>(Belize, (16.8259793, -88.7600927))</td>\n",
       "    </tr>\n",
       "  </tbody>\n",
       "</table>\n",
       "</div>"
      ],
      "text/plain": [
       "       country  funded_amount  loan_amount  \\\n",
       "0  Afghanistan        14000.0      14000.0   \n",
       "1      Albania      1884900.0    1884900.0   \n",
       "2      Armenia      9731750.0    9731750.0   \n",
       "3   Azerbaijan      2220675.0    2220675.0   \n",
       "4       Belize       111975.0     111975.0   \n",
       "\n",
       "                                                 Geo  \n",
       "0              (افغانستان, (33.7680065, 66.2385139))  \n",
       "1  (Albania, La Guajira, RAP Caribe, Colombia, (1...  \n",
       "2  (Armenia, Capital, Quindío, RAP Eje Cafetero, ...  \n",
       "3             (Azərbaycan, (40.3936294, 47.7872508))  \n",
       "4                (Belize, (16.8259793, -88.7600927))  "
      ]
     },
     "execution_count": 266,
     "metadata": {},
     "output_type": "execute_result"
    }
   ],
   "source": [
    "nom = Nominatim(user_agent=\"GetLoc\")\n",
    "\n",
    "# Geocode each location in the 'country' column and assign the result to the 'Geo' column\n",
    "\n",
    "geo_loc['Geo'] = geo_loc['country'].apply(lambda x: nom.geocode(x) if x else None)\n",
    "\n",
    "\n",
    "geo_loc.head()\n"
   ]
  },
  {
   "cell_type": "code",
   "execution_count": 267,
   "metadata": {},
   "outputs": [
    {
     "data": {
      "text/html": [
       "<div>\n",
       "<style scoped>\n",
       "    .dataframe tbody tr th:only-of-type {\n",
       "        vertical-align: middle;\n",
       "    }\n",
       "\n",
       "    .dataframe tbody tr th {\n",
       "        vertical-align: top;\n",
       "    }\n",
       "\n",
       "    .dataframe thead th {\n",
       "        text-align: right;\n",
       "    }\n",
       "</style>\n",
       "<table border=\"1\" class=\"dataframe\">\n",
       "  <thead>\n",
       "    <tr style=\"text-align: right;\">\n",
       "      <th></th>\n",
       "      <th>country</th>\n",
       "      <th>funded_amount</th>\n",
       "      <th>loan_amount</th>\n",
       "      <th>Geo</th>\n",
       "      <th>Latitude</th>\n",
       "      <th>Longitude</th>\n",
       "    </tr>\n",
       "  </thead>\n",
       "  <tbody>\n",
       "    <tr>\n",
       "      <th>0</th>\n",
       "      <td>Afghanistan</td>\n",
       "      <td>14000.0</td>\n",
       "      <td>14000.0</td>\n",
       "      <td>(افغانستان, (33.7680065, 66.2385139))</td>\n",
       "      <td>33.768006</td>\n",
       "      <td>66.238514</td>\n",
       "    </tr>\n",
       "    <tr>\n",
       "      <th>1</th>\n",
       "      <td>Albania</td>\n",
       "      <td>1884900.0</td>\n",
       "      <td>1884900.0</td>\n",
       "      <td>(Albania, La Guajira, RAP Caribe, Colombia, (1...</td>\n",
       "      <td>11.244803</td>\n",
       "      <td>-72.516097</td>\n",
       "    </tr>\n",
       "    <tr>\n",
       "      <th>2</th>\n",
       "      <td>Armenia</td>\n",
       "      <td>9731750.0</td>\n",
       "      <td>9731750.0</td>\n",
       "      <td>(Armenia, Capital, Quindío, RAP Eje Cafetero, ...</td>\n",
       "      <td>4.491976</td>\n",
       "      <td>-75.741351</td>\n",
       "    </tr>\n",
       "    <tr>\n",
       "      <th>3</th>\n",
       "      <td>Azerbaijan</td>\n",
       "      <td>2220675.0</td>\n",
       "      <td>2220675.0</td>\n",
       "      <td>(Azərbaycan, (40.3936294, 47.7872508))</td>\n",
       "      <td>40.393629</td>\n",
       "      <td>47.787251</td>\n",
       "    </tr>\n",
       "    <tr>\n",
       "      <th>4</th>\n",
       "      <td>Belize</td>\n",
       "      <td>111975.0</td>\n",
       "      <td>111975.0</td>\n",
       "      <td>(Belize, (16.8259793, -88.7600927))</td>\n",
       "      <td>16.825979</td>\n",
       "      <td>-88.760093</td>\n",
       "    </tr>\n",
       "  </tbody>\n",
       "</table>\n",
       "</div>"
      ],
      "text/plain": [
       "       country  funded_amount  loan_amount  \\\n",
       "0  Afghanistan        14000.0      14000.0   \n",
       "1      Albania      1884900.0    1884900.0   \n",
       "2      Armenia      9731750.0    9731750.0   \n",
       "3   Azerbaijan      2220675.0    2220675.0   \n",
       "4       Belize       111975.0     111975.0   \n",
       "\n",
       "                                                 Geo   Latitude  Longitude  \n",
       "0              (افغانستان, (33.7680065, 66.2385139))  33.768006  66.238514  \n",
       "1  (Albania, La Guajira, RAP Caribe, Colombia, (1...  11.244803 -72.516097  \n",
       "2  (Armenia, Capital, Quindío, RAP Eje Cafetero, ...   4.491976 -75.741351  \n",
       "3             (Azərbaycan, (40.3936294, 47.7872508))  40.393629  47.787251  \n",
       "4                (Belize, (16.8259793, -88.7600927))  16.825979 -88.760093  "
      ]
     },
     "execution_count": 267,
     "metadata": {},
     "output_type": "execute_result"
    }
   ],
   "source": [
    "# Extract latitude from the 'Geometry' column and assign it to the 'Latitude' column\n",
    "\n",
    "geo_loc['Latitude'] = geo_loc['Geo'].apply(lambda loc: loc.latitude if loc else None)\n",
    "\n",
    "# Extract longitude from the 'Geometry' column and assign it to the 'Longitude' column\n",
    "\n",
    "geo_loc['Longitude'] = geo_loc['Geo'].apply(lambda loc: loc.longitude if loc else None)\n",
    "\n",
    "geo_loc.head()"
   ]
  },
  {
   "cell_type": "code",
   "execution_count": 476,
   "metadata": {},
   "outputs": [],
   "source": [
    "# Visual of country with largest funded amounts\n",
    "\n",
    "m1 = folium.Map(location=[39.326234, -4.838065], tiles= 'openstreetmap', zoom_start=3)\n",
    "\n",
    "# Define a function to determine the color based on the 'funded_amount' value where anything below 1,000,000 is green\n",
    "\n",
    "def color_producer(val):\n",
    "    if val <=1000000:\n",
    "        return 'red'\n",
    "    else:\n",
    "        return 'green'\n",
    "\n",
    "# Iterate through the rows in the 'geo_loc' DataFrame\n",
    "\n",
    "for i in range(0, len(geo_loc)):\n",
    "    # Create a folium Circle object and add it to a map (m1)\n",
    "    folium.Circle(\n",
    "        location=[geo_loc.iloc[i]['Latitude'], geo_loc.iloc[i]['Longitude']],  # Specify the location using Latitude and Longitude columns\n",
    "        radius=0.018 * geo_loc.iloc[i]['funded_amount'],  # Setting the radius based on 'funded_amount' column\n",
    "        color=color_producer(geo_loc.iloc[i]['funded_amount'])  # Determine the color using the color_producer function\n",
    "    ).add_to(m1)  # Add the Circle object to the map 'm1'\n",
    "    \n",
    "m1.save('map1.html')"
   ]
  },
  {
   "cell_type": "code",
   "execution_count": 477,
   "metadata": {},
   "outputs": [
    {
     "data": {
      "text/html": [
       "<div style=\"width:100%;\"><div style=\"position:relative;width:100%;height:0;padding-bottom:60%;\"><span style=\"color:#565656\">Make this Notebook Trusted to load map: File -> Trust Notebook</span><iframe srcdoc=\"&lt;!DOCTYPE html&gt;\n",
       "&lt;html&gt;\n",
       "&lt;head&gt;\n",
       "    \n",
       "    &lt;meta http-equiv=&quot;content-type&quot; content=&quot;text/html; charset=UTF-8&quot; /&gt;\n",
       "    \n",
       "        &lt;script&gt;\n",
       "            L_NO_TOUCH = false;\n",
       "            L_DISABLE_3D = false;\n",
       "        &lt;/script&gt;\n",
       "    \n",
       "    &lt;style&gt;html, body {width: 100%;height: 100%;margin: 0;padding: 0;}&lt;/style&gt;\n",
       "    &lt;style&gt;#map {position:absolute;top:0;bottom:0;right:0;left:0;}&lt;/style&gt;\n",
       "    &lt;script src=&quot;https://cdn.jsdelivr.net/npm/leaflet@1.9.3/dist/leaflet.js&quot;&gt;&lt;/script&gt;\n",
       "    &lt;script src=&quot;https://code.jquery.com/jquery-1.12.4.min.js&quot;&gt;&lt;/script&gt;\n",
       "    &lt;script src=&quot;https://cdn.jsdelivr.net/npm/bootstrap@5.2.2/dist/js/bootstrap.bundle.min.js&quot;&gt;&lt;/script&gt;\n",
       "    &lt;script src=&quot;https://cdnjs.cloudflare.com/ajax/libs/Leaflet.awesome-markers/2.0.2/leaflet.awesome-markers.js&quot;&gt;&lt;/script&gt;\n",
       "    &lt;link rel=&quot;stylesheet&quot; href=&quot;https://cdn.jsdelivr.net/npm/leaflet@1.9.3/dist/leaflet.css&quot;/&gt;\n",
       "    &lt;link rel=&quot;stylesheet&quot; href=&quot;https://cdn.jsdelivr.net/npm/bootstrap@5.2.2/dist/css/bootstrap.min.css&quot;/&gt;\n",
       "    &lt;link rel=&quot;stylesheet&quot; href=&quot;https://netdna.bootstrapcdn.com/bootstrap/3.0.0/css/bootstrap.min.css&quot;/&gt;\n",
       "    &lt;link rel=&quot;stylesheet&quot; href=&quot;https://cdn.jsdelivr.net/npm/@fortawesome/fontawesome-free@6.2.0/css/all.min.css&quot;/&gt;\n",
       "    &lt;link rel=&quot;stylesheet&quot; href=&quot;https://cdnjs.cloudflare.com/ajax/libs/Leaflet.awesome-markers/2.0.2/leaflet.awesome-markers.css&quot;/&gt;\n",
       "    &lt;link rel=&quot;stylesheet&quot; href=&quot;https://cdn.jsdelivr.net/gh/python-visualization/folium/folium/templates/leaflet.awesome.rotate.min.css&quot;/&gt;\n",
       "    \n",
       "            &lt;meta name=&quot;viewport&quot; content=&quot;width=device-width,\n",
       "                initial-scale=1.0, maximum-scale=1.0, user-scalable=no&quot; /&gt;\n",
       "            &lt;style&gt;\n",
       "                #map_eb3ba7e965ab10526a9c78affea72a1b {\n",
       "                    position: relative;\n",
       "                    width: 100.0%;\n",
       "                    height: 100.0%;\n",
       "                    left: 0.0%;\n",
       "                    top: 0.0%;\n",
       "                }\n",
       "                .leaflet-container { font-size: 1rem; }\n",
       "            &lt;/style&gt;\n",
       "        \n",
       "&lt;/head&gt;\n",
       "&lt;body&gt;\n",
       "    \n",
       "    \n",
       "            &lt;div class=&quot;folium-map&quot; id=&quot;map_eb3ba7e965ab10526a9c78affea72a1b&quot; &gt;&lt;/div&gt;\n",
       "        \n",
       "&lt;/body&gt;\n",
       "&lt;script&gt;\n",
       "    \n",
       "    \n",
       "            var map_eb3ba7e965ab10526a9c78affea72a1b = L.map(\n",
       "                &quot;map_eb3ba7e965ab10526a9c78affea72a1b&quot;,\n",
       "                {\n",
       "                    center: [39.326234, -4.838065],\n",
       "                    crs: L.CRS.EPSG3857,\n",
       "                    zoom: 3,\n",
       "                    zoomControl: true,\n",
       "                    preferCanvas: false,\n",
       "                }\n",
       "            );\n",
       "\n",
       "            \n",
       "\n",
       "        \n",
       "    \n",
       "            var tile_layer_c69fa5eb2418040ef94eb0f359a2181d = L.tileLayer(\n",
       "                &quot;https://{s}.tile.openstreetmap.org/{z}/{x}/{y}.png&quot;,\n",
       "                {&quot;attribution&quot;: &quot;Data by \\u0026copy; \\u003ca target=\\&quot;_blank\\&quot; href=\\&quot;http://openstreetmap.org\\&quot;\\u003eOpenStreetMap\\u003c/a\\u003e, under \\u003ca target=\\&quot;_blank\\&quot; href=\\&quot;http://www.openstreetmap.org/copyright\\&quot;\\u003eODbL\\u003c/a\\u003e.&quot;, &quot;detectRetina&quot;: false, &quot;maxNativeZoom&quot;: 18, &quot;maxZoom&quot;: 18, &quot;minZoom&quot;: 0, &quot;noWrap&quot;: false, &quot;opacity&quot;: 1, &quot;subdomains&quot;: &quot;abc&quot;, &quot;tms&quot;: false}\n",
       "            ).addTo(map_eb3ba7e965ab10526a9c78affea72a1b);\n",
       "        \n",
       "    \n",
       "            var circle_49537e2f3f33bd6632c90e91cb0ea012 = L.circle(\n",
       "                [33.7680065, 66.2385139],\n",
       "                {&quot;bubblingMouseEvents&quot;: true, &quot;color&quot;: &quot;red&quot;, &quot;dashArray&quot;: null, &quot;dashOffset&quot;: null, &quot;fill&quot;: false, &quot;fillColor&quot;: &quot;red&quot;, &quot;fillOpacity&quot;: 0.2, &quot;fillRule&quot;: &quot;evenodd&quot;, &quot;lineCap&quot;: &quot;round&quot;, &quot;lineJoin&quot;: &quot;round&quot;, &quot;opacity&quot;: 1.0, &quot;radius&quot;: 251.99999999999997, &quot;stroke&quot;: true, &quot;weight&quot;: 3}\n",
       "            ).addTo(map_eb3ba7e965ab10526a9c78affea72a1b);\n",
       "        \n",
       "    \n",
       "            var circle_fbeb6ba2ee2295db804dee27e6d8e938 = L.circle(\n",
       "                [11.244803399999999, -72.51609706675976],\n",
       "                {&quot;bubblingMouseEvents&quot;: true, &quot;color&quot;: &quot;green&quot;, &quot;dashArray&quot;: null, &quot;dashOffset&quot;: null, &quot;fill&quot;: false, &quot;fillColor&quot;: &quot;green&quot;, &quot;fillOpacity&quot;: 0.2, &quot;fillRule&quot;: &quot;evenodd&quot;, &quot;lineCap&quot;: &quot;round&quot;, &quot;lineJoin&quot;: &quot;round&quot;, &quot;opacity&quot;: 1.0, &quot;radius&quot;: 33928.2, &quot;stroke&quot;: true, &quot;weight&quot;: 3}\n",
       "            ).addTo(map_eb3ba7e965ab10526a9c78affea72a1b);\n",
       "        \n",
       "    \n",
       "            var circle_a3db01cb7dae9a2232deee528bb0c513 = L.circle(\n",
       "                [4.491976149999999, -75.74135085294314],\n",
       "                {&quot;bubblingMouseEvents&quot;: true, &quot;color&quot;: &quot;green&quot;, &quot;dashArray&quot;: null, &quot;dashOffset&quot;: null, &quot;fill&quot;: false, &quot;fillColor&quot;: &quot;green&quot;, &quot;fillOpacity&quot;: 0.2, &quot;fillRule&quot;: &quot;evenodd&quot;, &quot;lineCap&quot;: &quot;round&quot;, &quot;lineJoin&quot;: &quot;round&quot;, &quot;opacity&quot;: 1.0, &quot;radius&quot;: 175171.5, &quot;stroke&quot;: true, &quot;weight&quot;: 3}\n",
       "            ).addTo(map_eb3ba7e965ab10526a9c78affea72a1b);\n",
       "        \n",
       "    \n",
       "            var circle_50f9ba2eed6c8921342b8f7865a24d51 = L.circle(\n",
       "                [40.3936294, 47.7872508],\n",
       "                {&quot;bubblingMouseEvents&quot;: true, &quot;color&quot;: &quot;green&quot;, &quot;dashArray&quot;: null, &quot;dashOffset&quot;: null, &quot;fill&quot;: false, &quot;fillColor&quot;: &quot;green&quot;, &quot;fillOpacity&quot;: 0.2, &quot;fillRule&quot;: &quot;evenodd&quot;, &quot;lineCap&quot;: &quot;round&quot;, &quot;lineJoin&quot;: &quot;round&quot;, &quot;opacity&quot;: 1.0, &quot;radius&quot;: 39972.149999999994, &quot;stroke&quot;: true, &quot;weight&quot;: 3}\n",
       "            ).addTo(map_eb3ba7e965ab10526a9c78affea72a1b);\n",
       "        \n",
       "    \n",
       "            var circle_df1c28a09d443121bf56b2753eb699e7 = L.circle(\n",
       "                [16.8259793, -88.7600927],\n",
       "                {&quot;bubblingMouseEvents&quot;: true, &quot;color&quot;: &quot;red&quot;, &quot;dashArray&quot;: null, &quot;dashOffset&quot;: null, &quot;fill&quot;: false, &quot;fillColor&quot;: &quot;red&quot;, &quot;fillOpacity&quot;: 0.2, &quot;fillRule&quot;: &quot;evenodd&quot;, &quot;lineCap&quot;: &quot;round&quot;, &quot;lineJoin&quot;: &quot;round&quot;, &quot;opacity&quot;: 1.0, &quot;radius&quot;: 2015.55, &quot;stroke&quot;: true, &quot;weight&quot;: 3}\n",
       "            ).addTo(map_eb3ba7e965ab10526a9c78affea72a1b);\n",
       "        \n",
       "    \n",
       "            var circle_8cffdec213274455e3263c6a93ab35b9 = L.circle(\n",
       "                [9.5293472, 2.2584408],\n",
       "                {&quot;bubblingMouseEvents&quot;: true, &quot;color&quot;: &quot;red&quot;, &quot;dashArray&quot;: null, &quot;dashOffset&quot;: null, &quot;fill&quot;: false, &quot;fillColor&quot;: &quot;red&quot;, &quot;fillOpacity&quot;: 0.2, &quot;fillRule&quot;: &quot;evenodd&quot;, &quot;lineCap&quot;: &quot;round&quot;, &quot;lineJoin&quot;: &quot;round&quot;, &quot;opacity&quot;: 1.0, &quot;radius&quot;: 905.4, &quot;stroke&quot;: true, &quot;weight&quot;: 3}\n",
       "            ).addTo(map_eb3ba7e965ab10526a9c78affea72a1b);\n",
       "        \n",
       "    \n",
       "            var circle_688890f117da625d8bc86b562b81a6cc = L.circle(\n",
       "                [33.0204804, 75.6458366],\n",
       "                {&quot;bubblingMouseEvents&quot;: true, &quot;color&quot;: &quot;red&quot;, &quot;dashArray&quot;: null, &quot;dashOffset&quot;: null, &quot;fill&quot;: false, &quot;fillColor&quot;: &quot;red&quot;, &quot;fillOpacity&quot;: 0.2, &quot;fillRule&quot;: &quot;evenodd&quot;, &quot;lineCap&quot;: &quot;round&quot;, &quot;lineJoin&quot;: &quot;round&quot;, &quot;opacity&quot;: 1.0, &quot;radius&quot;: 180.0, &quot;stroke&quot;: true, &quot;weight&quot;: 3}\n",
       "            ).addTo(map_eb3ba7e965ab10526a9c78affea72a1b);\n",
       "        \n",
       "    \n",
       "            var circle_63618d8406b9569631ee6a34d677a294 = L.circle(\n",
       "                [-17.0568696, -64.9912286],\n",
       "                {&quot;bubblingMouseEvents&quot;: true, &quot;color&quot;: &quot;green&quot;, &quot;dashArray&quot;: null, &quot;dashOffset&quot;: null, &quot;fill&quot;: false, &quot;fillColor&quot;: &quot;green&quot;, &quot;fillOpacity&quot;: 0.2, &quot;fillRule&quot;: &quot;evenodd&quot;, &quot;lineCap&quot;: &quot;round&quot;, &quot;lineJoin&quot;: &quot;round&quot;, &quot;opacity&quot;: 1.0, &quot;radius&quot;: 298047.6, &quot;stroke&quot;: true, &quot;weight&quot;: 3}\n",
       "            ).addTo(map_eb3ba7e965ab10526a9c78affea72a1b);\n",
       "        \n",
       "    \n",
       "            var circle_dd163f387616e60da83a24442ff71ba4 = L.circle(\n",
       "                [-10.3333333, -53.2],\n",
       "                {&quot;bubblingMouseEvents&quot;: true, &quot;color&quot;: &quot;red&quot;, &quot;dashArray&quot;: null, &quot;dashOffset&quot;: null, &quot;fill&quot;: false, &quot;fillColor&quot;: &quot;red&quot;, &quot;fillOpacity&quot;: 0.2, &quot;fillRule&quot;: &quot;evenodd&quot;, &quot;lineCap&quot;: &quot;round&quot;, &quot;lineJoin&quot;: &quot;round&quot;, &quot;opacity&quot;: 1.0, &quot;radius&quot;: 10912.5, &quot;stroke&quot;: true, &quot;weight&quot;: 3}\n",
       "            ).addTo(map_eb3ba7e965ab10526a9c78affea72a1b);\n",
       "        \n",
       "    \n",
       "            var circle_23dbd95a22f3d2d170bfe31779e3d53c = L.circle(\n",
       "                [12.0753083, -1.6880314],\n",
       "                {&quot;bubblingMouseEvents&quot;: true, &quot;color&quot;: &quot;green&quot;, &quot;dashArray&quot;: null, &quot;dashOffset&quot;: null, &quot;fill&quot;: false, &quot;fillColor&quot;: &quot;green&quot;, &quot;fillOpacity&quot;: 0.2, &quot;fillRule&quot;: &quot;evenodd&quot;, &quot;lineCap&quot;: &quot;round&quot;, &quot;lineJoin&quot;: &quot;round&quot;, &quot;opacity&quot;: 1.0, &quot;radius&quot;: 51863.399999999994, &quot;stroke&quot;: true, &quot;weight&quot;: 3}\n",
       "            ).addTo(map_eb3ba7e965ab10526a9c78affea72a1b);\n",
       "        \n",
       "    \n",
       "            var circle_417845bb731e78ca9d5b5ce75ce18f2d = L.circle(\n",
       "                [-3.426449, 29.9324519],\n",
       "                {&quot;bubblingMouseEvents&quot;: true, &quot;color&quot;: &quot;green&quot;, &quot;dashArray&quot;: null, &quot;dashOffset&quot;: null, &quot;fill&quot;: false, &quot;fillColor&quot;: &quot;green&quot;, &quot;fillOpacity&quot;: 0.2, &quot;fillRule&quot;: &quot;evenodd&quot;, &quot;lineCap&quot;: &quot;round&quot;, &quot;lineJoin&quot;: &quot;round&quot;, &quot;opacity&quot;: 1.0, &quot;radius&quot;: 39407.399999999994, &quot;stroke&quot;: true, &quot;weight&quot;: 3}\n",
       "            ).addTo(map_eb3ba7e965ab10526a9c78affea72a1b);\n",
       "        \n",
       "    \n",
       "            var circle_a6649d840d4d604b65e4166e944f3cce = L.circle(\n",
       "                [3.9767059, -73.1493675],\n",
       "                {&quot;bubblingMouseEvents&quot;: true, &quot;color&quot;: &quot;green&quot;, &quot;dashArray&quot;: null, &quot;dashOffset&quot;: null, &quot;fill&quot;: false, &quot;fillColor&quot;: &quot;green&quot;, &quot;fillOpacity&quot;: 0.2, &quot;fillRule&quot;: &quot;evenodd&quot;, &quot;lineCap&quot;: &quot;round&quot;, &quot;lineJoin&quot;: &quot;round&quot;, &quot;opacity&quot;: 1.0, &quot;radius&quot;: 327241.8, &quot;stroke&quot;: true, &quot;weight&quot;: 3}\n",
       "            ).addTo(map_eb3ba7e965ab10526a9c78affea72a1b);\n",
       "        \n",
       "    \n",
       "            var circle_2c0282aca0edb9d00fd0453fc711dc5a = L.circle(\n",
       "                [4.6125522, 13.1535811],\n",
       "                {&quot;bubblingMouseEvents&quot;: true, &quot;color&quot;: &quot;red&quot;, &quot;dashArray&quot;: null, &quot;dashOffset&quot;: null, &quot;fill&quot;: false, &quot;fillColor&quot;: &quot;red&quot;, &quot;fillOpacity&quot;: 0.2, &quot;fillRule&quot;: &quot;evenodd&quot;, &quot;lineCap&quot;: &quot;round&quot;, &quot;lineJoin&quot;: &quot;round&quot;, &quot;opacity&quot;: 1.0, &quot;radius&quot;: 11023.199999999999, &quot;stroke&quot;: true, &quot;weight&quot;: 3}\n",
       "            ).addTo(map_eb3ba7e965ab10526a9c78affea72a1b);\n",
       "        \n",
       "    \n",
       "            var circle_73f22b64cb192ce31b8e74abad5de27e = L.circle(\n",
       "                [-31.7613365, -71.3187697],\n",
       "                {&quot;bubblingMouseEvents&quot;: true, &quot;color&quot;: &quot;red&quot;, &quot;dashArray&quot;: null, &quot;dashOffset&quot;: null, &quot;fill&quot;: false, &quot;fillColor&quot;: &quot;red&quot;, &quot;fillOpacity&quot;: 0.2, &quot;fillRule&quot;: &quot;evenodd&quot;, &quot;lineCap&quot;: &quot;round&quot;, &quot;lineJoin&quot;: &quot;round&quot;, &quot;opacity&quot;: 1.0, &quot;radius&quot;: 1309.05, &quot;stroke&quot;: true, &quot;weight&quot;: 3}\n",
       "            ).addTo(map_eb3ba7e965ab10526a9c78affea72a1b);\n",
       "        \n",
       "    \n",
       "            var circle_7b4ac9a2a86a3f061118b0e71e6a683d = L.circle(\n",
       "                [30.047992, -94.3357433],\n",
       "                {&quot;bubblingMouseEvents&quot;: true, &quot;color&quot;: &quot;red&quot;, &quot;dashArray&quot;: null, &quot;dashOffset&quot;: null, &quot;fill&quot;: false, &quot;fillColor&quot;: &quot;red&quot;, &quot;fillOpacity&quot;: 0.2, &quot;fillRule&quot;: &quot;evenodd&quot;, &quot;lineCap&quot;: &quot;round&quot;, &quot;lineJoin&quot;: &quot;round&quot;, &quot;opacity&quot;: 1.0, &quot;radius&quot;: 6705.45, &quot;stroke&quot;: true, &quot;weight&quot;: 3}\n",
       "            ).addTo(map_eb3ba7e965ab10526a9c78affea72a1b);\n",
       "        \n",
       "    \n",
       "            var circle_a92908f8f096f1e5ecb3f30ba6359223 = L.circle(\n",
       "                [4.099917, -72.9088133],\n",
       "                {&quot;bubblingMouseEvents&quot;: true, &quot;color&quot;: &quot;green&quot;, &quot;dashArray&quot;: null, &quot;dashOffset&quot;: null, &quot;fill&quot;: false, &quot;fillColor&quot;: &quot;green&quot;, &quot;fillOpacity&quot;: 0.2, &quot;fillRule&quot;: &quot;evenodd&quot;, &quot;lineCap&quot;: &quot;round&quot;, &quot;lineJoin&quot;: &quot;round&quot;, &quot;opacity&quot;: 1.0, &quot;radius&quot;: 181580.4, &quot;stroke&quot;: true, &quot;weight&quot;: 3}\n",
       "            ).addTo(map_eb3ba7e965ab10526a9c78affea72a1b);\n",
       "        \n",
       "    \n",
       "            var circle_abf9b90c8adb7e3890ca104687823fb3 = L.circle(\n",
       "                [-2.9814344, 23.8222636],\n",
       "                {&quot;bubblingMouseEvents&quot;: true, &quot;color&quot;: &quot;red&quot;, &quot;dashArray&quot;: null, &quot;dashOffset&quot;: null, &quot;fill&quot;: false, &quot;fillColor&quot;: &quot;red&quot;, &quot;fillOpacity&quot;: 0.2, &quot;fillRule&quot;: &quot;evenodd&quot;, &quot;lineCap&quot;: &quot;round&quot;, &quot;lineJoin&quot;: &quot;round&quot;, &quot;opacity&quot;: 1.0, &quot;radius&quot;: 14152.499999999998, &quot;stroke&quot;: true, &quot;weight&quot;: 3}\n",
       "            ).addTo(map_eb3ba7e965ab10526a9c78affea72a1b);\n",
       "        \n",
       "    \n",
       "            var circle_d14358cd309f9d4427d4133c92cd0e59 = L.circle(\n",
       "                [9.536456900000001, -84.17566257468567],\n",
       "                {&quot;bubblingMouseEvents&quot;: true, &quot;color&quot;: &quot;green&quot;, &quot;dashArray&quot;: null, &quot;dashOffset&quot;: null, &quot;fill&quot;: false, &quot;fillColor&quot;: &quot;green&quot;, &quot;fillOpacity&quot;: 0.2, &quot;fillRule&quot;: &quot;evenodd&quot;, &quot;lineCap&quot;: &quot;round&quot;, &quot;lineJoin&quot;: &quot;round&quot;, &quot;opacity&quot;: 1.0, &quot;radius&quot;: 34004.25, &quot;stroke&quot;: true, &quot;weight&quot;: 3}\n",
       "            ).addTo(map_eb3ba7e965ab10526a9c78affea72a1b);\n",
       "        \n",
       "    \n",
       "            var circle_32e244cbe8e2cc0dda5d1475802c3491 = L.circle(\n",
       "                [7.9897371, -5.5679458],\n",
       "                {&quot;bubblingMouseEvents&quot;: true, &quot;color&quot;: &quot;red&quot;, &quot;dashArray&quot;: null, &quot;dashOffset&quot;: null, &quot;fill&quot;: false, &quot;fillColor&quot;: &quot;red&quot;, &quot;fillOpacity&quot;: 0.2, &quot;fillRule&quot;: &quot;evenodd&quot;, &quot;lineCap&quot;: &quot;round&quot;, &quot;lineJoin&quot;: &quot;round&quot;, &quot;opacity&quot;: 1.0, &quot;radius&quot;: 899.9999999999999, &quot;stroke&quot;: true, &quot;weight&quot;: 3}\n",
       "            ).addTo(map_eb3ba7e965ab10526a9c78affea72a1b);\n",
       "        \n",
       "    \n",
       "            var circle_45d789b86965bc91ea41c956e4434774 = L.circle(\n",
       "                [19.0974031, -70.3028026],\n",
       "                {&quot;bubblingMouseEvents&quot;: true, &quot;color&quot;: &quot;green&quot;, &quot;dashArray&quot;: null, &quot;dashOffset&quot;: null, &quot;fill&quot;: false, &quot;fillColor&quot;: &quot;green&quot;, &quot;fillOpacity&quot;: 0.2, &quot;fillRule&quot;: &quot;evenodd&quot;, &quot;lineCap&quot;: &quot;round&quot;, &quot;lineJoin&quot;: &quot;round&quot;, &quot;opacity&quot;: 1.0, &quot;radius&quot;: 34846.2, &quot;stroke&quot;: true, &quot;weight&quot;: 3}\n",
       "            ).addTo(map_eb3ba7e965ab10526a9c78affea72a1b);\n",
       "        \n",
       "    \n",
       "            var circle_1eae961e7da827ea67b2d8964e17f8f8 = L.circle(\n",
       "                [-1.3397668, -79.3666965],\n",
       "                {&quot;bubblingMouseEvents&quot;: true, &quot;color&quot;: &quot;green&quot;, &quot;dashArray&quot;: null, &quot;dashOffset&quot;: null, &quot;fill&quot;: false, &quot;fillColor&quot;: &quot;green&quot;, &quot;fillOpacity&quot;: 0.2, &quot;fillRule&quot;: &quot;evenodd&quot;, &quot;lineCap&quot;: &quot;round&quot;, &quot;lineJoin&quot;: &quot;round&quot;, &quot;opacity&quot;: 1.0, &quot;radius&quot;: 254944.34999999998, &quot;stroke&quot;: true, &quot;weight&quot;: 3}\n",
       "            ).addTo(map_eb3ba7e965ab10526a9c78affea72a1b);\n",
       "        \n",
       "    \n",
       "            var circle_59b552e23bd8842cd21a082d9cc6f628 = L.circle(\n",
       "                [35.8681298, -90.9456751],\n",
       "                {&quot;bubblingMouseEvents&quot;: true, &quot;color&quot;: &quot;green&quot;, &quot;dashArray&quot;: null, &quot;dashOffset&quot;: null, &quot;fill&quot;: false, &quot;fillColor&quot;: &quot;green&quot;, &quot;fillOpacity&quot;: 0.2, &quot;fillRule&quot;: &quot;evenodd&quot;, &quot;lineCap&quot;: &quot;round&quot;, &quot;lineJoin&quot;: &quot;round&quot;, &quot;opacity&quot;: 1.0, &quot;radius&quot;: 19464.75, &quot;stroke&quot;: true, &quot;weight&quot;: 3}\n",
       "            ).addTo(map_eb3ba7e965ab10526a9c78affea72a1b);\n",
       "        \n",
       "    \n",
       "            var circle_744128165c2be6d37c136edfe0aa361e = L.circle(\n",
       "                [13.8000382, -88.9140683],\n",
       "                {&quot;bubblingMouseEvents&quot;: true, &quot;color&quot;: &quot;green&quot;, &quot;dashArray&quot;: null, &quot;dashOffset&quot;: null, &quot;fill&quot;: false, &quot;fillColor&quot;: &quot;green&quot;, &quot;fillOpacity&quot;: 0.2, &quot;fillRule&quot;: &quot;evenodd&quot;, &quot;lineCap&quot;: &quot;round&quot;, &quot;lineJoin&quot;: &quot;round&quot;, &quot;opacity&quot;: 1.0, &quot;radius&quot;: 191919.59999999998, &quot;stroke&quot;: true, &quot;weight&quot;: 3}\n",
       "            ).addTo(map_eb3ba7e965ab10526a9c78affea72a1b);\n",
       "        \n",
       "    \n",
       "            var circle_9864991873c060ae1fd7e993978eabf0 = L.circle(\n",
       "                [32.3293809, -83.1137366],\n",
       "                {&quot;bubblingMouseEvents&quot;: true, &quot;color&quot;: &quot;green&quot;, &quot;dashArray&quot;: null, &quot;dashOffset&quot;: null, &quot;fill&quot;: false, &quot;fillColor&quot;: &quot;green&quot;, &quot;fillOpacity&quot;: 0.2, &quot;fillRule&quot;: &quot;evenodd&quot;, &quot;lineCap&quot;: &quot;round&quot;, &quot;lineJoin&quot;: &quot;round&quot;, &quot;opacity&quot;: 1.0, &quot;radius&quot;: 57749.85, &quot;stroke&quot;: true, &quot;weight&quot;: 3}\n",
       "            ).addTo(map_eb3ba7e965ab10526a9c78affea72a1b);\n",
       "        \n",
       "    \n",
       "            var circle_75725b64d3c72ef9d95b6b630d95a935 = L.circle(\n",
       "                [8.0300284, -1.0800271],\n",
       "                {&quot;bubblingMouseEvents&quot;: true, &quot;color&quot;: &quot;green&quot;, &quot;dashArray&quot;: null, &quot;dashOffset&quot;: null, &quot;fill&quot;: false, &quot;fillColor&quot;: &quot;green&quot;, &quot;fillOpacity&quot;: 0.2, &quot;fillRule&quot;: &quot;evenodd&quot;, &quot;lineCap&quot;: &quot;round&quot;, &quot;lineJoin&quot;: &quot;round&quot;, &quot;opacity&quot;: 1.0, &quot;radius&quot;: 81507.59999999999, &quot;stroke&quot;: true, &quot;weight&quot;: 3}\n",
       "            ).addTo(map_eb3ba7e965ab10526a9c78affea72a1b);\n",
       "        \n",
       "    \n",
       "            var circle_02d7526e8a6d727ef06e5a7b59c394df = L.circle(\n",
       "                [15.5855545, -90.345759],\n",
       "                {&quot;bubblingMouseEvents&quot;: true, &quot;color&quot;: &quot;green&quot;, &quot;dashArray&quot;: null, &quot;dashOffset&quot;: null, &quot;fill&quot;: false, &quot;fillColor&quot;: &quot;green&quot;, &quot;fillOpacity&quot;: 0.2, &quot;fillRule&quot;: &quot;evenodd&quot;, &quot;lineCap&quot;: &quot;round&quot;, &quot;lineJoin&quot;: &quot;round&quot;, &quot;opacity&quot;: 1.0, &quot;radius&quot;: 186038.55, &quot;stroke&quot;: true, &quot;weight&quot;: 3}\n",
       "            ).addTo(map_eb3ba7e965ab10526a9c78affea72a1b);\n",
       "        \n",
       "    \n",
       "            var circle_42e36b022c0a7dfa75311a324b8940fc = L.circle(\n",
       "                [19.1399952, -72.3570972],\n",
       "                {&quot;bubblingMouseEvents&quot;: true, &quot;color&quot;: &quot;green&quot;, &quot;dashArray&quot;: null, &quot;dashOffset&quot;: null, &quot;fill&quot;: false, &quot;fillColor&quot;: &quot;green&quot;, &quot;fillOpacity&quot;: 0.2, &quot;fillRule&quot;: &quot;evenodd&quot;, &quot;lineCap&quot;: &quot;round&quot;, &quot;lineJoin&quot;: &quot;round&quot;, &quot;opacity&quot;: 1.0, &quot;radius&quot;: 45805.95, &quot;stroke&quot;: true, &quot;weight&quot;: 3}\n",
       "            ).addTo(map_eb3ba7e965ab10526a9c78affea72a1b);\n",
       "        \n",
       "    \n",
       "            var circle_965da863bbf92f27565fc66e656b7295 = L.circle(\n",
       "                [15.2572432, -86.0755145],\n",
       "                {&quot;bubblingMouseEvents&quot;: true, &quot;color&quot;: &quot;green&quot;, &quot;dashArray&quot;: null, &quot;dashOffset&quot;: null, &quot;fill&quot;: false, &quot;fillColor&quot;: &quot;green&quot;, &quot;fillOpacity&quot;: 0.2, &quot;fillRule&quot;: &quot;evenodd&quot;, &quot;lineCap&quot;: &quot;round&quot;, &quot;lineJoin&quot;: &quot;round&quot;, &quot;opacity&quot;: 1.0, &quot;radius&quot;: 94735.34999999999, &quot;stroke&quot;: true, &quot;weight&quot;: 3}\n",
       "            ).addTo(map_eb3ba7e965ab10526a9c78affea72a1b);\n",
       "        \n",
       "    \n",
       "            var circle_2e5cd30f91e53d1b0f68d9dd11143e66 = L.circle(\n",
       "                [22.3511148, 78.6677428],\n",
       "                {&quot;bubblingMouseEvents&quot;: true, &quot;color&quot;: &quot;green&quot;, &quot;dashArray&quot;: null, &quot;dashOffset&quot;: null, &quot;fill&quot;: false, &quot;fillColor&quot;: &quot;green&quot;, &quot;fillOpacity&quot;: 0.2, &quot;fillRule&quot;: &quot;evenodd&quot;, &quot;lineCap&quot;: &quot;round&quot;, &quot;lineJoin&quot;: &quot;round&quot;, &quot;opacity&quot;: 1.0, &quot;radius&quot;: 108069.74999999999, &quot;stroke&quot;: true, &quot;weight&quot;: 3}\n",
       "            ).addTo(map_eb3ba7e965ab10526a9c78affea72a1b);\n",
       "        \n",
       "    \n",
       "            var circle_97f9b125ad6905ec234fca8d5b6fc3d9 = L.circle(\n",
       "                [-2.4833826, 117.8902853],\n",
       "                {&quot;bubblingMouseEvents&quot;: true, &quot;color&quot;: &quot;green&quot;, &quot;dashArray&quot;: null, &quot;dashOffset&quot;: null, &quot;fill&quot;: false, &quot;fillColor&quot;: &quot;green&quot;, &quot;fillOpacity&quot;: 0.2, &quot;fillRule&quot;: &quot;evenodd&quot;, &quot;lineCap&quot;: &quot;round&quot;, &quot;lineJoin&quot;: &quot;round&quot;, &quot;opacity&quot;: 1.0, &quot;radius&quot;: 64246.49999999999, &quot;stroke&quot;: true, &quot;weight&quot;: 3}\n",
       "            ).addTo(map_eb3ba7e965ab10526a9c78affea72a1b);\n",
       "        \n",
       "    \n",
       "            var circle_b7b1192a6c3af3aa008443db43678900 = L.circle(\n",
       "                [30.8124247, 34.8594762],\n",
       "                {&quot;bubblingMouseEvents&quot;: true, &quot;color&quot;: &quot;red&quot;, &quot;dashArray&quot;: null, &quot;dashOffset&quot;: null, &quot;fill&quot;: false, &quot;fillColor&quot;: &quot;red&quot;, &quot;fillOpacity&quot;: 0.2, &quot;fillRule&quot;: &quot;evenodd&quot;, &quot;lineCap&quot;: &quot;round&quot;, &quot;lineJoin&quot;: &quot;round&quot;, &quot;opacity&quot;: 1.0, &quot;radius&quot;: 12329.099999999999, &quot;stroke&quot;: true, &quot;weight&quot;: 3}\n",
       "            ).addTo(map_eb3ba7e965ab10526a9c78affea72a1b);\n",
       "        \n",
       "    \n",
       "            var circle_99fa31af4172a4b58495adc64c4ebb80 = L.circle(\n",
       "                [32.3635964, 35.561242],\n",
       "                {&quot;bubblingMouseEvents&quot;: true, &quot;color&quot;: &quot;green&quot;, &quot;dashArray&quot;: null, &quot;dashOffset&quot;: null, &quot;fill&quot;: false, &quot;fillColor&quot;: &quot;green&quot;, &quot;fillOpacity&quot;: 0.2, &quot;fillRule&quot;: &quot;evenodd&quot;, &quot;lineCap&quot;: &quot;round&quot;, &quot;lineJoin&quot;: &quot;round&quot;, &quot;opacity&quot;: 1.0, &quot;radius&quot;: 74152.79999999999, &quot;stroke&quot;: true, &quot;weight&quot;: 3}\n",
       "            ).addTo(map_eb3ba7e965ab10526a9c78affea72a1b);\n",
       "        \n",
       "    \n",
       "            var circle_4799c51593f9263786055ae0c9fa812a = L.circle(\n",
       "                [1.4419683, 38.4313975],\n",
       "                {&quot;bubblingMouseEvents&quot;: true, &quot;color&quot;: &quot;green&quot;, &quot;dashArray&quot;: null, &quot;dashOffset&quot;: null, &quot;fill&quot;: false, &quot;fillColor&quot;: &quot;green&quot;, &quot;fillOpacity&quot;: 0.2, &quot;fillRule&quot;: &quot;evenodd&quot;, &quot;lineCap&quot;: &quot;round&quot;, &quot;lineJoin&quot;: &quot;round&quot;, &quot;opacity&quot;: 1.0, &quot;radius&quot;: 513464.39999999997, &quot;stroke&quot;: true, &quot;weight&quot;: 3}\n",
       "            ).addTo(map_eb3ba7e965ab10526a9c78affea72a1b);\n",
       "        \n",
       "    \n",
       "            var circle_8c7e753f355fa7e807a26a8a034a2db3 = L.circle(\n",
       "                [42.4858224, 74.714583],\n",
       "                {&quot;bubblingMouseEvents&quot;: true, &quot;color&quot;: &quot;green&quot;, &quot;dashArray&quot;: null, &quot;dashOffset&quot;: null, &quot;fill&quot;: false, &quot;fillColor&quot;: &quot;green&quot;, &quot;fillOpacity&quot;: 0.2, &quot;fillRule&quot;: &quot;evenodd&quot;, &quot;lineCap&quot;: &quot;round&quot;, &quot;lineJoin&quot;: &quot;round&quot;, &quot;opacity&quot;: 1.0, &quot;radius&quot;: 108905.4, &quot;stroke&quot;: true, &quot;weight&quot;: 3}\n",
       "            ).addTo(map_eb3ba7e965ab10526a9c78affea72a1b);\n",
       "        \n",
       "    \n",
       "            var circle_022980ac0509a2a2b18e3e0c60c2ac8c = L.circle(\n",
       "                [20.0171109, 103.378253],\n",
       "                {&quot;bubblingMouseEvents&quot;: true, &quot;color&quot;: &quot;green&quot;, &quot;dashArray&quot;: null, &quot;dashOffset&quot;: null, &quot;fill&quot;: false, &quot;fillColor&quot;: &quot;green&quot;, &quot;fillOpacity&quot;: 0.2, &quot;fillRule&quot;: &quot;evenodd&quot;, &quot;lineCap&quot;: &quot;round&quot;, &quot;lineJoin&quot;: &quot;round&quot;, &quot;opacity&quot;: 1.0, &quot;radius&quot;: 20877.75, &quot;stroke&quot;: true, &quot;weight&quot;: 3}\n",
       "            ).addTo(map_eb3ba7e965ab10526a9c78affea72a1b);\n",
       "        \n",
       "    \n",
       "            var circle_08d21cc19fc600cf90719efbf34434a8 = L.circle(\n",
       "                [40.375713, -76.4626118],\n",
       "                {&quot;bubblingMouseEvents&quot;: true, &quot;color&quot;: &quot;green&quot;, &quot;dashArray&quot;: null, &quot;dashOffset&quot;: null, &quot;fill&quot;: false, &quot;fillColor&quot;: &quot;green&quot;, &quot;fillOpacity&quot;: 0.2, &quot;fillRule&quot;: &quot;evenodd&quot;, &quot;lineCap&quot;: &quot;round&quot;, &quot;lineJoin&quot;: &quot;round&quot;, &quot;opacity&quot;: 1.0, &quot;radius&quot;: 171889.65, &quot;stroke&quot;: true, &quot;weight&quot;: 3}\n",
       "            ).addTo(map_eb3ba7e965ab10526a9c78affea72a1b);\n",
       "        \n",
       "    \n",
       "            var circle_739ac024616d61926beab5cedd12c63b = L.circle(\n",
       "                [-29.6039267, 28.3350193],\n",
       "                {&quot;bubblingMouseEvents&quot;: true, &quot;color&quot;: &quot;red&quot;, &quot;dashArray&quot;: null, &quot;dashOffset&quot;: null, &quot;fill&quot;: false, &quot;fillColor&quot;: &quot;red&quot;, &quot;fillOpacity&quot;: 0.2, &quot;fillRule&quot;: &quot;evenodd&quot;, &quot;lineCap&quot;: &quot;round&quot;, &quot;lineJoin&quot;: &quot;round&quot;, &quot;opacity&quot;: 1.0, &quot;radius&quot;: 6471.45, &quot;stroke&quot;: true, &quot;weight&quot;: 3}\n",
       "            ).addTo(map_eb3ba7e965ab10526a9c78affea72a1b);\n",
       "        \n",
       "    \n",
       "            var circle_dbc0f15b12cfe5d91f830bab5201ec98 = L.circle(\n",
       "                [5.7499721, -9.3658524],\n",
       "                {&quot;bubblingMouseEvents&quot;: true, &quot;color&quot;: &quot;green&quot;, &quot;dashArray&quot;: null, &quot;dashOffset&quot;: null, &quot;fill&quot;: false, &quot;fillColor&quot;: &quot;green&quot;, &quot;fillOpacity&quot;: 0.2, &quot;fillRule&quot;: &quot;evenodd&quot;, &quot;lineCap&quot;: &quot;round&quot;, &quot;lineJoin&quot;: &quot;round&quot;, &quot;opacity&quot;: 1.0, &quot;radius&quot;: 20471.399999999998, &quot;stroke&quot;: true, &quot;weight&quot;: 3}\n",
       "            ).addTo(map_eb3ba7e965ab10526a9c78affea72a1b);\n",
       "        \n",
       "    \n",
       "            var circle_33ca84be458db68832c4f298a4ea1847 = L.circle(\n",
       "                [-18.9249604, 46.4416422],\n",
       "                {&quot;bubblingMouseEvents&quot;: true, &quot;color&quot;: &quot;green&quot;, &quot;dashArray&quot;: null, &quot;dashOffset&quot;: null, &quot;fill&quot;: false, &quot;fillColor&quot;: &quot;green&quot;, &quot;fillOpacity&quot;: 0.2, &quot;fillRule&quot;: &quot;evenodd&quot;, &quot;lineCap&quot;: &quot;round&quot;, &quot;lineJoin&quot;: &quot;round&quot;, &quot;opacity&quot;: 1.0, &quot;radius&quot;: 19229.399999999998, &quot;stroke&quot;: true, &quot;weight&quot;: 3}\n",
       "            ).addTo(map_eb3ba7e965ab10526a9c78affea72a1b);\n",
       "        \n",
       "    \n",
       "            var circle_5f41e3f52ac0fa64b474e41bbdcd2f18 = L.circle(\n",
       "                [-13.2687204, 33.9301963],\n",
       "                {&quot;bubblingMouseEvents&quot;: true, &quot;color&quot;: &quot;green&quot;, &quot;dashArray&quot;: null, &quot;dashOffset&quot;: null, &quot;fill&quot;: false, &quot;fillColor&quot;: &quot;green&quot;, &quot;fillOpacity&quot;: 0.2, &quot;fillRule&quot;: &quot;evenodd&quot;, &quot;lineCap&quot;: &quot;round&quot;, &quot;lineJoin&quot;: &quot;round&quot;, &quot;opacity&quot;: 1.0, &quot;radius&quot;: 27670.949999999997, &quot;stroke&quot;: true, &quot;weight&quot;: 3}\n",
       "            ).addTo(map_eb3ba7e965ab10526a9c78affea72a1b);\n",
       "        \n",
       "    \n",
       "            var circle_76bbf29f8ca7d71bb4afe24c40b8e7b3 = L.circle(\n",
       "                [16.3700359, -2.2900239],\n",
       "                {&quot;bubblingMouseEvents&quot;: true, &quot;color&quot;: &quot;green&quot;, &quot;dashArray&quot;: null, &quot;dashOffset&quot;: null, &quot;fill&quot;: false, &quot;fillColor&quot;: &quot;green&quot;, &quot;fillOpacity&quot;: 0.2, &quot;fillRule&quot;: &quot;evenodd&quot;, &quot;lineCap&quot;: &quot;round&quot;, &quot;lineJoin&quot;: &quot;round&quot;, &quot;opacity&quot;: 1.0, &quot;radius&quot;: 137568.15, &quot;stroke&quot;: true, &quot;weight&quot;: 3}\n",
       "            ).addTo(map_eb3ba7e965ab10526a9c78affea72a1b);\n",
       "        \n",
       "    \n",
       "            var circle_98e8b07af694854755da0806271c13f3 = L.circle(\n",
       "                [20.2540382, -9.2399263],\n",
       "                {&quot;bubblingMouseEvents&quot;: true, &quot;color&quot;: &quot;red&quot;, &quot;dashArray&quot;: null, &quot;dashOffset&quot;: null, &quot;fill&quot;: false, &quot;fillColor&quot;: &quot;red&quot;, &quot;fillOpacity&quot;: 0.2, &quot;fillRule&quot;: &quot;evenodd&quot;, &quot;lineCap&quot;: &quot;round&quot;, &quot;lineJoin&quot;: &quot;round&quot;, &quot;opacity&quot;: 1.0, &quot;radius&quot;: 270.0, &quot;stroke&quot;: true, &quot;weight&quot;: 3}\n",
       "            ).addTo(map_eb3ba7e965ab10526a9c78affea72a1b);\n",
       "        \n",
       "    \n",
       "            var circle_2e8f87efdfd82a0fd3058bf4fbdaca80 = L.circle(\n",
       "                [19.4326296, -99.1331785],\n",
       "                {&quot;bubblingMouseEvents&quot;: true, &quot;color&quot;: &quot;green&quot;, &quot;dashArray&quot;: null, &quot;dashOffset&quot;: null, &quot;fill&quot;: false, &quot;fillColor&quot;: &quot;green&quot;, &quot;fillOpacity&quot;: 0.2, &quot;fillRule&quot;: &quot;evenodd&quot;, &quot;lineCap&quot;: &quot;round&quot;, &quot;lineJoin&quot;: &quot;round&quot;, &quot;opacity&quot;: 1.0, &quot;radius&quot;: 155354.4, &quot;stroke&quot;: true, &quot;weight&quot;: 3}\n",
       "            ).addTo(map_eb3ba7e965ab10526a9c78affea72a1b);\n",
       "        \n",
       "    \n",
       "            var circle_8cb4ed0a81dbab1c45d78d670ac14713 = L.circle(\n",
       "                [47.2879608, 28.5670941],\n",
       "                {&quot;bubblingMouseEvents&quot;: true, &quot;color&quot;: &quot;red&quot;, &quot;dashArray&quot;: null, &quot;dashOffset&quot;: null, &quot;fill&quot;: false, &quot;fillColor&quot;: &quot;red&quot;, &quot;fillOpacity&quot;: 0.2, &quot;fillRule&quot;: &quot;evenodd&quot;, &quot;lineCap&quot;: &quot;round&quot;, &quot;lineJoin&quot;: &quot;round&quot;, &quot;opacity&quot;: 1.0, &quot;radius&quot;: 11811.15, &quot;stroke&quot;: true, &quot;weight&quot;: 3}\n",
       "            ).addTo(map_eb3ba7e965ab10526a9c78affea72a1b);\n",
       "        \n",
       "    \n",
       "            var circle_aba3b69dcc102fa1b2ec4eabee2f37ed = L.circle(\n",
       "                [43.9382593, -79.2235563],\n",
       "                {&quot;bubblingMouseEvents&quot;: true, &quot;color&quot;: &quot;green&quot;, &quot;dashArray&quot;: null, &quot;dashOffset&quot;: null, &quot;fill&quot;: false, &quot;fillColor&quot;: &quot;green&quot;, &quot;fillOpacity&quot;: 0.2, &quot;fillRule&quot;: &quot;evenodd&quot;, &quot;lineCap&quot;: &quot;round&quot;, &quot;lineJoin&quot;: &quot;round&quot;, &quot;opacity&quot;: 1.0, &quot;radius&quot;: 26386.649999999998, &quot;stroke&quot;: true, &quot;weight&quot;: 3}\n",
       "            ).addTo(map_eb3ba7e965ab10526a9c78affea72a1b);\n",
       "        \n",
       "    \n",
       "            var circle_646441b114f3a7564d67ed52d2633e23 = L.circle(\n",
       "                [-19.302233, 34.9144977],\n",
       "                {&quot;bubblingMouseEvents&quot;: true, &quot;color&quot;: &quot;green&quot;, &quot;dashArray&quot;: null, &quot;dashOffset&quot;: null, &quot;fill&quot;: false, &quot;fillColor&quot;: &quot;green&quot;, &quot;fillOpacity&quot;: 0.2, &quot;fillRule&quot;: &quot;evenodd&quot;, &quot;lineCap&quot;: &quot;round&quot;, &quot;lineJoin&quot;: &quot;round&quot;, &quot;opacity&quot;: 1.0, &quot;radius&quot;: 31810.499999999996, &quot;stroke&quot;: true, &quot;weight&quot;: 3}\n",
       "            ).addTo(map_eb3ba7e965ab10526a9c78affea72a1b);\n",
       "        \n",
       "    \n",
       "            var circle_fdfe257a46e51db972c80c582eb2c8d5 = L.circle(\n",
       "                [17.1750495, 95.9999652],\n",
       "                {&quot;bubblingMouseEvents&quot;: true, &quot;color&quot;: &quot;green&quot;, &quot;dashArray&quot;: null, &quot;dashOffset&quot;: null, &quot;fill&quot;: false, &quot;fillColor&quot;: &quot;green&quot;, &quot;fillOpacity&quot;: 0.2, &quot;fillRule&quot;: &quot;evenodd&quot;, &quot;lineCap&quot;: &quot;round&quot;, &quot;lineJoin&quot;: &quot;round&quot;, &quot;opacity&quot;: 1.0, &quot;radius&quot;: 51439.049999999996, &quot;stroke&quot;: true, &quot;weight&quot;: 3}\n",
       "            ).addTo(map_eb3ba7e965ab10526a9c78affea72a1b);\n",
       "        \n",
       "    \n",
       "            var circle_88dae1d19dbb32c7d8c2cbb32fc5b53c = L.circle(\n",
       "                [-6.4955532, 110.8440229],\n",
       "                {&quot;bubblingMouseEvents&quot;: true, &quot;color&quot;: &quot;red&quot;, &quot;dashArray&quot;: null, &quot;dashOffset&quot;: null, &quot;fill&quot;: false, &quot;fillColor&quot;: &quot;red&quot;, &quot;fillOpacity&quot;: 0.2, &quot;fillRule&quot;: &quot;evenodd&quot;, &quot;lineCap&quot;: &quot;round&quot;, &quot;lineJoin&quot;: &quot;round&quot;, &quot;opacity&quot;: 1.0, &quot;radius&quot;: 5537.25, &quot;stroke&quot;: true, &quot;weight&quot;: 3}\n",
       "            ).addTo(map_eb3ba7e965ab10526a9c78affea72a1b);\n",
       "        \n",
       "    \n",
       "            var circle_e9c43852053e9e2870d5843b8513f1e3 = L.circle(\n",
       "                [12.6090157, -85.2936911],\n",
       "                {&quot;bubblingMouseEvents&quot;: true, &quot;color&quot;: &quot;green&quot;, &quot;dashArray&quot;: null, &quot;dashOffset&quot;: null, &quot;fill&quot;: false, &quot;fillColor&quot;: &quot;green&quot;, &quot;fillOpacity&quot;: 0.2, &quot;fillRule&quot;: &quot;evenodd&quot;, &quot;lineCap&quot;: &quot;round&quot;, &quot;lineJoin&quot;: &quot;round&quot;, &quot;opacity&quot;: 1.0, &quot;radius&quot;: 153477.9, &quot;stroke&quot;: true, &quot;weight&quot;: 3}\n",
       "            ).addTo(map_eb3ba7e965ab10526a9c78affea72a1b);\n",
       "        \n",
       "    \n",
       "            var circle_1941f05cd2ca9c896c33ae9c63bf66ae = L.circle(\n",
       "                [9.6000359, 7.9999721],\n",
       "                {&quot;bubblingMouseEvents&quot;: true, &quot;color&quot;: &quot;green&quot;, &quot;dashArray&quot;: null, &quot;dashOffset&quot;: null, &quot;fill&quot;: false, &quot;fillColor&quot;: &quot;green&quot;, &quot;fillOpacity&quot;: 0.2, &quot;fillRule&quot;: &quot;evenodd&quot;, &quot;lineCap&quot;: &quot;round&quot;, &quot;lineJoin&quot;: &quot;round&quot;, &quot;opacity&quot;: 1.0, &quot;radius&quot;: 31722.3, &quot;stroke&quot;: true, &quot;weight&quot;: 3}\n",
       "            ).addTo(map_eb3ba7e965ab10526a9c78affea72a1b);\n",
       "        \n",
       "    \n",
       "            var circle_63cb00d4857b11d423a4c3fb804c38f4 = L.circle(\n",
       "                [30.3308401, 71.247499],\n",
       "                {&quot;bubblingMouseEvents&quot;: true, &quot;color&quot;: &quot;green&quot;, &quot;dashArray&quot;: null, &quot;dashOffset&quot;: null, &quot;fill&quot;: false, &quot;fillColor&quot;: &quot;green&quot;, &quot;fillOpacity&quot;: 0.2, &quot;fillRule&quot;: &quot;evenodd&quot;, &quot;lineCap&quot;: &quot;round&quot;, &quot;lineJoin&quot;: &quot;round&quot;, &quot;opacity&quot;: 1.0, &quot;radius&quot;: 211872.15, &quot;stroke&quot;: true, &quot;weight&quot;: 3}\n",
       "            ).addTo(map_eb3ba7e965ab10526a9c78affea72a1b);\n",
       "        \n",
       "    \n",
       "            var circle_bd88a0238f271d6ef502b26f5b8da55e = L.circle(\n",
       "                [31.7621153, -95.6307891],\n",
       "                {&quot;bubblingMouseEvents&quot;: true, &quot;color&quot;: &quot;green&quot;, &quot;dashArray&quot;: null, &quot;dashOffset&quot;: null, &quot;fill&quot;: false, &quot;fillColor&quot;: &quot;green&quot;, &quot;fillOpacity&quot;: 0.2, &quot;fillRule&quot;: &quot;evenodd&quot;, &quot;lineCap&quot;: &quot;round&quot;, &quot;lineJoin&quot;: &quot;round&quot;, &quot;opacity&quot;: 1.0, &quot;radius&quot;: 198847.34999999998, &quot;stroke&quot;: true, &quot;weight&quot;: 3}\n",
       "            ).addTo(map_eb3ba7e965ab10526a9c78affea72a1b);\n",
       "        \n",
       "    \n",
       "            var circle_b14e4151a5fc9224f81f0a7f00d4de8a = L.circle(\n",
       "                [8.559559, -81.1308434],\n",
       "                {&quot;bubblingMouseEvents&quot;: true, &quot;color&quot;: &quot;red&quot;, &quot;dashArray&quot;: null, &quot;dashOffset&quot;: null, &quot;fill&quot;: false, &quot;fillColor&quot;: &quot;red&quot;, &quot;fillOpacity&quot;: 0.2, &quot;fillRule&quot;: &quot;evenodd&quot;, &quot;lineCap&quot;: &quot;round&quot;, &quot;lineJoin&quot;: &quot;round&quot;, &quot;opacity&quot;: 1.0, &quot;radius&quot;: 4773.15, &quot;stroke&quot;: true, &quot;weight&quot;: 3}\n",
       "            ).addTo(map_eb3ba7e965ab10526a9c78affea72a1b);\n",
       "        \n",
       "    \n",
       "            var circle_24b598927036e04f1686e48c5b305329 = L.circle(\n",
       "                [-23.3165935, -58.1693445],\n",
       "                {&quot;bubblingMouseEvents&quot;: true, &quot;color&quot;: &quot;green&quot;, &quot;dashArray&quot;: null, &quot;dashOffset&quot;: null, &quot;fill&quot;: false, &quot;fillColor&quot;: &quot;green&quot;, &quot;fillOpacity&quot;: 0.2, &quot;fillRule&quot;: &quot;evenodd&quot;, &quot;lineCap&quot;: &quot;round&quot;, &quot;lineJoin&quot;: &quot;round&quot;, &quot;opacity&quot;: 1.0, &quot;radius&quot;: 522299.69999999995, &quot;stroke&quot;: true, &quot;weight&quot;: 3}\n",
       "            ).addTo(map_eb3ba7e965ab10526a9c78affea72a1b);\n",
       "        \n",
       "    \n",
       "            var circle_095cdbd0594763113964ef1601d5c3f0 = L.circle(\n",
       "                [-6.8699697, -75.0458515],\n",
       "                {&quot;bubblingMouseEvents&quot;: true, &quot;color&quot;: &quot;green&quot;, &quot;dashArray&quot;: null, &quot;dashOffset&quot;: null, &quot;fill&quot;: false, &quot;fillColor&quot;: &quot;green&quot;, &quot;fillOpacity&quot;: 0.2, &quot;fillRule&quot;: &quot;evenodd&quot;, &quot;lineCap&quot;: &quot;round&quot;, &quot;lineJoin&quot;: &quot;round&quot;, &quot;opacity&quot;: 1.0, &quot;radius&quot;: 534748.5, &quot;stroke&quot;: true, &quot;weight&quot;: 3}\n",
       "            ).addTo(map_eb3ba7e965ab10526a9c78affea72a1b);\n",
       "        \n",
       "    \n",
       "            var circle_630e6882d6ad5f1eca66470cfa5fbf03 = L.circle(\n",
       "                [12.7503486, 122.7312101],\n",
       "                {&quot;bubblingMouseEvents&quot;: true, &quot;color&quot;: &quot;green&quot;, &quot;dashArray&quot;: null, &quot;dashOffset&quot;: null, &quot;fill&quot;: false, &quot;fillColor&quot;: &quot;green&quot;, &quot;fillOpacity&quot;: 0.2, &quot;fillRule&quot;: &quot;evenodd&quot;, &quot;lineCap&quot;: &quot;round&quot;, &quot;lineJoin&quot;: &quot;round&quot;, &quot;opacity&quot;: 1.0, &quot;radius&quot;: 963842.85, &quot;stroke&quot;: true, &quot;weight&quot;: 3}\n",
       "            ).addTo(map_eb3ba7e965ab10526a9c78affea72a1b);\n",
       "        \n",
       "    \n",
       "            var circle_8e100ee9ba0cbce6635155d6f5c2f01c = L.circle(\n",
       "                [-1.9646631, 30.0644358],\n",
       "                {&quot;bubblingMouseEvents&quot;: true, &quot;color&quot;: &quot;red&quot;, &quot;dashArray&quot;: null, &quot;dashOffset&quot;: null, &quot;fill&quot;: false, &quot;fillColor&quot;: &quot;red&quot;, &quot;fillOpacity&quot;: 0.2, &quot;fillRule&quot;: &quot;evenodd&quot;, &quot;lineCap&quot;: &quot;round&quot;, &quot;lineJoin&quot;: &quot;round&quot;, &quot;opacity&quot;: 1.0, &quot;radius&quot;: 11866.5, &quot;stroke&quot;: true, &quot;weight&quot;: 3}\n",
       "            ).addTo(map_eb3ba7e965ab10526a9c78affea72a1b);\n",
       "        \n",
       "    \n",
       "            var circle_b8fbc4727e81ab7beffe008fafb53465 = L.circle(\n",
       "                [12.90447, -61.2765569],\n",
       "                {&quot;bubblingMouseEvents&quot;: true, &quot;color&quot;: &quot;red&quot;, &quot;dashArray&quot;: null, &quot;dashOffset&quot;: null, &quot;fill&quot;: false, &quot;fillColor&quot;: &quot;red&quot;, &quot;fillOpacity&quot;: 0.2, &quot;fillRule&quot;: &quot;evenodd&quot;, &quot;lineCap&quot;: &quot;round&quot;, &quot;lineJoin&quot;: &quot;round&quot;, &quot;opacity&quot;: 1.0, &quot;radius&quot;: 886.05, &quot;stroke&quot;: true, &quot;weight&quot;: 3}\n",
       "            ).addTo(map_eb3ba7e965ab10526a9c78affea72a1b);\n",
       "        \n",
       "    \n",
       "            var circle_84cd468184d1c9f702fb317311eb71a7 = L.circle(\n",
       "                [-13.7693895, -172.12005],\n",
       "                {&quot;bubblingMouseEvents&quot;: true, &quot;color&quot;: &quot;green&quot;, &quot;dashArray&quot;: null, &quot;dashOffset&quot;: null, &quot;fill&quot;: false, &quot;fillColor&quot;: &quot;green&quot;, &quot;fillOpacity&quot;: 0.2, &quot;fillRule&quot;: &quot;evenodd&quot;, &quot;lineCap&quot;: &quot;round&quot;, &quot;lineJoin&quot;: &quot;round&quot;, &quot;opacity&quot;: 1.0, &quot;radius&quot;: 91856.7, &quot;stroke&quot;: true, &quot;weight&quot;: 3}\n",
       "            ).addTo(map_eb3ba7e965ab10526a9c78affea72a1b);\n",
       "        \n",
       "    \n",
       "            var circle_463ed3b4b1099850ca684a13b1cf64df = L.circle(\n",
       "                [14.4750607, -14.4529612],\n",
       "                {&quot;bubblingMouseEvents&quot;: true, &quot;color&quot;: &quot;red&quot;, &quot;dashArray&quot;: null, &quot;dashOffset&quot;: null, &quot;fill&quot;: false, &quot;fillColor&quot;: &quot;red&quot;, &quot;fillOpacity&quot;: 0.2, &quot;fillRule&quot;: &quot;evenodd&quot;, &quot;lineCap&quot;: &quot;round&quot;, &quot;lineJoin&quot;: &quot;round&quot;, &quot;opacity&quot;: 1.0, &quot;radius&quot;: 551.25, &quot;stroke&quot;: true, &quot;weight&quot;: 3}\n",
       "            ).addTo(map_eb3ba7e965ab10526a9c78affea72a1b);\n",
       "        \n",
       "    \n",
       "            var circle_3adf4327e60c20292cd18f065a38b47c = L.circle(\n",
       "                [8.6400349, -11.8400269],\n",
       "                {&quot;bubblingMouseEvents&quot;: true, &quot;color&quot;: &quot;green&quot;, &quot;dashArray&quot;: null, &quot;dashOffset&quot;: null, &quot;fill&quot;: false, &quot;fillColor&quot;: &quot;green&quot;, &quot;fillOpacity&quot;: 0.2, &quot;fillRule&quot;: &quot;evenodd&quot;, &quot;lineCap&quot;: &quot;round&quot;, &quot;lineJoin&quot;: &quot;round&quot;, &quot;opacity&quot;: 1.0, &quot;radius&quot;: 65682.45, &quot;stroke&quot;: true, &quot;weight&quot;: 3}\n",
       "            ).addTo(map_eb3ba7e965ab10526a9c78affea72a1b);\n",
       "        \n",
       "    \n",
       "            var circle_e6a44e039556c80c0d39fcf6322b4004 = L.circle(\n",
       "                [-8.7053941, 159.1070693851845],\n",
       "                {&quot;bubblingMouseEvents&quot;: true, &quot;color&quot;: &quot;red&quot;, &quot;dashArray&quot;: null, &quot;dashOffset&quot;: null, &quot;fill&quot;: false, &quot;fillColor&quot;: &quot;red&quot;, &quot;fillOpacity&quot;: 0.2, &quot;fillRule&quot;: &quot;evenodd&quot;, &quot;lineCap&quot;: &quot;round&quot;, &quot;lineJoin&quot;: &quot;round&quot;, &quot;opacity&quot;: 1.0, &quot;radius&quot;: 8776.349999999999, &quot;stroke&quot;: true, &quot;weight&quot;: 3}\n",
       "            ).addTo(map_eb3ba7e965ab10526a9c78affea72a1b);\n",
       "        \n",
       "    \n",
       "            var circle_e83c0fc68966a45cd2f25cc2ea198ac2 = L.circle(\n",
       "                [8.3676771, 49.083416],\n",
       "                {&quot;bubblingMouseEvents&quot;: true, &quot;color&quot;: &quot;red&quot;, &quot;dashArray&quot;: null, &quot;dashOffset&quot;: null, &quot;fill&quot;: false, &quot;fillColor&quot;: &quot;red&quot;, &quot;fillOpacity&quot;: 0.2, &quot;fillRule&quot;: &quot;evenodd&quot;, &quot;lineCap&quot;: &quot;round&quot;, &quot;lineJoin&quot;: &quot;round&quot;, &quot;opacity&quot;: 1.0, &quot;radius&quot;: 4065.7499999999995, &quot;stroke&quot;: true, &quot;weight&quot;: 3}\n",
       "            ).addTo(map_eb3ba7e965ab10526a9c78affea72a1b);\n",
       "        \n",
       "    \n",
       "            var circle_d7de4ff8a3ac295f3989b8f5c6b8d881 = L.circle(\n",
       "                [-28.8166236, 24.991639],\n",
       "                {&quot;bubblingMouseEvents&quot;: true, &quot;color&quot;: &quot;red&quot;, &quot;dashArray&quot;: null, &quot;dashOffset&quot;: null, &quot;fill&quot;: false, &quot;fillColor&quot;: &quot;red&quot;, &quot;fillOpacity&quot;: 0.2, &quot;fillRule&quot;: &quot;evenodd&quot;, &quot;lineCap&quot;: &quot;round&quot;, &quot;lineJoin&quot;: &quot;round&quot;, &quot;opacity&quot;: 1.0, &quot;radius&quot;: 10240.65, &quot;stroke&quot;: true, &quot;weight&quot;: 3}\n",
       "            ).addTo(map_eb3ba7e965ab10526a9c78affea72a1b);\n",
       "        \n",
       "    \n",
       "            var circle_9e34907fe2b477798a24b0d1f480488d = L.circle(\n",
       "                [7.8699431, 29.6667897],\n",
       "                {&quot;bubblingMouseEvents&quot;: true, &quot;color&quot;: &quot;red&quot;, &quot;dashArray&quot;: null, &quot;dashOffset&quot;: null, &quot;fill&quot;: false, &quot;fillColor&quot;: &quot;red&quot;, &quot;fillOpacity&quot;: 0.2, &quot;fillRule&quot;: &quot;evenodd&quot;, &quot;lineCap&quot;: &quot;round&quot;, &quot;lineJoin&quot;: &quot;round&quot;, &quot;opacity&quot;: 1.0, &quot;radius&quot;: 1884.1499999999999, &quot;stroke&quot;: true, &quot;weight&quot;: 3}\n",
       "            ).addTo(map_eb3ba7e965ab10526a9c78affea72a1b);\n",
       "        \n",
       "    \n",
       "            var circle_36b4ed75337f734a73798f7bb9f84a6f = L.circle(\n",
       "                [4.1413025, -56.0771187],\n",
       "                {&quot;bubblingMouseEvents&quot;: true, &quot;color&quot;: &quot;red&quot;, &quot;dashArray&quot;: null, &quot;dashOffset&quot;: null, &quot;fill&quot;: false, &quot;fillColor&quot;: &quot;red&quot;, &quot;fillOpacity&quot;: 0.2, &quot;fillRule&quot;: &quot;evenodd&quot;, &quot;lineCap&quot;: &quot;round&quot;, &quot;lineJoin&quot;: &quot;round&quot;, &quot;opacity&quot;: 1.0, &quot;radius&quot;: 9009.449999999999, &quot;stroke&quot;: true, &quot;weight&quot;: 3}\n",
       "            ).addTo(map_eb3ba7e965ab10526a9c78affea72a1b);\n",
       "        \n",
       "    \n",
       "            var circle_d31f0e711afb894de130385e9892c70e = L.circle(\n",
       "                [38.6281733, 70.8156541],\n",
       "                {&quot;bubblingMouseEvents&quot;: true, &quot;color&quot;: &quot;green&quot;, &quot;dashArray&quot;: null, &quot;dashOffset&quot;: null, &quot;fill&quot;: false, &quot;fillColor&quot;: &quot;green&quot;, &quot;fillOpacity&quot;: 0.2, &quot;fillRule&quot;: &quot;evenodd&quot;, &quot;lineCap&quot;: &quot;round&quot;, &quot;lineJoin&quot;: &quot;round&quot;, &quot;opacity&quot;: 1.0, &quot;radius&quot;: 225989.99999999997, &quot;stroke&quot;: true, &quot;weight&quot;: 3}\n",
       "            ).addTo(map_eb3ba7e965ab10526a9c78affea72a1b);\n",
       "        \n",
       "    \n",
       "            var circle_e40029df3e07a9911f596ad419f9668b = L.circle(\n",
       "                [-6.5247123, 35.7878438],\n",
       "                {&quot;bubblingMouseEvents&quot;: true, &quot;color&quot;: &quot;green&quot;, &quot;dashArray&quot;: null, &quot;dashOffset&quot;: null, &quot;fill&quot;: false, &quot;fillColor&quot;: &quot;green&quot;, &quot;fillOpacity&quot;: 0.2, &quot;fillRule&quot;: &quot;evenodd&quot;, &quot;lineCap&quot;: &quot;round&quot;, &quot;lineJoin&quot;: &quot;round&quot;, &quot;opacity&quot;: 1.0, &quot;radius&quot;: 105074.54999999999, &quot;stroke&quot;: true, &quot;weight&quot;: 3}\n",
       "            ).addTo(map_eb3ba7e965ab10526a9c78affea72a1b);\n",
       "        \n",
       "    \n",
       "            var circle_700c45274e7090a1f3f0e9848e037633 = L.circle(\n",
       "                [13.03876215, 101.70017611907599],\n",
       "                {&quot;bubblingMouseEvents&quot;: true, &quot;color&quot;: &quot;red&quot;, &quot;dashArray&quot;: null, &quot;dashOffset&quot;: null, &quot;fill&quot;: false, &quot;fillColor&quot;: &quot;red&quot;, &quot;fillOpacity&quot;: 0.2, &quot;fillRule&quot;: &quot;evenodd&quot;, &quot;lineCap&quot;: &quot;round&quot;, &quot;lineJoin&quot;: &quot;round&quot;, &quot;opacity&quot;: 1.0, &quot;radius&quot;: 7604.999999999999, &quot;stroke&quot;: true, &quot;weight&quot;: 3}\n",
       "            ).addTo(map_eb3ba7e965ab10526a9c78affea72a1b);\n",
       "        \n",
       "    \n",
       "            var circle_131586e2a05ccff0d22c6659e6ece1ce = L.circle(\n",
       "                [38.914549, -77.0391303],\n",
       "                {&quot;bubblingMouseEvents&quot;: true, &quot;color&quot;: &quot;green&quot;, &quot;dashArray&quot;: null, &quot;dashOffset&quot;: null, &quot;fill&quot;: false, &quot;fillColor&quot;: &quot;green&quot;, &quot;fillOpacity&quot;: 0.2, &quot;fillRule&quot;: &quot;evenodd&quot;, &quot;lineCap&quot;: &quot;round&quot;, &quot;lineJoin&quot;: &quot;round&quot;, &quot;opacity&quot;: 1.0, &quot;radius&quot;: 192752.55, &quot;stroke&quot;: true, &quot;weight&quot;: 3}\n",
       "            ).addTo(map_eb3ba7e965ab10526a9c78affea72a1b);\n",
       "        \n",
       "    \n",
       "            var circle_10a91f3bf07d3931211b444208ceb341 = L.circle(\n",
       "                [-8.7443169, 126.063482],\n",
       "                {&quot;bubblingMouseEvents&quot;: true, &quot;color&quot;: &quot;green&quot;, &quot;dashArray&quot;: null, &quot;dashOffset&quot;: null, &quot;fill&quot;: false, &quot;fillColor&quot;: &quot;green&quot;, &quot;fillOpacity&quot;: 0.2, &quot;fillRule&quot;: &quot;evenodd&quot;, &quot;lineCap&quot;: &quot;round&quot;, &quot;lineJoin&quot;: &quot;round&quot;, &quot;opacity&quot;: 1.0, &quot;radius&quot;: 39173.399999999994, &quot;stroke&quot;: true, &quot;weight&quot;: 3}\n",
       "            ).addTo(map_eb3ba7e965ab10526a9c78affea72a1b);\n",
       "        \n",
       "    \n",
       "            var circle_54395fc5c6686ca31b2f08636bd083ef = L.circle(\n",
       "                [8.7800265, 1.0199765],\n",
       "                {&quot;bubblingMouseEvents&quot;: true, &quot;color&quot;: &quot;green&quot;, &quot;dashArray&quot;: null, &quot;dashOffset&quot;: null, &quot;fill&quot;: false, &quot;fillColor&quot;: &quot;green&quot;, &quot;fillOpacity&quot;: 0.2, &quot;fillRule&quot;: &quot;evenodd&quot;, &quot;lineCap&quot;: &quot;round&quot;, &quot;lineJoin&quot;: &quot;round&quot;, &quot;opacity&quot;: 1.0, &quot;radius&quot;: 26352.449999999997, &quot;stroke&quot;: true, &quot;weight&quot;: 3}\n",
       "            ).addTo(map_eb3ba7e965ab10526a9c78affea72a1b);\n",
       "        \n",
       "    \n",
       "            var circle_265f9c20cfca77855e64684655515620 = L.circle(\n",
       "                [38.9597594, 34.9249653],\n",
       "                {&quot;bubblingMouseEvents&quot;: true, &quot;color&quot;: &quot;red&quot;, &quot;dashArray&quot;: null, &quot;dashOffset&quot;: null, &quot;fill&quot;: false, &quot;fillColor&quot;: &quot;red&quot;, &quot;fillOpacity&quot;: 0.2, &quot;fillRule&quot;: &quot;evenodd&quot;, &quot;lineCap&quot;: &quot;round&quot;, &quot;lineJoin&quot;: &quot;round&quot;, &quot;opacity&quot;: 1.0, &quot;radius&quot;: 536.4, &quot;stroke&quot;: true, &quot;weight&quot;: 3}\n",
       "            ).addTo(map_eb3ba7e965ab10526a9c78affea72a1b);\n",
       "        \n",
       "    \n",
       "            var circle_96ba92d9c0b63171e72be972f47414a0 = L.circle(\n",
       "                [1.5333554, 32.2166578],\n",
       "                {&quot;bubblingMouseEvents&quot;: true, &quot;color&quot;: &quot;green&quot;, &quot;dashArray&quot;: null, &quot;dashOffset&quot;: null, &quot;fill&quot;: false, &quot;fillColor&quot;: &quot;green&quot;, &quot;fillOpacity&quot;: 0.2, &quot;fillRule&quot;: &quot;evenodd&quot;, &quot;lineCap&quot;: &quot;round&quot;, &quot;lineJoin&quot;: &quot;round&quot;, &quot;opacity&quot;: 1.0, &quot;radius&quot;: 229363.19999999998, &quot;stroke&quot;: true, &quot;weight&quot;: 3}\n",
       "            ).addTo(map_eb3ba7e965ab10526a9c78affea72a1b);\n",
       "        \n",
       "    \n",
       "            var circle_96cfd2523e74781235a3be9d13afd8f5 = L.circle(\n",
       "                [49.4871968, 31.2718321],\n",
       "                {&quot;bubblingMouseEvents&quot;: true, &quot;color&quot;: &quot;green&quot;, &quot;dashArray&quot;: null, &quot;dashOffset&quot;: null, &quot;fill&quot;: false, &quot;fillColor&quot;: &quot;green&quot;, &quot;fillOpacity&quot;: 0.2, &quot;fillRule&quot;: &quot;evenodd&quot;, &quot;lineCap&quot;: &quot;round&quot;, &quot;lineJoin&quot;: &quot;round&quot;, &quot;opacity&quot;: 1.0, &quot;radius&quot;: 26508.149999999998, &quot;stroke&quot;: true, &quot;weight&quot;: 3}\n",
       "            ).addTo(map_eb3ba7e965ab10526a9c78affea72a1b);\n",
       "        \n",
       "    \n",
       "            var circle_bee73aee828cf159add558cd03b04b54 = L.circle(\n",
       "                [39.7837304, -100.445882],\n",
       "                {&quot;bubblingMouseEvents&quot;: true, &quot;color&quot;: &quot;green&quot;, &quot;dashArray&quot;: null, &quot;dashOffset&quot;: null, &quot;fill&quot;: false, &quot;fillColor&quot;: &quot;green&quot;, &quot;fillOpacity&quot;: 0.2, &quot;fillRule&quot;: &quot;evenodd&quot;, &quot;lineCap&quot;: &quot;round&quot;, &quot;lineJoin&quot;: &quot;round&quot;, &quot;opacity&quot;: 1.0, &quot;radius&quot;: 58572.899999999994, &quot;stroke&quot;: true, &quot;weight&quot;: 3}\n",
       "            ).addTo(map_eb3ba7e965ab10526a9c78affea72a1b);\n",
       "        \n",
       "    \n",
       "            var circle_bfd8b8f95db13fbff2ebce32ffdcbf90 = L.circle(\n",
       "                [-16.5255069, 168.1069154],\n",
       "                {&quot;bubblingMouseEvents&quot;: true, &quot;color&quot;: &quot;red&quot;, &quot;dashArray&quot;: null, &quot;dashOffset&quot;: null, &quot;fill&quot;: false, &quot;fillColor&quot;: &quot;red&quot;, &quot;fillOpacity&quot;: 0.2, &quot;fillRule&quot;: &quot;evenodd&quot;, &quot;lineCap&quot;: &quot;round&quot;, &quot;lineJoin&quot;: &quot;round&quot;, &quot;opacity&quot;: 1.0, &quot;radius&quot;: 166.5, &quot;stroke&quot;: true, &quot;weight&quot;: 3}\n",
       "            ).addTo(map_eb3ba7e965ab10526a9c78affea72a1b);\n",
       "        \n",
       "    \n",
       "            var circle_c87a3984a9d16157a718134c303c64bf = L.circle(\n",
       "                [15.9266657, 107.9650855],\n",
       "                {&quot;bubblingMouseEvents&quot;: true, &quot;color&quot;: &quot;green&quot;, &quot;dashArray&quot;: null, &quot;dashOffset&quot;: null, &quot;fill&quot;: false, &quot;fillColor&quot;: &quot;green&quot;, &quot;fillOpacity&quot;: 0.2, &quot;fillRule&quot;: &quot;evenodd&quot;, &quot;lineCap&quot;: &quot;round&quot;, &quot;lineJoin&quot;: &quot;round&quot;, &quot;opacity&quot;: 1.0, &quot;radius&quot;: 225782.09999999998, &quot;stroke&quot;: true, &quot;weight&quot;: 3}\n",
       "            ).addTo(map_eb3ba7e965ab10526a9c78affea72a1b);\n",
       "        \n",
       "    \n",
       "            var circle_f5403b103ab7090f713d87dda5c434ac = L.circle(\n",
       "                [16.3471243, 47.8915271],\n",
       "                {&quot;bubblingMouseEvents&quot;: true, &quot;color&quot;: &quot;green&quot;, &quot;dashArray&quot;: null, &quot;dashOffset&quot;: null, &quot;fill&quot;: false, &quot;fillColor&quot;: &quot;green&quot;, &quot;fillOpacity&quot;: 0.2, &quot;fillRule&quot;: &quot;evenodd&quot;, &quot;lineCap&quot;: &quot;round&quot;, &quot;lineJoin&quot;: &quot;round&quot;, &quot;opacity&quot;: 1.0, &quot;radius&quot;: 29581.199999999997, &quot;stroke&quot;: true, &quot;weight&quot;: 3}\n",
       "            ).addTo(map_eb3ba7e965ab10526a9c78affea72a1b);\n",
       "        \n",
       "    \n",
       "            var circle_33bda2bc25f1332dba38b8c7d1b7b495 = L.circle(\n",
       "                [-14.5189121, 27.5589884],\n",
       "                {&quot;bubblingMouseEvents&quot;: true, &quot;color&quot;: &quot;green&quot;, &quot;dashArray&quot;: null, &quot;dashOffset&quot;: null, &quot;fill&quot;: false, &quot;fillColor&quot;: &quot;green&quot;, &quot;fillOpacity&quot;: 0.2, &quot;fillRule&quot;: &quot;evenodd&quot;, &quot;lineCap&quot;: &quot;round&quot;, &quot;lineJoin&quot;: &quot;round&quot;, &quot;opacity&quot;: 1.0, &quot;radius&quot;: 18886.5, &quot;stroke&quot;: true, &quot;weight&quot;: 3}\n",
       "            ).addTo(map_eb3ba7e965ab10526a9c78affea72a1b);\n",
       "        \n",
       "    \n",
       "            var circle_5e620548a9599c6046d4a5818fdcfa33 = L.circle(\n",
       "                [-18.4554963, 29.7468414],\n",
       "                {&quot;bubblingMouseEvents&quot;: true, &quot;color&quot;: &quot;green&quot;, &quot;dashArray&quot;: null, &quot;dashOffset&quot;: null, &quot;fill&quot;: false, &quot;fillColor&quot;: &quot;green&quot;, &quot;fillOpacity&quot;: 0.2, &quot;fillRule&quot;: &quot;evenodd&quot;, &quot;lineCap&quot;: &quot;round&quot;, &quot;lineJoin&quot;: &quot;round&quot;, &quot;opacity&quot;: 1.0, &quot;radius&quot;: 59534.549999999996, &quot;stroke&quot;: true, &quot;weight&quot;: 3}\n",
       "            ).addTo(map_eb3ba7e965ab10526a9c78affea72a1b);\n",
       "        \n",
       "&lt;/script&gt;\n",
       "&lt;/html&gt;\" style=\"position:absolute;width:100%;height:100%;left:0;top:0;border:none !important;\" allowfullscreen webkitallowfullscreen mozallowfullscreen></iframe></div></div>"
      ],
      "text/plain": [
       "<folium.folium.Map at 0x21e59a24c10>"
      ]
     },
     "execution_count": 477,
     "metadata": {},
     "output_type": "execute_result"
    }
   ],
   "source": [
    "m1"
   ]
  },
  {
   "cell_type": "markdown",
   "metadata": {},
   "source": [
    "`Observation`\n",
    ">> We can clearly depict from the plot above:\n",
    "* Kenya and Uganda in Africa are notable for their high borrowing rates, possibly due to factors such as economic conditions and a strong presence of microfinance institutions. In contrast, many Northern African countries don't appear to borrow as much, indicating potential variations in economic and financial needs within the continent.\n",
    "* South America shows a cluster of countries, including Peru, Bolivia, Paraguay, and Ecuador, which collectively contribute significantly to the borrowed funds in the region. This may suggest a common need or economic activity that drives borrowing across these countries.\n",
    "* South American countries exhibit a higher frequency of borrowing compared to other continents. This could indicate a higher reliance on microloans in these countries, possibly linked to entrepreneurship or specific social and economic factors.\n",
    "* The observation that the Philippines is the biggest borrower in the world highlights the significance of microfinance and online lending platforms in addressing financial needs in the country. Factors contributing to this could range from entrepreneurship to financial inclusion efforts."
   ]
  },
  {
   "cell_type": "code",
   "execution_count": 297,
   "metadata": {},
   "outputs": [
    {
     "data": {
      "text/plain": [
       "True"
      ]
     },
     "execution_count": 297,
     "metadata": {},
     "output_type": "execute_result"
    }
   ],
   "source": [
    "# confirming whether funded amount and loan amount are completely identical\n",
    "\n",
    "are_identical = geo_loc['funded_amount'].equals(geo_loc['loan_amount'])\n",
    "are_identical"
   ]
  },
  {
   "cell_type": "markdown",
   "metadata": {},
   "source": [
    "`Observation`\n",
    "* the funded amount and loan amount column are completely identical, going forward we will use one"
   ]
  },
  {
   "cell_type": "code",
   "execution_count": 358,
   "metadata": {},
   "outputs": [
    {
     "data": {
      "image/png": "[encoded data removed]",
      "text/plain": [
       "<Figure size 1200x900 with 1 Axes>"
      ]
     },
     "metadata": {},
     "output_type": "display_data"
    }
   ],
   "source": [
    "# getting the top 20 funded countries\n",
    "\n",
    "top_funded = geo_loc.sort_values(by='funded_amount', ascending=False).head(20)\n",
    "\n",
    "# Create a Seaborn barplot for the data\n",
    "plt.figure(figsize=(12, 9))\n",
    "sns.set()  \n",
    "\n",
    "custom_palette = sns.color_palette(\"coolwarm\")\n",
    "\n",
    "\n",
    "ax = sns.barplot(y='funded_amount', x='country', data=top_funded,  palette=\"muted\")\n",
    "\n",
    "\n",
    "# Customize plot labels and titles\n",
    "plt.title('Top 20 Funded Countries', fontsize=16)\n",
    "plt.xlabel('Amount', fontsize=12)\n",
    "plt.ylabel('Country', fontsize=8)\n",
    "\n",
    "# Display the actual 'funded_amount' values within the bars\n",
    "for p in ax.patches:\n",
    "    height = p.get_height()\n",
    "    plt.text(p.get_x() + p.get_width() / 2, height, f'{height:.2f}M', ha='center', va='bottom', fontsize=7, color='black',rotation=45)\n",
    "\n",
    "plt.xticks(rotation=90)\n",
    "# Display the plot\n",
    "plt.tight_layout()  \n",
    "plt.show()\n"
   ]
  },
  {
   "cell_type": "markdown",
   "metadata": {},
   "source": [
    "`Observation`\n",
    "\n",
    ">> From the plot above we can make the following observations:\n",
    "\n",
    "1. **Philippines** received the highest funded amount among the listed countries, indicating a significant demand for financial assistance in the country.\n",
    "\n",
    "2. **Peru** and **Paraguay** also received substantial funding, suggesting the presence of sizable lending programs or projects in these countries.\n",
    "\n",
    "3. **Kenya** received a significant amount, reflecting the ongoing need for microfinance and financial support in the region.\n",
    "\n",
    "4. **Cambodia**, **Bolivia**, and **Ecuador** are among the countries with substantial funding, indicating active borrowing and lending activities in these regions.\n",
    "\n",
    "5. **Uganda**, **Tajikistan**, and **Vietnam** received notable amounts, highlighting their involvement in KIVA borrowing activities.\n",
    "\n",
    "6. **Pakistan** and **Palestine** received considerable funding, indicating the demand for financial support in these regions.\n",
    "\n",
    "7. **The Democratic Republic of the Congo**, **El Salvador**, **Guatemala**, and **Colombia** also received substantial funding, suggesting the presence of ongoing projects or lending programs.\n",
    "\n",
    "8. **Armenia**, **Lebanon**, **Mexico**, and **Nicaragua** received comparatively lower but still significant amounts, indicating that these countries are active in KIVA's lending activities.\n",
    "\n",
    "Overall, the data reflects the diversity of KIVA's lending portfolio, with various countries receiving funding, ranging from significant amounts to smaller but still noteworthy sums. These observations emphasize the global reach of KIVA's microfinance initiatives and the financial needs in these diverse regions.\n"
   ]
  },
  {
   "cell_type": "code",
   "execution_count": 355,
   "metadata": {},
   "outputs": [
    {
     "data": {
      "application/vnd.plotly.v1+json": {
       "config": {
        "plotlyServerURL": "https://plot.ly"
       },
       "data": [
        {
         "alignmentgroup": "True",
         "hovertemplate": "x=%{x}<br>country=%{y}<br>text=%{text}<extra></extra>",
         "legendgroup": "",
         "marker": {
          "color": [
           "#AF0038",
           "#0D2A63",
           "#6C4516",
           "#DA60CA",
           "#1616A7",
           "#620042",
           "#A777F1",
           "#862A16",
           "#778AAE",
           "#6C7C32",
           "#B2828D",
           "#FC0080",
           "#FB00D1",
           "#00A08B",
           "#511CFB",
           "#EB663B",
           "#750D86",
           "#B68100",
           "#222A2A",
           "#DA16FF",
           "#FB0D0D",
           "#1CA71C",
           "#E15F99",
           "#2E91E5"
          ],
          "pattern": {
           "shape": ""
          }
         },
         "name": "",
         "offsetgroup": "",
         "orientation": "h",
         "showlegend": false,
         "text": [
          157532,
          61839,
          33437,
          24917,
          21473,
          18093,
          17443,
          17262,
          16504,
          12867,
          11518,
          10868,
          9906,
          9877,
          9132,
          7511,
          7097,
          6804,
          6741,
          6662
         ],
         "textposition": "outside",
         "type": "bar",
         "x": [
          157532,
          61839,
          33437,
          24917,
          21473,
          18093,
          17443,
          17262,
          16504,
          12867,
          11518,
          10868,
          9906,
          9877,
          9132,
          7511,
          7097,
          6804,
          6741,
          6662
         ],
         "xaxis": "x",
         "y": [
          "Philippines",
          "Kenya",
          "Cambodia",
          "Pakistan",
          "Peru",
          "Uganda",
          "Tajikistan",
          "Colombia",
          "El Salvador",
          "Ecuador",
          "Paraguay",
          "India",
          "Nicaragua",
          "Vietnam",
          "Nigeria",
          "Bolivia",
          "Palestine",
          "Armenia",
          "Guatemala",
          "Samoa"
         ],
         "yaxis": "y"
        }
       ],
       "layout": {
        "barmode": "relative",
        "height": 700,
        "legend": {
         "tracegroupgap": 0
        },
        "template": {
         "data": {
          "bar": [
           {
            "error_x": {
             "color": "#2a3f5f"
            },
            "error_y": {
             "color": "#2a3f5f"
            },
            "marker": {
             "line": {
              "color": "#E5ECF6",
              "width": 0.5
             },
             "pattern": {
              "fillmode": "overlay",
              "size": 10,
              "solidity": 0.2
             }
            },
            "type": "bar"
           }
          ],
          "barpolar": [
           {
            "marker": {
             "line": {
              "color": "#E5ECF6",
              "width": 0.5
             },
             "pattern": {
              "fillmode": "overlay",
              "size": 10,
              "solidity": 0.2
             }
            },
            "type": "barpolar"
           }
          ],
          "carpet": [
           {
            "aaxis": {
             "endlinecolor": "#2a3f5f",
             "gridcolor": "white",
             "linecolor": "white",
             "minorgridcolor": "white",
             "startlinecolor": "#2a3f5f"
            },
            "baxis": {
             "endlinecolor": "#2a3f5f",
             "gridcolor": "white",
             "linecolor": "white",
             "minorgridcolor": "white",
             "startlinecolor": "#2a3f5f"
            },
            "type": "carpet"
           }
          ],
          "choropleth": [
           {
            "colorbar": {
             "outlinewidth": 0,
             "ticks": ""
            },
            "type": "choropleth"
           }
          ],
          "contour": [
           {
            "colorbar": {
             "outlinewidth": 0,
             "ticks": ""
            },
            "colorscale": [
             [
              0,
              "#0d0887"
             ],
             [
              0.1111111111111111,
              "#46039f"
             ],
             [
              0.2222222222222222,
              "#7201a8"
             ],
             [
              0.3333333333333333,
              "#9c179e"
             ],
             [
              0.4444444444444444,
              "#bd3786"
             ],
             [
              0.5555555555555556,
              "#d8576b"
             ],
             [
              0.6666666666666666,
              "#ed7953"
             ],
             [
              0.7777777777777778,
              "#fb9f3a"
             ],
             [
              0.8888888888888888,
              "#fdca26"
             ],
             [
              1,
              "#f0f921"
             ]
            ],
            "type": "contour"
           }
          ],
          "contourcarpet": [
           {
            "colorbar": {
             "outlinewidth": 0,
             "ticks": ""
            },
            "type": "contourcarpet"
           }
          ],
          "heatmap": [
           {
            "colorbar": {
             "outlinewidth": 0,
             "ticks": ""
            },
            "colorscale": [
             [
              0,
              "#0d0887"
             ],
             [
              0.1111111111111111,
              "#46039f"
             ],
             [
              0.2222222222222222,
              "#7201a8"
             ],
             [
              0.3333333333333333,
              "#9c179e"
             ],
             [
              0.4444444444444444,
              "#bd3786"
             ],
             [
              0.5555555555555556,
              "#d8576b"
             ],
             [
              0.6666666666666666,
              "#ed7953"
             ],
             [
              0.7777777777777778,
              "#fb9f3a"
             ],
             [
              0.8888888888888888,
              "#fdca26"
             ],
             [
              1,
              "#f0f921"
             ]
            ],
            "type": "heatmap"
           }
          ],
          "heatmapgl": [
           {
            "colorbar": {
             "outlinewidth": 0,
             "ticks": ""
            },
            "colorscale": [
             [
              0,
              "#0d0887"
             ],
             [
              0.1111111111111111,
              "#46039f"
             ],
             [
              0.2222222222222222,
              "#7201a8"
             ],
             [
              0.3333333333333333,
              "#9c179e"
             ],
             [
              0.4444444444444444,
              "#bd3786"
             ],
             [
              0.5555555555555556,
              "#d8576b"
             ],
             [
              0.6666666666666666,
              "#ed7953"
             ],
             [
              0.7777777777777778,
              "#fb9f3a"
             ],
             [
              0.8888888888888888,
              "#fdca26"
             ],
             [
              1,
              "#f0f921"
             ]
            ],
            "type": "heatmapgl"
           }
          ],
          "histogram": [
           {
            "marker": {
             "pattern": {
              "fillmode": "overlay",
              "size": 10,
              "solidity": 0.2
             }
            },
            "type": "histogram"
           }
          ],
          "histogram2d": [
           {
            "colorbar": {
             "outlinewidth": 0,
             "ticks": ""
            },
            "colorscale": [
             [
              0,
              "#0d0887"
             ],
             [
              0.1111111111111111,
              "#46039f"
             ],
             [
              0.2222222222222222,
              "#7201a8"
             ],
             [
              0.3333333333333333,
              "#9c179e"
             ],
             [
              0.4444444444444444,
              "#bd3786"
             ],
             [
              0.5555555555555556,
              "#d8576b"
             ],
             [
              0.6666666666666666,
              "#ed7953"
             ],
             [
              0.7777777777777778,
              "#fb9f3a"
             ],
             [
              0.8888888888888888,
              "#fdca26"
             ],
             [
              1,
              "#f0f921"
             ]
            ],
            "type": "histogram2d"
           }
          ],
          "histogram2dcontour": [
           {
            "colorbar": {
             "outlinewidth": 0,
             "ticks": ""
            },
            "colorscale": [
             [
              0,
              "#0d0887"
             ],
             [
              0.1111111111111111,
              "#46039f"
             ],
             [
              0.2222222222222222,
              "#7201a8"
             ],
             [
              0.3333333333333333,
              "#9c179e"
             ],
             [
              0.4444444444444444,
              "#bd3786"
             ],
             [
              0.5555555555555556,
              "#d8576b"
             ],
             [
              0.6666666666666666,
              "#ed7953"
             ],
             [
              0.7777777777777778,
              "#fb9f3a"
             ],
             [
              0.8888888888888888,
              "#fdca26"
             ],
             [
              1,
              "#f0f921"
             ]
            ],
            "type": "histogram2dcontour"
           }
          ],
          "mesh3d": [
           {
            "colorbar": {
             "outlinewidth": 0,
             "ticks": ""
            },
            "type": "mesh3d"
           }
          ],
          "parcoords": [
           {
            "line": {
             "colorbar": {
              "outlinewidth": 0,
              "ticks": ""
             }
            },
            "type": "parcoords"
           }
          ],
          "pie": [
           {
            "automargin": true,
            "type": "pie"
           }
          ],
          "scatter": [
           {
            "fillpattern": {
             "fillmode": "overlay",
             "size": 10,
             "solidity": 0.2
            },
            "type": "scatter"
           }
          ],
          "scatter3d": [
           {
            "line": {
             "colorbar": {
              "outlinewidth": 0,
              "ticks": ""
             }
            },
            "marker": {
             "colorbar": {
              "outlinewidth": 0,
              "ticks": ""
             }
            },
            "type": "scatter3d"
           }
          ],
          "scattercarpet": [
           {
            "marker": {
             "colorbar": {
              "outlinewidth": 0,
              "ticks": ""
             }
            },
            "type": "scattercarpet"
           }
          ],
          "scattergeo": [
           {
            "marker": {
             "colorbar": {
              "outlinewidth": 0,
              "ticks": ""
             }
            },
            "type": "scattergeo"
           }
          ],
          "scattergl": [
           {
            "marker": {
             "colorbar": {
              "outlinewidth": 0,
              "ticks": ""
             }
            },
            "type": "scattergl"
           }
          ],
          "scattermapbox": [
           {
            "marker": {
             "colorbar": {
              "outlinewidth": 0,
              "ticks": ""
             }
            },
            "type": "scattermapbox"
           }
          ],
          "scatterpolar": [
           {
            "marker": {
             "colorbar": {
              "outlinewidth": 0,
              "ticks": ""
             }
            },
            "type": "scatterpolar"
           }
          ],
          "scatterpolargl": [
           {
            "marker": {
             "colorbar": {
              "outlinewidth": 0,
              "ticks": ""
             }
            },
            "type": "scatterpolargl"
           }
          ],
          "scatterternary": [
           {
            "marker": {
             "colorbar": {
              "outlinewidth": 0,
              "ticks": ""
             }
            },
            "type": "scatterternary"
           }
          ],
          "surface": [
           {
            "colorbar": {
             "outlinewidth": 0,
             "ticks": ""
            },
            "colorscale": [
             [
              0,
              "#0d0887"
             ],
             [
              0.1111111111111111,
              "#46039f"
             ],
             [
              0.2222222222222222,
              "#7201a8"
             ],
             [
              0.3333333333333333,
              "#9c179e"
             ],
             [
              0.4444444444444444,
              "#bd3786"
             ],
             [
              0.5555555555555556,
              "#d8576b"
             ],
             [
              0.6666666666666666,
              "#ed7953"
             ],
             [
              0.7777777777777778,
              "#fb9f3a"
             ],
             [
              0.8888888888888888,
              "#fdca26"
             ],
             [
              1,
              "#f0f921"
             ]
            ],
            "type": "surface"
           }
          ],
          "table": [
           {
            "cells": {
             "fill": {
              "color": "#EBF0F8"
             },
             "line": {
              "color": "white"
             }
            },
            "header": {
             "fill": {
              "color": "#C8D4E3"
             },
             "line": {
              "color": "white"
             }
            },
            "type": "table"
           }
          ]
         },
         "layout": {
          "annotationdefaults": {
           "arrowcolor": "#2a3f5f",
           "arrowhead": 0,
           "arrowwidth": 1
          },
          "autotypenumbers": "strict",
          "coloraxis": {
           "colorbar": {
            "outlinewidth": 0,
            "ticks": ""
           }
          },
          "colorscale": {
           "diverging": [
            [
             0,
             "#8e0152"
            ],
            [
             0.1,
             "#c51b7d"
            ],
            [
             0.2,
             "#de77ae"
            ],
            [
             0.3,
             "#f1b6da"
            ],
            [
             0.4,
             "#fde0ef"
            ],
            [
             0.5,
             "#f7f7f7"
            ],
            [
             0.6,
             "#e6f5d0"
            ],
            [
             0.7,
             "#b8e186"
            ],
            [
             0.8,
             "#7fbc41"
            ],
            [
             0.9,
             "#4d9221"
            ],
            [
             1,
             "#276419"
            ]
           ],
           "sequential": [
            [
             0,
             "#0d0887"
            ],
            [
             0.1111111111111111,
             "#46039f"
            ],
            [
             0.2222222222222222,
             "#7201a8"
            ],
            [
             0.3333333333333333,
             "#9c179e"
            ],
            [
             0.4444444444444444,
             "#bd3786"
            ],
            [
             0.5555555555555556,
             "#d8576b"
            ],
            [
             0.6666666666666666,
             "#ed7953"
            ],
            [
             0.7777777777777778,
             "#fb9f3a"
            ],
            [
             0.8888888888888888,
             "#fdca26"
            ],
            [
             1,
             "#f0f921"
            ]
           ],
           "sequentialminus": [
            [
             0,
             "#0d0887"
            ],
            [
             0.1111111111111111,
             "#46039f"
            ],
            [
             0.2222222222222222,
             "#7201a8"
            ],
            [
             0.3333333333333333,
             "#9c179e"
            ],
            [
             0.4444444444444444,
             "#bd3786"
            ],
            [
             0.5555555555555556,
             "#d8576b"
            ],
            [
             0.6666666666666666,
             "#ed7953"
            ],
            [
             0.7777777777777778,
             "#fb9f3a"
            ],
            [
             0.8888888888888888,
             "#fdca26"
            ],
            [
             1,
             "#f0f921"
            ]
           ]
          },
          "colorway": [
           "#636efa",
           "#EF553B",
           "#00cc96",
           "#ab63fa",
           "#FFA15A",
           "#19d3f3",
           "#FF6692",
           "#B6E880",
           "#FF97FF",
           "#FECB52"
          ],
          "font": {
           "color": "#2a3f5f"
          },
          "geo": {
           "bgcolor": "white",
           "lakecolor": "white",
           "landcolor": "#E5ECF6",
           "showlakes": true,
           "showland": true,
           "subunitcolor": "white"
          },
          "hoverlabel": {
           "align": "left"
          },
          "hovermode": "closest",
          "mapbox": {
           "style": "light"
          },
          "paper_bgcolor": "white",
          "plot_bgcolor": "#E5ECF6",
          "polar": {
           "angularaxis": {
            "gridcolor": "white",
            "linecolor": "white",
            "ticks": ""
           },
           "bgcolor": "#E5ECF6",
           "radialaxis": {
            "gridcolor": "white",
            "linecolor": "white",
            "ticks": ""
           }
          },
          "scene": {
           "xaxis": {
            "backgroundcolor": "#E5ECF6",
            "gridcolor": "white",
            "gridwidth": 2,
            "linecolor": "white",
            "showbackground": true,
            "ticks": "",
            "zerolinecolor": "white"
           },
           "yaxis": {
            "backgroundcolor": "#E5ECF6",
            "gridcolor": "white",
            "gridwidth": 2,
            "linecolor": "white",
            "showbackground": true,
            "ticks": "",
            "zerolinecolor": "white"
           },
           "zaxis": {
            "backgroundcolor": "#E5ECF6",
            "gridcolor": "white",
            "gridwidth": 2,
            "linecolor": "white",
            "showbackground": true,
            "ticks": "",
            "zerolinecolor": "white"
           }
          },
          "shapedefaults": {
           "line": {
            "color": "#2a3f5f"
           }
          },
          "ternary": {
           "aaxis": {
            "gridcolor": "white",
            "linecolor": "white",
            "ticks": ""
           },
           "baxis": {
            "gridcolor": "white",
            "linecolor": "white",
            "ticks": ""
           },
           "bgcolor": "#E5ECF6",
           "caxis": {
            "gridcolor": "white",
            "linecolor": "white",
            "ticks": ""
           }
          },
          "title": {
           "x": 0.05
          },
          "xaxis": {
           "automargin": true,
           "gridcolor": "white",
           "linecolor": "white",
           "ticks": "",
           "title": {
            "standoff": 15
           },
           "zerolinecolor": "white",
           "zerolinewidth": 2
          },
          "yaxis": {
           "automargin": true,
           "gridcolor": "white",
           "linecolor": "white",
           "ticks": "",
           "title": {
            "standoff": 15
           },
           "zerolinecolor": "white",
           "zerolinewidth": 2
          }
         }
        },
        "title": {
         "text": "Top 20 Countries by borrowing frequency"
        },
        "xaxis": {
         "anchor": "y",
         "domain": [
          0,
          1
         ],
         "title": {
          "text": "Count"
         }
        },
        "yaxis": {
         "anchor": "x",
         "categoryorder": "total ascending",
         "domain": [
          0,
          1
         ],
         "title": {
          "text": "Country"
         }
        }
       }
      }
     },
     "metadata": {},
     "output_type": "display_data"
    }
   ],
   "source": [
    "\n",
    "# Calculate the top 20 country counts\n",
    "top_20_countries = count.head(20)\n",
    "\n",
    "# Create a Plotly bar plot\n",
    "fig = px.bar(\n",
    "    top_20_countries,\n",
    "    x=top_20_countries.values,\n",
    "    y=top_20_countries.index,\n",
    "    orientation='h',\n",
    "    text=top_20_countries.values,\n",
    "    title='Top 20 Countries by borrowing frequency',\n",
    "    height=700\n",
    ")\n",
    "color_palette = px.colors.qualitative.Dark24_r\n",
    "\n",
    "# Customize the layout\n",
    "fig.update_traces(marker_color=color_palette, textposition='outside')\n",
    "fig.update_layout(xaxis_title='Count', yaxis_title='Country')\n",
    "\n",
    "# Rotate y-axis labels for better visibility\n",
    "fig.update_layout(yaxis=dict(categoryorder='total ascending'))\n",
    "\n",
    "# Show the interactive plot\n",
    "fig.show()\n"
   ]
  },
  {
   "cell_type": "markdown",
   "metadata": {},
   "source": [
    "![new plot](newplot.png)\n"
   ]
  },
  {
   "cell_type": "markdown",
   "metadata": {},
   "source": [
    "`Observations`\n",
    "\n",
    "Based on the plot above we can make the following observations:\n",
    "\n",
    "1. **Philippines** stands out as the country with the highest borrowing frequency, indicating a strong demand for microfinance services and loans in this region.\n",
    "\n",
    "2. **Kenya** has a substantial borrowing frequency, suggesting an active borrowing and lending ecosystem in the country, likely driven by financial inclusion initiatives.\n",
    "\n",
    "3. **Cambodia** and **Pakistan** also have relatively high borrowing frequencies, indicating a significant need for financial support in these nations.\n",
    "\n",
    "4. **Peru** and **Uganda** have notable borrowing frequencies, reflecting the ongoing demand for microfinance and lending opportunities in these regions.\n",
    "\n",
    "5. **Tajikistan** and **Colombia** follow with considerable borrowing frequencies, suggesting active participation in microfinance programs and lending activities.\n",
    "\n",
    "6. **El Salvador**, **Ecuador**, and **Paraguay** have relatively high borrowing frequencies, indicating the presence of lending programs and a demand for financial services in these countries.\n",
    "\n",
    "7. **India** follows with a substantial borrowing frequency, highlighting the demand for microfinance and financial support in this populous nation.\n",
    "\n",
    "8. **Nicaragua**, **Vietnam**, and **Nigeria** have significant borrowing frequencies, suggesting the active involvement of these countries in microfinance initiatives.\n",
    "\n",
    "9. **Bolivia** and **Palestine** have notable borrowing frequencies, indicating a demand for financial assistance and lending opportunities in these regions.\n",
    "\n",
    "10. **Armenia**, **Guatemala**, and **Samoa** also exhibit substantial borrowing frequencies, reflecting the participation in microfinance programs and access to loans in these nations.\n",
    "\n",
    "These observations indicate the diverse global demand for microfinance and financial support, with various countries actively participating in lending and borrowing activities to meet their financial needs and promote economic development."
   ]
  },
  {
   "cell_type": "markdown",
   "metadata": {},
   "source": [
    "#### `Highest Funded sectors`\n",
    "\n",
    "\n"
   ]
  },
  {
   "cell_type": "code",
   "execution_count": 362,
   "metadata": {},
   "outputs": [],
   "source": [
    "# Group the 'final_df' DataFrame by 'sector' and calculate the sum of 'funded_amount' for each sector\n",
    "\n",
    "\n",
    "sector_group = final_df.groupby('sector').agg({'funded_amount': 'sum'}).reset_index()\n"
   ]
  },
  {
   "cell_type": "code",
   "execution_count": 372,
   "metadata": {},
   "outputs": [
    {
     "data": {
      "application/vnd.plotly.v1+json": {
       "config": {
        "plotlyServerURL": "https://plot.ly"
       },
       "data": [
        {
         "domain": {
          "x": [
           0,
           1
          ],
          "y": [
           0,
           1
          ]
         },
         "hovertemplate": "sector=%{label}<br>funded_amount=%{value}<extra></extra>",
         "labels": [
          "Agriculture",
          "Arts",
          "Clothing",
          "Construction",
          "Education",
          "Entertainment",
          "Food",
          "Health",
          "Housing",
          "Manufacturing",
          "Personal Use",
          "Retail",
          "Services",
          "Transportation",
          "Wholesale"
         ],
         "legendgroup": "",
         "name": "",
         "showlegend": true,
         "type": "pie",
         "values": [
          115379800,
          10084175,
          28445975,
          5278000,
          27192725,
          589150,
          91178800,
          7866525,
          16676925,
          4826075,
          13026325,
          73313975,
          32333200,
          8380050,
          807350
         ]
        }
       ],
       "layout": {
        "height": 800,
        "legend": {
         "tracegroupgap": 0
        },
        "piecolorway": [
         "rgb(27,158,119)",
         "rgb(217,95,2)",
         "rgb(117,112,179)",
         "rgb(231,41,138)",
         "rgb(102,166,30)",
         "rgb(230,171,2)",
         "rgb(166,118,29)",
         "rgb(102,102,102)"
        ],
        "template": {
         "data": {
          "bar": [
           {
            "error_x": {
             "color": "#2a3f5f"
            },
            "error_y": {
             "color": "#2a3f5f"
            },
            "marker": {
             "line": {
              "color": "#E5ECF6",
              "width": 0.5
             },
             "pattern": {
              "fillmode": "overlay",
              "size": 10,
              "solidity": 0.2
             }
            },
            "type": "bar"
           }
          ],
          "barpolar": [
           {
            "marker": {
             "line": {
              "color": "#E5ECF6",
              "width": 0.5
             },
             "pattern": {
              "fillmode": "overlay",
              "size": 10,
              "solidity": 0.2
             }
            },
            "type": "barpolar"
           }
          ],
          "carpet": [
           {
            "aaxis": {
             "endlinecolor": "#2a3f5f",
             "gridcolor": "white",
             "linecolor": "white",
             "minorgridcolor": "white",
             "startlinecolor": "#2a3f5f"
            },
            "baxis": {
             "endlinecolor": "#2a3f5f",
             "gridcolor": "white",
             "linecolor": "white",
             "minorgridcolor": "white",
             "startlinecolor": "#2a3f5f"
            },
            "type": "carpet"
           }
          ],
          "choropleth": [
           {
            "colorbar": {
             "outlinewidth": 0,
             "ticks": ""
            },
            "type": "choropleth"
           }
          ],
          "contour": [
           {
            "colorbar": {
             "outlinewidth": 0,
             "ticks": ""
            },
            "colorscale": [
             [
              0,
              "#0d0887"
             ],
             [
              0.1111111111111111,
              "#46039f"
             ],
             [
              0.2222222222222222,
              "#7201a8"
             ],
             [
              0.3333333333333333,
              "#9c179e"
             ],
             [
              0.4444444444444444,
              "#bd3786"
             ],
             [
              0.5555555555555556,
              "#d8576b"
             ],
             [
              0.6666666666666666,
              "#ed7953"
             ],
             [
              0.7777777777777778,
              "#fb9f3a"
             ],
             [
              0.8888888888888888,
              "#fdca26"
             ],
             [
              1,
              "#f0f921"
             ]
            ],
            "type": "contour"
           }
          ],
          "contourcarpet": [
           {
            "colorbar": {
             "outlinewidth": 0,
             "ticks": ""
            },
            "type": "contourcarpet"
           }
          ],
          "heatmap": [
           {
            "colorbar": {
             "outlinewidth": 0,
             "ticks": ""
            },
            "colorscale": [
             [
              0,
              "#0d0887"
             ],
             [
              0.1111111111111111,
              "#46039f"
             ],
             [
              0.2222222222222222,
              "#7201a8"
             ],
             [
              0.3333333333333333,
              "#9c179e"
             ],
             [
              0.4444444444444444,
              "#bd3786"
             ],
             [
              0.5555555555555556,
              "#d8576b"
             ],
             [
              0.6666666666666666,
              "#ed7953"
             ],
             [
              0.7777777777777778,
              "#fb9f3a"
             ],
             [
              0.8888888888888888,
              "#fdca26"
             ],
             [
              1,
              "#f0f921"
             ]
            ],
            "type": "heatmap"
           }
          ],
          "heatmapgl": [
           {
            "colorbar": {
             "outlinewidth": 0,
             "ticks": ""
            },
            "colorscale": [
             [
              0,
              "#0d0887"
             ],
             [
              0.1111111111111111,
              "#46039f"
             ],
             [
              0.2222222222222222,
              "#7201a8"
             ],
             [
              0.3333333333333333,
              "#9c179e"
             ],
             [
              0.4444444444444444,
              "#bd3786"
             ],
             [
              0.5555555555555556,
              "#d8576b"
             ],
             [
              0.6666666666666666,
              "#ed7953"
             ],
             [
              0.7777777777777778,
              "#fb9f3a"
             ],
             [
              0.8888888888888888,
              "#fdca26"
             ],
             [
              1,
              "#f0f921"
             ]
            ],
            "type": "heatmapgl"
           }
          ],
          "histogram": [
           {
            "marker": {
             "pattern": {
              "fillmode": "overlay",
              "size": 10,
              "solidity": 0.2
             }
            },
            "type": "histogram"
           }
          ],
          "histogram2d": [
           {
            "colorbar": {
             "outlinewidth": 0,
             "ticks": ""
            },
            "colorscale": [
             [
              0,
              "#0d0887"
             ],
             [
              0.1111111111111111,
              "#46039f"
             ],
             [
              0.2222222222222222,
              "#7201a8"
             ],
             [
              0.3333333333333333,
              "#9c179e"
             ],
             [
              0.4444444444444444,
              "#bd3786"
             ],
             [
              0.5555555555555556,
              "#d8576b"
             ],
             [
              0.6666666666666666,
              "#ed7953"
             ],
             [
              0.7777777777777778,
              "#fb9f3a"
             ],
             [
              0.8888888888888888,
              "#fdca26"
             ],
             [
              1,
              "#f0f921"
             ]
            ],
            "type": "histogram2d"
           }
          ],
          "histogram2dcontour": [
           {
            "colorbar": {
             "outlinewidth": 0,
             "ticks": ""
            },
            "colorscale": [
             [
              0,
              "#0d0887"
             ],
             [
              0.1111111111111111,
              "#46039f"
             ],
             [
              0.2222222222222222,
              "#7201a8"
             ],
             [
              0.3333333333333333,
              "#9c179e"
             ],
             [
              0.4444444444444444,
              "#bd3786"
             ],
             [
              0.5555555555555556,
              "#d8576b"
             ],
             [
              0.6666666666666666,
              "#ed7953"
             ],
             [
              0.7777777777777778,
              "#fb9f3a"
             ],
             [
              0.8888888888888888,
              "#fdca26"
             ],
             [
              1,
              "#f0f921"
             ]
            ],
            "type": "histogram2dcontour"
           }
          ],
          "mesh3d": [
           {
            "colorbar": {
             "outlinewidth": 0,
             "ticks": ""
            },
            "type": "mesh3d"
           }
          ],
          "parcoords": [
           {
            "line": {
             "colorbar": {
              "outlinewidth": 0,
              "ticks": ""
             }
            },
            "type": "parcoords"
           }
          ],
          "pie": [
           {
            "automargin": true,
            "type": "pie"
           }
          ],
          "scatter": [
           {
            "fillpattern": {
             "fillmode": "overlay",
             "size": 10,
             "solidity": 0.2
            },
            "type": "scatter"
           }
          ],
          "scatter3d": [
           {
            "line": {
             "colorbar": {
              "outlinewidth": 0,
              "ticks": ""
             }
            },
            "marker": {
             "colorbar": {
              "outlinewidth": 0,
              "ticks": ""
             }
            },
            "type": "scatter3d"
           }
          ],
          "scattercarpet": [
           {
            "marker": {
             "colorbar": {
              "outlinewidth": 0,
              "ticks": ""
             }
            },
            "type": "scattercarpet"
           }
          ],
          "scattergeo": [
           {
            "marker": {
             "colorbar": {
              "outlinewidth": 0,
              "ticks": ""
             }
            },
            "type": "scattergeo"
           }
          ],
          "scattergl": [
           {
            "marker": {
             "colorbar": {
              "outlinewidth": 0,
              "ticks": ""
             }
            },
            "type": "scattergl"
           }
          ],
          "scattermapbox": [
           {
            "marker": {
             "colorbar": {
              "outlinewidth": 0,
              "ticks": ""
             }
            },
            "type": "scattermapbox"
           }
          ],
          "scatterpolar": [
           {
            "marker": {
             "colorbar": {
              "outlinewidth": 0,
              "ticks": ""
             }
            },
            "type": "scatterpolar"
           }
          ],
          "scatterpolargl": [
           {
            "marker": {
             "colorbar": {
              "outlinewidth": 0,
              "ticks": ""
             }
            },
            "type": "scatterpolargl"
           }
          ],
          "scatterternary": [
           {
            "marker": {
             "colorbar": {
              "outlinewidth": 0,
              "ticks": ""
             }
            },
            "type": "scatterternary"
           }
          ],
          "surface": [
           {
            "colorbar": {
             "outlinewidth": 0,
             "ticks": ""
            },
            "colorscale": [
             [
              0,
              "#0d0887"
             ],
             [
              0.1111111111111111,
              "#46039f"
             ],
             [
              0.2222222222222222,
              "#7201a8"
             ],
             [
              0.3333333333333333,
              "#9c179e"
             ],
             [
              0.4444444444444444,
              "#bd3786"
             ],
             [
              0.5555555555555556,
              "#d8576b"
             ],
             [
              0.6666666666666666,
              "#ed7953"
             ],
             [
              0.7777777777777778,
              "#fb9f3a"
             ],
             [
              0.8888888888888888,
              "#fdca26"
             ],
             [
              1,
              "#f0f921"
             ]
            ],
            "type": "surface"
           }
          ],
          "table": [
           {
            "cells": {
             "fill": {
              "color": "#EBF0F8"
             },
             "line": {
              "color": "white"
             }
            },
            "header": {
             "fill": {
              "color": "#C8D4E3"
             },
             "line": {
              "color": "white"
             }
            },
            "type": "table"
           }
          ]
         },
         "layout": {
          "annotationdefaults": {
           "arrowcolor": "#2a3f5f",
           "arrowhead": 0,
           "arrowwidth": 1
          },
          "autotypenumbers": "strict",
          "coloraxis": {
           "colorbar": {
            "outlinewidth": 0,
            "ticks": ""
           }
          },
          "colorscale": {
           "diverging": [
            [
             0,
             "#8e0152"
            ],
            [
             0.1,
             "#c51b7d"
            ],
            [
             0.2,
             "#de77ae"
            ],
            [
             0.3,
             "#f1b6da"
            ],
            [
             0.4,
             "#fde0ef"
            ],
            [
             0.5,
             "#f7f7f7"
            ],
            [
             0.6,
             "#e6f5d0"
            ],
            [
             0.7,
             "#b8e186"
            ],
            [
             0.8,
             "#7fbc41"
            ],
            [
             0.9,
             "#4d9221"
            ],
            [
             1,
             "#276419"
            ]
           ],
           "sequential": [
            [
             0,
             "#0d0887"
            ],
            [
             0.1111111111111111,
             "#46039f"
            ],
            [
             0.2222222222222222,
             "#7201a8"
            ],
            [
             0.3333333333333333,
             "#9c179e"
            ],
            [
             0.4444444444444444,
             "#bd3786"
            ],
            [
             0.5555555555555556,
             "#d8576b"
            ],
            [
             0.6666666666666666,
             "#ed7953"
            ],
            [
             0.7777777777777778,
             "#fb9f3a"
            ],
            [
             0.8888888888888888,
             "#fdca26"
            ],
            [
             1,
             "#f0f921"
            ]
           ],
           "sequentialminus": [
            [
             0,
             "#0d0887"
            ],
            [
             0.1111111111111111,
             "#46039f"
            ],
            [
             0.2222222222222222,
             "#7201a8"
            ],
            [
             0.3333333333333333,
             "#9c179e"
            ],
            [
             0.4444444444444444,
             "#bd3786"
            ],
            [
             0.5555555555555556,
             "#d8576b"
            ],
            [
             0.6666666666666666,
             "#ed7953"
            ],
            [
             0.7777777777777778,
             "#fb9f3a"
            ],
            [
             0.8888888888888888,
             "#fdca26"
            ],
            [
             1,
             "#f0f921"
            ]
           ]
          },
          "colorway": [
           "#636efa",
           "#EF553B",
           "#00cc96",
           "#ab63fa",
           "#FFA15A",
           "#19d3f3",
           "#FF6692",
           "#B6E880",
           "#FF97FF",
           "#FECB52"
          ],
          "font": {
           "color": "#2a3f5f"
          },
          "geo": {
           "bgcolor": "white",
           "lakecolor": "white",
           "landcolor": "#E5ECF6",
           "showlakes": true,
           "showland": true,
           "subunitcolor": "white"
          },
          "hoverlabel": {
           "align": "left"
          },
          "hovermode": "closest",
          "mapbox": {
           "style": "light"
          },
          "paper_bgcolor": "white",
          "plot_bgcolor": "#E5ECF6",
          "polar": {
           "angularaxis": {
            "gridcolor": "white",
            "linecolor": "white",
            "ticks": ""
           },
           "bgcolor": "#E5ECF6",
           "radialaxis": {
            "gridcolor": "white",
            "linecolor": "white",
            "ticks": ""
           }
          },
          "scene": {
           "xaxis": {
            "backgroundcolor": "#E5ECF6",
            "gridcolor": "white",
            "gridwidth": 2,
            "linecolor": "white",
            "showbackground": true,
            "ticks": "",
            "zerolinecolor": "white"
           },
           "yaxis": {
            "backgroundcolor": "#E5ECF6",
            "gridcolor": "white",
            "gridwidth": 2,
            "linecolor": "white",
            "showbackground": true,
            "ticks": "",
            "zerolinecolor": "white"
           },
           "zaxis": {
            "backgroundcolor": "#E5ECF6",
            "gridcolor": "white",
            "gridwidth": 2,
            "linecolor": "white",
            "showbackground": true,
            "ticks": "",
            "zerolinecolor": "white"
           }
          },
          "shapedefaults": {
           "line": {
            "color": "#2a3f5f"
           }
          },
          "ternary": {
           "aaxis": {
            "gridcolor": "white",
            "linecolor": "white",
            "ticks": ""
           },
           "baxis": {
            "gridcolor": "white",
            "linecolor": "white",
            "ticks": ""
           },
           "bgcolor": "#E5ECF6",
           "caxis": {
            "gridcolor": "white",
            "linecolor": "white",
            "ticks": ""
           }
          },
          "title": {
           "x": 0.05
          },
          "xaxis": {
           "automargin": true,
           "gridcolor": "white",
           "linecolor": "white",
           "ticks": "",
           "title": {
            "standoff": 15
           },
           "zerolinecolor": "white",
           "zerolinewidth": 2
          },
          "yaxis": {
           "automargin": true,
           "gridcolor": "white",
           "linecolor": "white",
           "ticks": "",
           "title": {
            "standoff": 15
           },
           "zerolinecolor": "white",
           "zerolinewidth": 2
          }
         }
        },
        "title": {
         "text": "Distribution of Funded Amounts by Sector"
        },
        "width": 1000
       }
      }
     },
     "metadata": {},
     "output_type": "display_data"
    }
   ],
   "source": [
    "# Create a Plotly pie chart for the distribution of funded amounts by sector\n",
    "fig = px.pie(\n",
    "    sector_group,\n",
    "    names='sector',\n",
    "    values='funded_amount',\n",
    "    title='Distribution of Funded Amounts by Sector',\n",
    "    height=800,\n",
    "    width= 1000,\n",
    "    color_discrete_sequence=px.colors.qualitative.Dark2\n",
    ")\n",
    "\n",
    "# Show the interactive pie chart\n",
    "fig.show()\n",
    "\n",
    "\n"
   ]
  },
  {
   "cell_type": "markdown",
   "metadata": {},
   "source": [
    "![new plot](newplot2.png)"
   ]
  },
  {
   "cell_type": "markdown",
   "metadata": {},
   "source": [
    "`Observation`\n",
    "\n",
    "1. **Agriculture** received the highest total funded amount, as it is a critical sector for food production and economic development in many regions. Investment in agriculture can improve food security and boost rural economies.\n",
    "\n",
    "2. **Food,** **Retail,** and **Education** sectors also received substantial funding, as they represent essential services and industries with a direct impact on people's lives and economic growth. This reflects a strong demand for support in these areas.\n",
    "\n",
    "3. Sectors like **Arts,** **Entertainment,** and **Wholesale** received comparatively lower funding because they may not have the same level of economic impact or might be considered more niche sectors with lower demand for financing.\n",
    "\n",
    "4. Sectors like **Transportation,** **Manufacturing,** and **Services** received moderate funding, reflecting their significance in providing goods and services and supporting economic activities.\n",
    "\n",
    "5. The **Health,** **Construction,** and **Personal Use** sectors received intermediate funding, indicating the need for financial assistance in areas related to healthcare, infrastructure development, and personal well-being.\n",
    "\n",
    "6. The **Clothing** and **Housing** sectors also received significant funding, underscoring their importance in improving living conditions and supporting local businesses.\n",
    "\n",
    "The observations are explained by considering the economic and societal significance of each sector. Sectors with higher funding often address fundamental needs, while those with lower funding may have lower overall demand or less direct impact on the broader economy."
   ]
  },
  {
   "cell_type": "markdown",
   "metadata": {},
   "source": [
    "#### `Gender analysis`\n"
   ]
  },
  {
   "cell_type": "code",
   "execution_count": 383,
   "metadata": {},
   "outputs": [
    {
     "data": {
      "image/png": "[encoded data removed]",
      "text/plain": [
       "<Figure size 800x600 with 1 Axes>"
      ]
     },
     "metadata": {},
     "output_type": "display_data"
    }
   ],
   "source": [
    "\n",
    "# Create a histplot for the \"gender\" column\n",
    "\n",
    "plt.figure(figsize=(8, 6))\n",
    "sns.histplot(data=final_df, x=\"borrower_genders\", hue=\"borrower_genders\")\n",
    "plt.title(\"Distribution of Borrower Genders\")\n",
    "plt.xlabel(\"Gender\")\n",
    "plt.ylabel(\"Count\")\n",
    "\n",
    "plt.xticks(rotation=45) \n",
    "plt.annotate('Male substantially lower',                \n",
    "             xy=(\"male\", 110000),  \n",
    "            xytext=(\"male\", 150000), \n",
    "             arrowprops={'facecolor' : 'cyan', 'shrink':0.03})\n",
    "\n",
    "plt.show()\n"
   ]
  },
  {
   "cell_type": "markdown",
   "metadata": {},
   "source": [
    "`Observations`\n",
    "\n",
    "1. Female borrowers exhibit a notably higher borrowing frequency compared to male borrowers.\n",
    "\n",
    "2. The presence of specific economic empowerment initiatives is suggested by the higher frequency among female borrowers.\n",
    "\n",
    "3. The data points to increased participation by women in entrepreneurial and business activities, potentially driving higher borrowing rates.\n",
    "\n",
    "4. Gender roles and family support systems may be influencing the borrowing behavior of women.\n",
    "\n",
    "5. Targeted marketing and outreach efforts towards women borrowers may be effective in driving their higher frequency of borrowing.\n",
    "\n",
    "6. Variations in data collection and reporting practices could be contributing to the observed difference in borrowing frequency between genders."
   ]
  },
  {
   "cell_type": "code",
   "execution_count": 384,
   "metadata": {},
   "outputs": [],
   "source": [
    "# Grouping gender by funded amount\n",
    "\n",
    "gender_group = final_df.groupby('borrower_genders').agg({'funded_amount': 'sum'}).reset_index()\n"
   ]
  },
  {
   "cell_type": "code",
   "execution_count": 397,
   "metadata": {},
   "outputs": [
    {
     "data": {
      "image/png": "[encoded data removed]",
      "text/plain": [
       "<Figure size 800x600 with 1 Axes>"
      ]
     },
     "metadata": {},
     "output_type": "display_data"
    }
   ],
   "source": [
    "\n",
    "# Create a bar chart\n",
    "plt.figure(figsize=(8, 6))\n",
    "ax = sns.barplot(data=gender_group, x=\"borrower_genders\", y=\"funded_amount\")\n",
    "\n",
    "# Add hatch patterns to the bars\n",
    "bars = ax.patches\n",
    "hatches = ['*', '+']\n",
    "for bar, hatch in zip(bars, hatches):\n",
    "    bar.set_hatch(hatch)\n",
    "\n",
    "# Annotate each bar with the funded amount\n",
    "for bar in bars:\n",
    "    height = bar.get_height()\n",
    "    ax.annotate(\n",
    "        f'{height:.0f}',  # Format the funded amount as an integer\n",
    "        xy=(bar.get_x() + bar.get_width() / 2, height),\n",
    "        xytext=(0, 3),  # Offset for the annotation\n",
    "        textcoords=\"offset points\",\n",
    "        ha='center',  # Horizontal alignment\n",
    "        va='bottom'  # Vertical alignment\n",
    "    )\n",
    "\n",
    "plt.title(\"Funded Amount by Gender\")\n",
    "plt.xlabel(\"Gender\")\n",
    "plt.ylabel(\"Funded Amount\")\n",
    "\n",
    "plt.show()\n"
   ]
  },
  {
   "cell_type": "markdown",
   "metadata": {},
   "source": [
    "`Observation`\n",
    "\n",
    "1. Female borrowers received a significantly higher total funded amount than male borrowers, indicating a higher demand for financial assistance among women. This could be due to women facing more significant barriers to traditional financial services and thus turning to alternative lending sources.\n",
    "\n",
    "2. Male borrowers received a lower total funded amount, suggesting that they may have more access to traditional financial institutions and, as a result, rely less on alternative sources of financing."
   ]
  },
  {
   "cell_type": "markdown",
   "metadata": {},
   "source": [
    "`Borrower Genders vs. Repayment Interval`"
   ]
  },
  {
   "cell_type": "code",
   "execution_count": 402,
   "metadata": {},
   "outputs": [
    {
     "data": {
      "image/png": "[encoded data removed]",
      "text/plain": [
       "<Figure size 1000x600 with 1 Axes>"
      ]
     },
     "metadata": {},
     "output_type": "display_data"
    }
   ],
   "source": [
    "\n",
    "# Create a countplot\n",
    "\n",
    "plt.figure(figsize=(10, 6))\n",
    "sns.countplot(\n",
    "    data=final_df,\n",
    "    x=\"borrower_genders\",\n",
    "    hue=\"repayment_interval\",\n",
    "    palette=\"Set1\"  \n",
    ")\n",
    "plt.title(\"Borrower Genders vs. Repayment Interval\")\n",
    "plt.xlabel(\"Borrower Genders\")\n",
    "plt.ylabel(\"Count\")\n",
    "plt.xticks(rotation=45)  \n",
    "plt.legend(title=\"Repayment Interval\")\n",
    "\n",
    "plt.show()\n"
   ]
  },
  {
   "cell_type": "markdown",
   "metadata": {},
   "source": [
    "`Observation`\n",
    "\n",
    "1. **Monthly Repayment:** Both female and male borrowers predominantly opt for \"monthly\" repayment intervals. Among females, there are 206,408 cases with a monthly repayment schedule, while males have 74,217 such cases. This suggests that monthly payments are the most common and preferred choice for both genders.\n",
    "\n",
    "2. **Irregular Repayment:** Irregular repayment intervals are more common among female borrowers, with 219,258 cases, compared to 17,734 cases among male borrowers. This could indicate that female borrowers may have more flexible repayment schedules or that their financial situations are more likely to lead to irregular payments.\n",
    "\n",
    "3. **Bullet Repayment:** The data shows that female borrowers also have a higher count of \"bullet\" repayment intervals, with 29,262 cases, compared to 27,236 cases among male borrowers. \"Bullet\" repayments often involve paying off the principal in a lump sum at the end of the loan term, and this choice seems more prevalent among female borrowers.\n",
    "\n",
    "\n",
    "\n"
   ]
  },
  {
   "cell_type": "markdown",
   "metadata": {},
   "source": [
    "`Highest borrowing countries split along gender lines`"
   ]
  },
  {
   "cell_type": "code",
   "execution_count": 435,
   "metadata": {},
   "outputs": [],
   "source": [
    "# Group the 'final_df' DataFrame by both 'country' and 'borrower_genders' and calculate the sum of 'funded_amount' for each group.\n",
    "grouped_data = final_df.groupby([\"country\", \"borrower_genders\"])[\"funded_amount\"].sum().reset_index()\n",
    "\n",
    "# Sort the grouped data by the total 'funded_amount' in descending order to find the top 20 entries.\n",
    "sorted_data = grouped_data.sort_values(by=\"funded_amount\", ascending=False)\n",
    "\n",
    "# Select the top 20 entries with the highest total 'funded_amount'.\n",
    "sorted_data = sorted_data.head(20)\n",
    "\n"
   ]
  },
  {
   "cell_type": "code",
   "execution_count": 487,
   "metadata": {},
   "outputs": [
    {
     "data": {
      "image/png": "[encoded data removed]",
      "text/plain": [
       "<Figure size 1200x600 with 1 Axes>"
      ]
     },
     "metadata": {},
     "output_type": "display_data"
    }
   ],
   "source": [
    "# Define a custom color palette using the \"tab10\" color scheme from Seaborn\n",
    "custom_palette = sns.color_palette(\"tab10\")\n",
    "\n",
    "# Set the custom color palette for Seaborn to use\n",
    "sns.set_palette(custom_palette)\n",
    "\n",
    "# Create a new figure with a specified size for the barplot\n",
    "plt.figure(figsize=(12, 6))\n",
    "\n",
    "# Create a barplot using Seaborn, specifying the data, y-axis as \"country,\" x-axis as \"funded_amount,\" and hue as \"borrower_genders\"\n",
    "sns.barplot(\n",
    "    data=sorted_data,\n",
    "    y=\"country\",\n",
    "    x=\"funded_amount\",\n",
    "    hue=\"borrower_genders\"\n",
    ")\n",
    "\n",
    "# Set the title for the barplot\n",
    "plt.title(\"Top 20 Funded Countries by Borrower Gender\")\n",
    "\n",
    "# Label the y-axis as \"Country\"\n",
    "plt.ylabel(\"Country\")\n",
    "\n",
    "# Label the x-axis as \"Funded Amount\"\n",
    "plt.xlabel(\"Funded Amount\")\n",
    "\n",
    "# Add a legend with the title \"Borrower Gender\"\n",
    "plt.legend(title=\"Borrower Gender\")\n",
    "\n",
    "# Display the barplot\n",
    "plt.show()\n"
   ]
  },
  {
   "cell_type": "markdown",
   "metadata": {},
   "source": [
    "`Observation`\n",
    "\n",
    ">> From the plot, we can derive the following insights:\n",
    "\n",
    "1. **Philippines Leads in Female Borrowing:** The Philippines stands out as the country with the highest total funded amount for female borrowers, indicating a significant demand for financial support among women in this nation.\n",
    "\n",
    "2. **Paraguay and Peru Follow:** Paraguay and Peru also have substantial funding for female borrowers, suggesting the presence of sizable lending programs or initiatives focused on women's financial empowerment in these countries.\n",
    "\n",
    "3. **Kenya Shows Strong Female Participation:** Kenya ranks among the top countries for female borrowing, emphasizing the active participation of women in microfinance and lending activities in this region.\n",
    "\n",
    "4. **Female Borrowing Dominance:** The majority of the countries listed have a higher total funded amount for female borrowers, indicating that women often lead in seeking financial assistance in these areas.\n",
    "\n",
    "5. **Male Borrowing:** While females dominate the funding amounts in most countries, it's worth noting that males also participate in borrowing, with Kenya, Peru, and Uganda showing significant male borrowing activities.\n",
    "\n",
    "6. **Armenia and Lebanon:** Armenia and Lebanon are examples of countries where female borrowers received considerable funding, suggesting that microfinance and lending programs in these nations actively support women.\n",
    "\n",
    "7. **Palestine's Male Borrowing:** Palestine stands out as a country where male borrowers received a substantial amount of funding, highlighting the financial inclusion of males in this region.\n",
    "\n",
    "8. **Overall Gender Inclusivity:** The data reflects gender-inclusive financing activities, with both males and females participating in borrowing, albeit with varying degrees of funding across different countries.\n",
    "\n"
   ]
  },
  {
   "cell_type": "markdown",
   "metadata": {},
   "source": [
    "`Conclusions`:\n",
    "\n",
    "1. **Diverse Global Borrowing Landscape:** The data and observations reveal a diverse global landscape of borrowing activities, with varying borrowing frequencies and funded amounts across different countries and regions.\n",
    "\n",
    "2. **Gender Inclusivity in Microfinance:** The data highlights the active participation of both men and women in microfinance and lending activities. Gender-inclusive microfinance programs are essential to address the unique financial needs of all borrowers.\n",
    "\n",
    "3. **Economic and Regional Variations:** Borrowing patterns are influenced by economic conditions and regional factors. Some countries exhibit higher borrowing rates, potentially due to factors like the presence of microfinance institutions or specific economic activities.\n",
    "\n",
    "4. **Importance of Monthly Repayments:** Monthly repayment intervals are the preferred choice for borrowers in most regions, indicating the importance of offering flexible and manageable repayment schedules.\n",
    "\n",
    "5. **Agriculture and Essential Services:** Sectors like agriculture, food, and education receive substantial funding, emphasizing their significance in economic development and livelihood improvement.\n",
    "\n",
    "6. **Active Participation in South America:** South American countries, such as Peru, Bolivia, and Paraguay, exhibit high borrowing frequencies, possibly driven by common economic activities or financial needs.\n",
    "\n",
    "7. **Significant Borrowing in Southeast Asia:** The Philippines leads in borrowing, underlining the importance of microfinance and online lending platforms in addressing financial needs and promoting financial inclusion in the country.\n",
    "\n",
    "8. **Challenges and Opportunities:** Challenges related to data quality, cultural sensitivity, and regulatory compliance must be addressed when implementing microfinance programs. However, there are substantial opportunities for impact and empowerment through effective microfinance strategies.\n",
    "\n"
   ]
  },
  {
   "cell_type": "markdown",
   "metadata": {},
   "source": [
    "`Recommendations`:\n",
    "\n",
    "1. **Continued Focus on Gender-Inclusive Microfinance:** Given the significant difference in funding amounts and borrowing frequencies between genders, it's essential to continue promoting and supporting gender-inclusive microfinance initiatives. This can include targeted marketing, financial literacy programs, and entrepreneurship support for both men and women.\n",
    "\n",
    "2. **Country-Specific Strategies:** Tailor microfinance strategies to the unique needs and demands of each country. For example, in countries like the Philippines and Paraguay where female borrowing is high, create and expand programs that empower women economically. In regions with lower female borrowing, explore strategies to promote gender balance.\n",
    "\n",
    "3. **Data Quality and Consistency:** Ensure that data collection methods are consistent and reliable across all regions. Invest in data quality checks and verification processes to reduce potential biases in reporting.\n",
    "\n",
    "4. **Monitoring and Evaluation Tools:** Implement data analytics and reporting tools to track borrowing trends over time. Tools like Tableau or Power BI can help create dynamic dashboards for visualizing and reporting on the data.\n",
    "\n",
    "5. **Feedback Mechanisms:** Establish feedback mechanisms for borrowers to provide input on their experiences and needs. This can be done through surveys, interviews, or focus group discussions to fine-tune microfinance programs.\n",
    "\n",
    "6. **Social and Economic Research:** Collaborate with research institutions to conduct in-depth studies on the impact of microfinance on both genders. Understand the social and economic factors that influence borrowing behavior and repayment intervals.\n",
    "\n",
    "`Challenges`:\n",
    "\n",
    "1. **Data Privacy and Security:** Managing sensitive financial data requires robust security measures to protect borrower information.\n",
    "\n",
    "2. **Cultural Sensitivity:** Different regions have unique cultural norms and expectations regarding financial matters. Implementing strategies should respect and align with these cultural sensitivities.\n",
    "\n",
    "3. **Economic Fluctuations:** Economic conditions can change, impacting borrowing behavior. Be prepared to adapt strategies in response to economic shifts.\n",
    "\n",
    "4. **Regulatory Compliance:** Ensure compliance with financial regulations in each country to avoid legal issues.\n",
    "\n",
    "5. **Impact Measurement:** Measuring the impact of microfinance programs can be complex and may require longitudinal studies to determine their effectiveness.\n",
    "\n",
    "6. **Diversity of Borrowers:** Recognize that the borrower base is diverse, and a one-size-fits-all approach may not be suitable for all regions and demographics.\n",
    "\n"
   ]
  },
  {
   "cell_type": "markdown",
   "metadata": {},
   "source": [
    "\n",
    "\n",
    "**1. For Tracking and Reporting Metrics:**\n",
    "\n",
    "   - **Tool Recommendation:** Use **Tableau** or **Power BI** to create customized dashboards and reports based on your dataset. These tools allow you to visually track and report on borrowing frequencies, funded amounts, and repayment intervals, providing dynamic insights specific to your data.\n",
    "\n",
    "**2. Gender-Inclusive Microfinance Strategies:**\n",
    "\n",
    "   - **Recommendation:** Develop and implement tailored microfinance strategies based on data-driven insights for countries where significant gender disparities are observed. Collaborate with women's empowerment organizations and conduct ethnographic research to address the unique financial needs of female borrowers.\n",
    "\n",
    "**3. Country-Specific Strategies:**\n",
    "\n",
    "   - **Recommendation:** Customize microfinance strategies to align with the economic and cultural contexts of each country. Utilize GIS tools like **ArcGIS** to map borrowing trends and identify regions where country-specific strategies are needed.\n",
    "\n",
    "**4. Data Quality and Consistency:**\n",
    "\n",
    "   - **Recommendation:** Implement data quality checks and validation processes within your chosen data analytics tool (e.g., Tableau or Power BI). Ensure that data is consistently collected, categorized, and reported accurately to reduce potential biases in gender or country-specific metrics.\n",
    "\n",
    "**5. Monitoring and Evaluation Tools:**\n",
    "\n",
    "   - **Tool Recommendation:** Use customized dashboards in **Tableau** or **Power BI** to monitor the effectiveness of microfinance programs and track changes in borrowing trends over time. Visualize the impact of gender-inclusive strategies and country-specific initiatives.\n",
    "\n",
    "**6. Feedback Mechanisms:**\n",
    "\n",
    "   - **Recommendation:** Employ online survey tools such as **SurveyMonkey** or **Qualtrics** to gather direct feedback from borrowers. Use these surveys to assess borrower experiences, identify areas for improvement, and refine microfinance strategies.\n",
    "\n",
    "**7. Advanced Data Analytics and Machine Learning:**\n",
    "\n",
    "   - **Recommendation:** Utilize advanced data analytics tools like Python with libraries such as Pandas, NumPy, and Scikit-Learn for in-depth data analysis. Consider applying machine learning models to predict borrowing trends and optimize lending strategies specific to your dataset.\n",
    "\n",
    "**8. Microfinance Management Software:**\n",
    "\n",
    "   - **Recommendation:** Explore the adoption of microfinance management software tailored to your organization's specific needs. Utilize software like **Mambu** or **NLS Banking Solutions** to streamline operations, monitor borrower activities, and generate custom reports based on gender and location.\n",
    "\n",
    "**9. Social Impact Assessment:**\n",
    "\n",
    "   - **Recommendation:** Implement the Social Return on Investment (SROI) framework to assess the broader social and economic impacts of microfinance initiatives, considering the specific dataset and observations. Quantify the positive effects of lending programs in a way that aligns with your data.\n",
    "\n",
    "**10. Ethnographic Research and Fieldwork:**\n",
    "\n",
    "   - **Recommendation:** Conduct ethnographic research and fieldwork in regions where significant borrowing disparities between genders or countries are observed. This approach will provide in-depth insights into cultural and social factors influencing borrowing behavior, directly addressing your data-specific observations.\n",
    "\n"
   ]
  }
 ],
 "metadata": {
  "kernelspec": {
   "display_name": "cleaner",
   "language": "python",
   "name": "ron"
  },
  "language_info": {
   "codemirror_mode": {
    "name": "ipython",
    "version": 3
   },
   "file_extension": ".py",
   "mimetype": "text/x-python",
   "name": "python",
   "nbconvert_exporter": "python",
   "pygments_lexer": "ipython3",
   "version": "3.11.3"
  }
 },
 "nbformat": 4,
 "nbformat_minor": 2
}
